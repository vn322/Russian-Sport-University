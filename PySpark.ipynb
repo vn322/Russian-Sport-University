{
  "nbformat": 4,
  "nbformat_minor": 0,
  "metadata": {
    "colab": {
      "provenance": [],
      "authorship_tag": "ABX9TyMCz2BnbBffb4etc64ing5+",
      "include_colab_link": true
    },
    "kernelspec": {
      "name": "python3",
      "display_name": "Python 3"
    },
    "language_info": {
      "name": "python"
    }
  },
  "cells": [
    {
      "cell_type": "markdown",
      "metadata": {
        "id": "view-in-github",
        "colab_type": "text"
      },
      "source": [
        "<a href=\"https://colab.research.google.com/github/vn322/Sport-University/blob/main/PySpark.ipynb\" target=\"_parent\"><img src=\"https://colab.research.google.com/assets/colab-badge.svg\" alt=\"Open In Colab\"/></a>"
      ]
    },
    {
      "cell_type": "code",
      "source": [
        "pip install pyspark\n"
      ],
      "metadata": {
        "id": "vq0d6wUVnAIv",
        "colab": {
          "base_uri": "https://localhost:8080/"
        },
        "outputId": "6eeec82f-67ab-4594-db41-8431c981eaf3"
      },
      "execution_count": 3,
      "outputs": [
        {
          "output_type": "stream",
          "name": "stdout",
          "text": [
            "Looking in indexes: https://pypi.org/simple, https://us-python.pkg.dev/colab-wheels/public/simple/\n",
            "Collecting pyspark\n",
            "  Downloading pyspark-3.3.2.tar.gz (281.4 MB)\n",
            "\u001b[2K     \u001b[90m━━━━━━━━━━━━━━━━━━━━━━━━━━━━━━━━━━━━━━━\u001b[0m \u001b[32m281.4/281.4 MB\u001b[0m \u001b[31m4.5 MB/s\u001b[0m eta \u001b[36m0:00:00\u001b[0m\n",
            "\u001b[?25h  Preparing metadata (setup.py) ... \u001b[?25l\u001b[?25hdone\n",
            "Collecting py4j==0.10.9.5\n",
            "  Downloading py4j-0.10.9.5-py2.py3-none-any.whl (199 kB)\n",
            "\u001b[2K     \u001b[90m━━━━━━━━━━━━━━━━━━━━━━━━━━━━━━━━━━━━━━\u001b[0m \u001b[32m199.7/199.7 KB\u001b[0m \u001b[31m20.0 MB/s\u001b[0m eta \u001b[36m0:00:00\u001b[0m\n",
            "\u001b[?25hBuilding wheels for collected packages: pyspark\n",
            "  Building wheel for pyspark (setup.py) ... \u001b[?25l\u001b[?25hdone\n",
            "  Created wheel for pyspark: filename=pyspark-3.3.2-py2.py3-none-any.whl size=281824025 sha256=2f78b868c4a806ecc8fee810f7e2d8135f3ec72417f587078c94791b46a860b8\n",
            "  Stored in directory: /root/.cache/pip/wheels/b1/59/a0/a1a0624b5e865fd389919c1a10f53aec9b12195d6747710baf\n",
            "Successfully built pyspark\n",
            "Installing collected packages: py4j, pyspark\n",
            "Successfully installed py4j-0.10.9.5 pyspark-3.3.2\n"
          ]
        }
      ]
    },
    {
      "cell_type": "code",
      "source": [
        "# importing required libraries and initializing spark session\n",
        "from pyspark.sql import SparkSession\n",
        "import numpy as np\n",
        "import pandas as pd\n",
        "#create instance of spark class \n",
        "spark=SparkSession.builder.appName('project').getOrCreate()\n",
        "\n",
        "spark"
      ],
      "metadata": {
        "colab": {
          "base_uri": "https://localhost:8080/",
          "height": 219
        },
        "id": "DAYFpHHd84Pt",
        "outputId": "f6452666-287d-4739-98a0-7438945bff59"
      },
      "execution_count": 4,
      "outputs": [
        {
          "output_type": "execute_result",
          "data": {
            "text/plain": [
              "<pyspark.sql.session.SparkSession at 0x7f74a9626dc0>"
            ],
            "text/html": [
              "\n",
              "            <div>\n",
              "                <p><b>SparkSession - in-memory</b></p>\n",
              "                \n",
              "        <div>\n",
              "            <p><b>SparkContext</b></p>\n",
              "\n",
              "            <p><a href=\"http://47c216da7d5f:4040\">Spark UI</a></p>\n",
              "\n",
              "            <dl>\n",
              "              <dt>Version</dt>\n",
              "                <dd><code>v3.3.2</code></dd>\n",
              "              <dt>Master</dt>\n",
              "                <dd><code>local[*]</code></dd>\n",
              "              <dt>AppName</dt>\n",
              "                <dd><code>project</code></dd>\n",
              "            </dl>\n",
              "        </div>\n",
              "        \n",
              "            </div>\n",
              "        "
            ]
          },
          "metadata": {},
          "execution_count": 4
        }
      ]
    },
    {
      "cell_type": "code",
      "source": [
        "import pyspark.sql.functions as f\n",
        "#importing the cleaned olympics dataset and creating a pyspark dataframe \n",
        "file_location = \"/content/olympix_master_cleaned.csv\"\n",
        "df = spark.read.format(\"csv\").option(\"header\", \"true\").option(\"inferSchema\", \"true\").load(file_location)\n",
        "# Taking a glimpse of the pyspark dataframe created using show function\n",
        "df.show()"
      ],
      "metadata": {
        "colab": {
          "base_uri": "https://localhost:8080/"
        },
        "id": "9hemZRhi88oM",
        "outputId": "8147c4f9-43ff-4860-e730-54545ce31c80"
      },
      "execution_count": 9,
      "outputs": [
        {
          "output_type": "stream",
          "name": "stdout",
          "text": [
            "+--------------------+----+-------------+----+----------+--------------------+----------+------------+-----------+-----------+\n",
            "|                name| age|      country|year|Date_Given|              sports|gold_medal|silver_medal|brone_medal|total_medal|\n",
            "+--------------------+----+-------------+----+----------+--------------------+----------+------------+-----------+-----------+\n",
            "|      Michael Phelps|23.0|United States|2008| 8/24/2008|            Swimming|         8|           0|          0|          8|\n",
            "|      Michael Phelps|19.0|United States|2004| 8/29/2004|            Swimming|         6|           0|          2|          8|\n",
            "|      Michael Phelps|27.0|United States|2012|08-12-2012|            Swimming|         4|           2|          0|          6|\n",
            "|    Natalie Coughlin|25.0|United States|2008| 8/24/2008|            Swimming|         1|           2|          3|          6|\n",
            "|       Aleksey Nemov|24.0|       Russia|2000|10-01-2000|          Gymnastics|         2|           1|          3|          6|\n",
            "|       Alicia Coutts|24.0|    Australia|2012|08-12-2012|            Swimming|         1|           3|          1|          5|\n",
            "|      Missy Franklin|17.0|United States|2012|08-12-2012|            Swimming|         4|           0|          1|          5|\n",
            "|         Ryan Lochte|27.0|United States|2012|08-12-2012|            Swimming|         2|           2|          1|          5|\n",
            "|     Allison Schmitt|22.0|United States|2012|08-12-2012|            Swimming|         3|           1|          1|          5|\n",
            "|    Natalie Coughlin|21.0|United States|2004| 8/29/2004|            Swimming|         2|           2|          1|          5|\n",
            "|          Ian Thorpe|17.0|    Australia|2000|10-01-2000|            Swimming|         3|           2|          0|          5|\n",
            "|         Dara Torres|33.0|United States|2000|10-01-2000|            Swimming|         2|           0|          3|          5|\n",
            "|       Cindy Klassen|26.0|       Canada|2006| 2/26/2006|       Speed Skating|         1|           2|          2|          5|\n",
            "|       Nastia Liukin|18.0|United States|2008| 8/24/2008|          Gymnastics|         1|           3|          1|          5|\n",
            "|        Marit Bjrgen|29.0|       Norway|2010| 2/28/2010|Cross Country Skiing|         3|           1|          1|          5|\n",
            "|            Sun Yang|20.0|        China|2012|08-12-2012|            Swimming|         2|           1|          1|          4|\n",
            "|     Kirsty Coventry|24.0|     Zimbabwe|2008| 8/24/2008|            Swimming|         1|           3|          0|          4|\n",
            "|Libby LentonTrickett|23.0|    Australia|2008| 8/24/2008|            Swimming|         2|           1|          1|          4|\n",
            "|         Ryan Lochte|24.0|United States|2008| 8/24/2008|            Swimming|         2|           0|          2|          4|\n",
            "|      Inge de Bruijn|30.0|  Netherlands|2004| 8/29/2004|            Swimming|         1|           1|          2|          4|\n",
            "+--------------------+----+-------------+----+----------+--------------------+----------+------------+-----------+-----------+\n",
            "only showing top 20 rows\n",
            "\n"
          ]
        }
      ]
    },
    {
      "cell_type": "code",
      "source": [
        "# Creating a dataframe with set of sports as sports column contains repeated values. \n",
        "df1=df.select(f.collect_set(\"sports\"))\n",
        "df1 = df1.withColumnRenamed(\"collect_set(sports)\",\"Olympic_Sports/games\")\n",
        "df1.show(truncate=False)"
      ],
      "metadata": {
        "colab": {
          "base_uri": "https://localhost:8080/"
        },
        "id": "fvwSHilI-m_K",
        "outputId": "99104769-e635-4759-9894-38d21f65f14f"
      },
      "execution_count": 11,
      "outputs": [
        {
          "output_type": "stream",
          "name": "stdout",
          "text": [
            "+---------------------------------------------------------------------------------------------------------------------------------------------------------------------------------------------------------------------------------------------------------------------------------------------------------------------------------------------------------------------------------------------------------------------------------------------------------------------------------------------------------------------------------------------------------------------------------------------------------------------------+\n",
            "|Olympic_Sports/games                                                                                                                                                                                                                                                                                                                                                                                                                                                                                                                                                                                                       |\n",
            "+---------------------------------------------------------------------------------------------------------------------------------------------------------------------------------------------------------------------------------------------------------------------------------------------------------------------------------------------------------------------------------------------------------------------------------------------------------------------------------------------------------------------------------------------------------------------------------------------------------------------------+\n",
            "|[Swimming, Beach Volleyball, Modern Pentathlon, Table Tennis, Sailing, Wrestling, Curling, Synchronized Swimming, Rhythmic Gymnastics, Athletics, Gymnastics, Ski Jumping, Rowing, Speed Skating, Ice Hockey, Weightlifting, Handball, Luge, Cycling, Biathlon, Canoeing, Softball, Snowboarding, Trampoline, Shooting, Baseball, Cross Country Skiing, Volleyball, Archery, Waterpolo, Diving, Judo, Basketball, Bobsleigh, Badminton, Equestrian, Nordic Combined, Triathlon, Hockey, Short-Track Speed Skating, Tennis, Fencing, Alpine Skiing, Skeleton, Boxing, Football, Taekwondo, Freestyle Skiing, Figure Skating]|\n",
            "+---------------------------------------------------------------------------------------------------------------------------------------------------------------------------------------------------------------------------------------------------------------------------------------------------------------------------------------------------------------------------------------------------------------------------------------------------------------------------------------------------------------------------------------------------------------------------------------------------------------------------+\n",
            "\n"
          ]
        }
      ]
    },
    {
      "cell_type": "code",
      "source": [
        "df.select(f.countDistinct('sports')).show()"
      ],
      "metadata": {
        "colab": {
          "base_uri": "https://localhost:8080/"
        },
        "id": "aLwzC4DG_Tkz",
        "outputId": "2c439568-d9fb-4e1c-9081-861cd49fe5c5"
      },
      "execution_count": 12,
      "outputs": [
        {
          "output_type": "stream",
          "name": "stdout",
          "text": [
            "+----------------------+\n",
            "|count(DISTINCT sports)|\n",
            "+----------------------+\n",
            "|                    49|\n",
            "+----------------------+\n",
            "\n"
          ]
        }
      ]
    },
    {
      "cell_type": "code",
      "source": [
        "# Counting the frequency of each distinct sports in the dataset using groupby function\n",
        "df.groupBy('sports').count().show(df.count(),False)"
      ],
      "metadata": {
        "colab": {
          "base_uri": "https://localhost:8080/"
        },
        "id": "6h1bE1PG_aRr",
        "outputId": "a8c338bb-129d-41da-a789-541596146a2f"
      },
      "execution_count": 13,
      "outputs": [
        {
          "output_type": "stream",
          "name": "stdout",
          "text": [
            "+-------------------------+-----+\n",
            "|sports                   |count|\n",
            "+-------------------------+-----+\n",
            "|Gymnastics               |194  |\n",
            "|Tennis                   |71   |\n",
            "|Boxing                   |188  |\n",
            "|Short-Track Speed Skating|96   |\n",
            "|Ice Hockey               |384  |\n",
            "|Rowing                   |567  |\n",
            "|Judo                     |224  |\n",
            "|Softball                 |134  |\n",
            "|Sailing                  |210  |\n",
            "|Swimming                 |487  |\n",
            "|Alpine Skiing            |61   |\n",
            "|Basketball               |287  |\n",
            "|Handball                 |351  |\n",
            "|Rhythmic Gymnastics      |84   |\n",
            "|Biathlon                 |94   |\n",
            "|Triathlon                |24   |\n",
            "|Badminton                |91   |\n",
            "|Athletics                |687  |\n",
            "|Figure Skating           |54   |\n",
            "|Beach Volleyball         |48   |\n",
            "|Equestrian               |157  |\n",
            "|Shooting                 |181  |\n",
            "|Diving                   |113  |\n",
            "|Skeleton                 |18   |\n",
            "|Ski Jumping              |40   |\n",
            "|Nordic Combined          |39   |\n",
            "|Wrestling                |245  |\n",
            "|Speed Skating            |103  |\n",
            "|Table Tennis             |67   |\n",
            "|Taekwondo                |112  |\n",
            "|Canoeing                 |295  |\n",
            "|Weightlifting            |180  |\n",
            "|Waterpolo                |306  |\n",
            "|Baseball                 |216  |\n",
            "|Modern Pentathlon        |24   |\n",
            "|Snowboarding             |48   |\n",
            "|Bobsleigh                |66   |\n",
            "|Cycling                  |261  |\n",
            "|Cross Country Skiing     |128  |\n",
            "|Volleyball               |278  |\n",
            "|Archery                  |84   |\n",
            "|Synchronized Swimming    |109  |\n",
            "|Curling                  |82   |\n",
            "|Fencing                  |230  |\n",
            "|Hockey                   |386  |\n",
            "|Freestyle Skiing         |42   |\n",
            "|Football                 |407  |\n",
            "|Luge                     |36   |\n",
            "|Trampoline               |24   |\n",
            "+-------------------------+-----+\n",
            "\n"
          ]
        }
      ]
    },
    {
      "cell_type": "code",
      "source": [
        "df2 = df.groupBy([\"sports\"]).sum(\"total_medal\")\n",
        "df2.orderBy('sports').show(df2.count(),False)"
      ],
      "metadata": {
        "colab": {
          "base_uri": "https://localhost:8080/"
        },
        "id": "C1zhwXQp_pNq",
        "outputId": "4dbe0663-3d67-4b3d-e66b-fa56ce89f362"
      },
      "execution_count": 14,
      "outputs": [
        {
          "output_type": "stream",
          "name": "stdout",
          "text": [
            "+-------------------------+----------------+\n",
            "|sports                   |sum(total_medal)|\n",
            "+-------------------------+----------------+\n",
            "|Alpine Skiing            |90              |\n",
            "|Archery                  |96              |\n",
            "|Athletics                |753             |\n",
            "|Badminton                |96              |\n",
            "|Baseball                 |216             |\n",
            "|Basketball               |287             |\n",
            "|Beach Volleyball         |48              |\n",
            "|Biathlon                 |138             |\n",
            "|Bobsleigh                |72              |\n",
            "|Boxing                   |188             |\n",
            "|Canoeing                 |333             |\n",
            "|Cross Country Skiing     |174             |\n",
            "|Curling                  |82              |\n",
            "|Cycling                  |306             |\n",
            "|Diving                   |144             |\n",
            "|Equestrian               |182             |\n",
            "|Fencing                  |256             |\n",
            "|Figure Skating           |54              |\n",
            "|Football                 |407             |\n",
            "|Freestyle Skiing         |42              |\n",
            "|Gymnastics               |282             |\n",
            "|Handball                 |351             |\n",
            "|Hockey                   |386             |\n",
            "|Ice Hockey               |384             |\n",
            "|Judo                     |224             |\n",
            "|Luge                     |36              |\n",
            "|Modern Pentathlon        |24              |\n",
            "|Nordic Combined          |54              |\n",
            "|Rhythmic Gymnastics      |84              |\n",
            "|Rowing                   |576             |\n",
            "|Sailing                  |210             |\n",
            "|Shooting                 |192             |\n",
            "|Short-Track Speed Skating|138             |\n",
            "|Skeleton                 |18              |\n",
            "|Ski Jumping              |54              |\n",
            "|Snowboarding             |48              |\n",
            "|Softball                 |134             |\n",
            "|Speed Skating            |140             |\n",
            "|Swimming                 |765             |\n",
            "|Synchronized Swimming    |129             |\n",
            "|Table Tennis             |84              |\n",
            "|Taekwondo                |112             |\n",
            "|Tennis                   |78              |\n",
            "|Trampoline               |24              |\n",
            "|Triathlon                |24              |\n",
            "|Volleyball               |278             |\n",
            "|Waterpolo                |306             |\n",
            "|Weightlifting            |180             |\n",
            "|Wrestling                |245             |\n",
            "+-------------------------+----------------+\n",
            "\n"
          ]
        }
      ]
    },
    {
      "cell_type": "code",
      "source": [
        "# Creating a dataframe by grouping sports yearwise and taking total medal count for that year for that sport\n",
        "df3 = df.groupBy(['year',\"sports\"]).sum(\"total_medal\")\n",
        "df3.orderBy('year','sports').show(df3.count(),False)"
      ],
      "metadata": {
        "colab": {
          "base_uri": "https://localhost:8080/"
        },
        "id": "VFDaKwXL_tBa",
        "outputId": "b1861ab8-0bdd-4c56-b430-48eda643fa0b"
      },
      "execution_count": 15,
      "outputs": [
        {
          "output_type": "stream",
          "name": "stdout",
          "text": [
            "+----+-------------------------+----------------+\n",
            "|year|sports                   |sum(total_medal)|\n",
            "+----+-------------------------+----------------+\n",
            "|2000|Archery                  |24              |\n",
            "|2000|Athletics                |190             |\n",
            "|2000|Badminton                |24              |\n",
            "|2000|Baseball                 |72              |\n",
            "|2000|Basketball               |71              |\n",
            "|2000|Beach Volleyball         |12              |\n",
            "|2000|Boxing                   |48              |\n",
            "|2000|Canoeing                 |84              |\n",
            "|2000|Cycling                  |74              |\n",
            "|2000|Diving                   |36              |\n",
            "|2000|Equestrian               |45              |\n",
            "|2000|Fencing                  |66              |\n",
            "|2000|Football                 |99              |\n",
            "|2000|Gymnastics               |72              |\n",
            "|2000|Handball                 |90              |\n",
            "|2000|Hockey                   |96              |\n",
            "|2000|Judo                     |56              |\n",
            "|2000|Modern Pentathlon        |6               |\n",
            "|2000|Rhythmic Gymnastics      |21              |\n",
            "|2000|Rowing                   |144             |\n",
            "|2000|Sailing                  |54              |\n",
            "|2000|Shooting                 |51              |\n",
            "|2000|Softball                 |45              |\n",
            "|2000|Swimming                 |185             |\n",
            "|2000|Synchronized Swimming    |31              |\n",
            "|2000|Table Tennis             |18              |\n",
            "|2000|Taekwondo                |24              |\n",
            "|2000|Tennis                   |18              |\n",
            "|2000|Trampoline               |6               |\n",
            "|2000|Triathlon                |6               |\n",
            "|2000|Volleyball               |67              |\n",
            "|2000|Waterpolo                |77              |\n",
            "|2000|Weightlifting            |45              |\n",
            "|2000|Wrestling                |48              |\n",
            "|2002|Alpine Skiing            |30              |\n",
            "|2002|Biathlon                 |42              |\n",
            "|2002|Bobsleigh                |24              |\n",
            "|2002|Cross Country Skiing     |54              |\n",
            "|2002|Curling                  |30              |\n",
            "|2002|Figure Skating           |18              |\n",
            "|2002|Freestyle Skiing         |12              |\n",
            "|2002|Ice Hockey               |126             |\n",
            "|2002|Luge                     |12              |\n",
            "|2002|Nordic Combined          |18              |\n",
            "|2002|Short-Track Speed Skating|46              |\n",
            "|2002|Skeleton                 |6               |\n",
            "|2002|Ski Jumping              |18              |\n",
            "|2002|Snowboarding             |12              |\n",
            "|2002|Speed Skating            |30              |\n",
            "|2004|Archery                  |24              |\n",
            "|2004|Athletics                |183             |\n",
            "|2004|Badminton                |24              |\n",
            "|2004|Baseball                 |72              |\n",
            "|2004|Basketball               |72              |\n",
            "|2004|Beach Volleyball         |12              |\n",
            "|2004|Boxing                   |44              |\n",
            "|2004|Canoeing                 |84              |\n",
            "|2004|Cycling                  |76              |\n",
            "|2004|Diving                   |36              |\n",
            "|2004|Equestrian               |47              |\n",
            "|2004|Fencing                  |61              |\n",
            "|2004|Football                 |101             |\n",
            "|2004|Gymnastics               |72              |\n",
            "|2004|Handball                 |89              |\n",
            "|2004|Hockey                   |96              |\n",
            "|2004|Judo                     |56              |\n",
            "|2004|Modern Pentathlon        |6               |\n",
            "|2004|Rhythmic Gymnastics      |21              |\n",
            "|2004|Rowing                   |144             |\n",
            "|2004|Sailing                  |54              |\n",
            "|2004|Shooting                 |51              |\n",
            "|2004|Softball                 |44              |\n",
            "|2004|Swimming                 |185             |\n",
            "|2004|Synchronized Swimming    |33              |\n",
            "|2004|Table Tennis             |18              |\n",
            "|2004|Taekwondo                |24              |\n",
            "|2004|Tennis                   |18              |\n",
            "|2004|Trampoline               |6               |\n",
            "|2004|Triathlon                |6               |\n",
            "|2004|Volleyball               |70              |\n",
            "|2004|Waterpolo                |76              |\n",
            "|2004|Weightlifting            |45              |\n",
            "|2004|Wrestling                |54              |\n",
            "|2006|Alpine Skiing            |30              |\n",
            "|2006|Biathlon                 |48              |\n",
            "|2006|Bobsleigh                |24              |\n",
            "|2006|Cross Country Skiing     |60              |\n",
            "|2006|Curling                  |26              |\n",
            "|2006|Figure Skating           |18              |\n",
            "|2006|Freestyle Skiing         |12              |\n",
            "|2006|Ice Hockey               |131             |\n",
            "|2006|Luge                     |12              |\n",
            "|2006|Nordic Combined          |18              |\n",
            "|2006|Short-Track Speed Skating|46              |\n",
            "|2006|Skeleton                 |6               |\n",
            "|2006|Ski Jumping              |18              |\n",
            "|2006|Snowboarding             |18              |\n",
            "|2006|Speed Skating            |59              |\n",
            "|2008|Archery                  |24              |\n",
            "|2008|Athletics                |188             |\n",
            "|2008|Badminton                |24              |\n",
            "|2008|Baseball                 |72              |\n",
            "|2008|Basketball               |72              |\n",
            "|2008|Beach Volleyball         |12              |\n",
            "|2008|Boxing                   |44              |\n",
            "|2008|Canoeing                 |84              |\n",
            "|2008|Cycling                  |75              |\n",
            "|2008|Diving                   |36              |\n",
            "|2008|Equestrian               |45              |\n",
            "|2008|Fencing                  |63              |\n",
            "|2008|Football                 |102             |\n",
            "|2008|Gymnastics               |72              |\n",
            "|2008|Handball                 |85              |\n",
            "|2008|Hockey                   |98              |\n",
            "|2008|Judo                     |56              |\n",
            "|2008|Modern Pentathlon        |6               |\n",
            "|2008|Rhythmic Gymnastics      |21              |\n",
            "|2008|Rowing                   |144             |\n",
            "|2008|Sailing                  |54              |\n",
            "|2008|Shooting                 |45              |\n",
            "|2008|Softball                 |45              |\n",
            "|2008|Swimming                 |200             |\n",
            "|2008|Synchronized Swimming    |32              |\n",
            "|2008|Table Tennis             |24              |\n",
            "|2008|Taekwondo                |32              |\n",
            "|2008|Tennis                   |18              |\n",
            "|2008|Trampoline               |6               |\n",
            "|2008|Triathlon                |6               |\n",
            "|2008|Volleyball               |72              |\n",
            "|2008|Waterpolo                |77              |\n",
            "|2008|Weightlifting            |45              |\n",
            "|2008|Wrestling                |71              |\n",
            "|2010|Alpine Skiing            |30              |\n",
            "|2010|Biathlon                 |48              |\n",
            "|2010|Bobsleigh                |24              |\n",
            "|2010|Cross Country Skiing     |60              |\n",
            "|2010|Curling                  |26              |\n",
            "|2010|Figure Skating           |18              |\n",
            "|2010|Freestyle Skiing         |18              |\n",
            "|2010|Ice Hockey               |127             |\n",
            "|2010|Luge                     |12              |\n",
            "|2010|Nordic Combined          |18              |\n",
            "|2010|Short-Track Speed Skating|46              |\n",
            "|2010|Skeleton                 |6               |\n",
            "|2010|Ski Jumping              |18              |\n",
            "|2010|Snowboarding             |18              |\n",
            "|2010|Speed Skating            |51              |\n",
            "|2012|Archery                  |24              |\n",
            "|2012|Athletics                |192             |\n",
            "|2012|Badminton                |24              |\n",
            "|2012|Basketball               |72              |\n",
            "|2012|Beach Volleyball         |12              |\n",
            "|2012|Boxing                   |52              |\n",
            "|2012|Canoeing                 |81              |\n",
            "|2012|Cycling                  |81              |\n",
            "|2012|Diving                   |36              |\n",
            "|2012|Equestrian               |45              |\n",
            "|2012|Fencing                  |66              |\n",
            "|2012|Football                 |105             |\n",
            "|2012|Gymnastics               |66              |\n",
            "|2012|Handball                 |87              |\n",
            "|2012|Hockey                   |96              |\n",
            "|2012|Judo                     |56              |\n",
            "|2012|Modern Pentathlon        |6               |\n",
            "|2012|Rhythmic Gymnastics      |21              |\n",
            "|2012|Rowing                   |144             |\n",
            "|2012|Sailing                  |48              |\n",
            "|2012|Shooting                 |45              |\n",
            "|2012|Swimming                 |195             |\n",
            "|2012|Synchronized Swimming    |33              |\n",
            "|2012|Table Tennis             |24              |\n",
            "|2012|Taekwondo                |32              |\n",
            "|2012|Tennis                   |24              |\n",
            "|2012|Trampoline               |6               |\n",
            "|2012|Triathlon                |6               |\n",
            "|2012|Volleyball               |69              |\n",
            "|2012|Waterpolo                |76              |\n",
            "|2012|Weightlifting            |45              |\n",
            "|2012|Wrestling                |72              |\n",
            "+----+-------------------------+----------------+\n",
            "\n"
          ]
        }
      ]
    },
    {
      "cell_type": "code",
      "source": [
        "# using orderBy to sort results and using groupby on sports with aggregate function sum on total medals \n",
        "df4 = df.groupBy(\"sports\").sum(\"total_medal\")\n",
        "df4.orderBy('sum(total_medal)',ascending=False).show(df4.count(),False)"
      ],
      "metadata": {
        "colab": {
          "base_uri": "https://localhost:8080/"
        },
        "id": "l5j9hhRXAAYy",
        "outputId": "742c7558-0716-4f1b-8b48-cf47be06c233"
      },
      "execution_count": 16,
      "outputs": [
        {
          "output_type": "stream",
          "name": "stdout",
          "text": [
            "+-------------------------+----------------+\n",
            "|sports                   |sum(total_medal)|\n",
            "+-------------------------+----------------+\n",
            "|Swimming                 |765             |\n",
            "|Athletics                |753             |\n",
            "|Rowing                   |576             |\n",
            "|Football                 |407             |\n",
            "|Hockey                   |386             |\n",
            "|Ice Hockey               |384             |\n",
            "|Handball                 |351             |\n",
            "|Canoeing                 |333             |\n",
            "|Waterpolo                |306             |\n",
            "|Cycling                  |306             |\n",
            "|Basketball               |287             |\n",
            "|Gymnastics               |282             |\n",
            "|Volleyball               |278             |\n",
            "|Fencing                  |256             |\n",
            "|Wrestling                |245             |\n",
            "|Judo                     |224             |\n",
            "|Baseball                 |216             |\n",
            "|Sailing                  |210             |\n",
            "|Shooting                 |192             |\n",
            "|Boxing                   |188             |\n",
            "|Equestrian               |182             |\n",
            "|Weightlifting            |180             |\n",
            "|Cross Country Skiing     |174             |\n",
            "|Diving                   |144             |\n",
            "|Speed Skating            |140             |\n",
            "|Biathlon                 |138             |\n",
            "|Short-Track Speed Skating|138             |\n",
            "|Softball                 |134             |\n",
            "|Synchronized Swimming    |129             |\n",
            "|Taekwondo                |112             |\n",
            "|Badminton                |96              |\n",
            "|Archery                  |96              |\n",
            "|Alpine Skiing            |90              |\n",
            "|Rhythmic Gymnastics      |84              |\n",
            "|Table Tennis             |84              |\n",
            "|Curling                  |82              |\n",
            "|Tennis                   |78              |\n",
            "|Bobsleigh                |72              |\n",
            "|Ski Jumping              |54              |\n",
            "|Nordic Combined          |54              |\n",
            "|Figure Skating           |54              |\n",
            "|Beach Volleyball         |48              |\n",
            "|Snowboarding             |48              |\n",
            "|Freestyle Skiing         |42              |\n",
            "|Luge                     |36              |\n",
            "|Modern Pentathlon        |24              |\n",
            "|Triathlon                |24              |\n",
            "|Trampoline               |24              |\n",
            "|Skeleton                 |18              |\n",
            "+-------------------------+----------------+\n",
            "\n"
          ]
        }
      ]
    },
    {
      "cell_type": "code",
      "source": [
        "# Filtering dataframe for swimming sport and agin using groupby on country with aggregate function sum on total medals.\n",
        "df5 = df.filter(df.sports ==\"Swimming\").select([\"country\",'sports',\"total_medal\"])\n",
        "df5 = df5.groupBy(\"country\").sum(\"total_medal\")\n",
        "df5.orderBy(f.desc(\"sum(total_medal)\")).withColumnRenamed(\"sum(total_medal)\",\"total_medal_Swimming\").show(df5.count(),False)"
      ],
      "metadata": {
        "colab": {
          "base_uri": "https://localhost:8080/"
        },
        "id": "y2kLyrITAhdW",
        "outputId": "a8579d06-63db-4d22-d389-1f87bcf454ad"
      },
      "execution_count": 17,
      "outputs": [
        {
          "output_type": "stream",
          "name": "stdout",
          "text": [
            "+-------------------+--------------------+\n",
            "|country            |total_medal_Swimming|\n",
            "+-------------------+--------------------+\n",
            "|United States      |267                 |\n",
            "|Australia          |163                 |\n",
            "|Netherlands        |46                  |\n",
            "|Japan              |43                  |\n",
            "|France             |39                  |\n",
            "|China              |35                  |\n",
            "|Germany            |32                  |\n",
            "|Russia             |20                  |\n",
            "|Italy              |16                  |\n",
            "|Great Britain      |11                  |\n",
            "|South Africa       |11                  |\n",
            "|Sweden             |9                   |\n",
            "|Hungary            |9                   |\n",
            "|Brazil             |8                   |\n",
            "|Ukraine            |7                   |\n",
            "|Zimbabwe           |7                   |\n",
            "|Romania            |6                   |\n",
            "|Canada             |5                   |\n",
            "|South Korea        |4                   |\n",
            "|Poland             |3                   |\n",
            "|Austria            |3                   |\n",
            "|Tunisia            |3                   |\n",
            "|Spain              |3                   |\n",
            "|Norway             |2                   |\n",
            "|Costa Rica         |2                   |\n",
            "|Belarus            |2                   |\n",
            "|Slovakia           |2                   |\n",
            "|Argentina          |1                   |\n",
            "|Trinidad and Tobago|1                   |\n",
            "|Croatia            |1                   |\n",
            "|Slovenia           |1                   |\n",
            "|Lithuania          |1                   |\n",
            "|Serbia             |1                   |\n",
            "|Denmark            |1                   |\n",
            "+-------------------+--------------------+\n",
            "\n"
          ]
        }
      ]
    },
    {
      "cell_type": "code",
      "source": [
        "# Filtering dataframe for Skeleton sport and again using groupby on country with aggregate function sum on total medals.\n",
        "df6 = df.filter(df.sports ==\"Skeleton\").select([\"country\",'sports',\"total_medal\"])\n",
        "df6 = df6.groupBy(\"country\").sum(\"total_medal\")\n",
        "df6.orderBy(f.desc(\"sum(total_medal)\")).withColumnRenamed(\"sum(total_medal)\",\"total_medal_Skeleton\").show(df6.count(),False)"
      ],
      "metadata": {
        "colab": {
          "base_uri": "https://localhost:8080/"
        },
        "id": "P3-Sn3E0AL46",
        "outputId": "cb0568e5-b2ed-4912-e08c-0135069669a4"
      },
      "execution_count": 18,
      "outputs": [
        {
          "output_type": "stream",
          "name": "stdout",
          "text": [
            "+-------------+--------------------+\n",
            "|country      |total_medal_Skeleton|\n",
            "+-------------+--------------------+\n",
            "|Canada       |4                   |\n",
            "|Great Britain|3                   |\n",
            "|Switzerland  |3                   |\n",
            "|United States|3                   |\n",
            "|Germany      |2                   |\n",
            "|Russia       |1                   |\n",
            "|Austria      |1                   |\n",
            "|Latvia       |1                   |\n",
            "+-------------+--------------------+\n",
            "\n"
          ]
        }
      ]
    },
    {
      "cell_type": "code",
      "source": [
        "# Filtering dataframe for United States country and using groupby on year with aggregate function sum on total medals.\n",
        "df7 = df.filter(df.country ==\"Russia\").select([\"country\",'year',\"total_medal\"])\n",
        "df7 = df7.groupBy(\"year\").sum(\"total_medal\")\n",
        "df7.orderBy('year').withColumnRenamed(\"sum(total_medal)\",\"total_medal_US_won\").show(df7.count(),False)"
      ],
      "metadata": {
        "colab": {
          "base_uri": "https://localhost:8080/"
        },
        "id": "J8AsLEvSA3-a",
        "outputId": "236f5606-db50-4656-e3e8-4b8cc7c25385"
      },
      "execution_count": 19,
      "outputs": [
        {
          "output_type": "stream",
          "name": "stdout",
          "text": [
            "+----+------------------+\n",
            "|year|total_medal_US_won|\n",
            "+----+------------------+\n",
            "|2000|187               |\n",
            "|2002|38                |\n",
            "|2004|191               |\n",
            "|2006|41                |\n",
            "|2008|146               |\n",
            "|2010|25                |\n",
            "|2012|140               |\n",
            "+----+------------------+\n",
            "\n"
          ]
        }
      ]
    },
    {
      "cell_type": "code",
      "source": [
        "# Using groupby on country with aggregate function sum on total medals.\n",
        "df8 = df.groupBy(\"country\").sum(\"total_medal\")\n",
        "df8.orderBy(f.desc(\"sum(total_medal)\")).withColumnRenamed(\"sum(total_medal)\",\"total_medal_won\").show(df8.count(),False)\n"
      ],
      "metadata": {
        "colab": {
          "base_uri": "https://localhost:8080/"
        },
        "id": "NE2-DWGhBF3h",
        "outputId": "fdb3bdd9-f2ea-48d8-a3ac-1b8f117a4822"
      },
      "execution_count": 20,
      "outputs": [
        {
          "output_type": "stream",
          "name": "stdout",
          "text": [
            "+---------------------+---------------+\n",
            "|country              |total_medal_won|\n",
            "+---------------------+---------------+\n",
            "|United States        |1312           |\n",
            "|Russia               |768            |\n",
            "|Germany              |629            |\n",
            "|Australia            |609            |\n",
            "|China                |530            |\n",
            "|Canada               |370            |\n",
            "|Italy                |331            |\n",
            "|Great Britain        |322            |\n",
            "|France               |318            |\n",
            "|Netherlands          |318            |\n",
            "|South Korea          |308            |\n",
            "|Japan                |282            |\n",
            "|Brazil               |218            |\n",
            "|Spain                |205            |\n",
            "|Norway               |192            |\n",
            "|Cuba                 |188            |\n",
            "|Sweden               |181            |\n",
            "|Hungary              |145            |\n",
            "|Ukraine              |143            |\n",
            "|Argentina            |139            |\n",
            "|Romania              |123            |\n",
            "|Finland              |118            |\n",
            "|Belarus              |97             |\n",
            "|Switzerland          |93             |\n",
            "|Austria              |91             |\n",
            "|Denmark              |89             |\n",
            "|Croatia              |81             |\n",
            "|Czech Republic       |81             |\n",
            "|Poland               |80             |\n",
            "|Jamaica              |80             |\n",
            "|Greece               |59             |\n",
            "|New Zealand          |52             |\n",
            "|Kazakhstan           |42             |\n",
            "|Bulgaria             |41             |\n",
            "|Nigeria              |39             |\n",
            "|Kenya                |39             |\n",
            "|Mexico               |38             |\n",
            "|Serbia and Montenegro|38             |\n",
            "|Slovakia             |35             |\n",
            "|Serbia               |31             |\n",
            "|Lithuania            |30             |\n",
            "|Ethiopia             |29             |\n",
            "|Turkey               |28             |\n",
            "|Azerbaijan           |25             |\n",
            "|South Africa         |25             |\n",
            "|Slovenia             |25             |\n",
            "|Bahamas              |24             |\n",
            "|Iran                 |24             |\n",
            "|Georgia              |23             |\n",
            "|Chile                |22             |\n",
            "|Indonesia            |22             |\n",
            "|North Korea          |21             |\n",
            "|Chinese Taipei       |20             |\n",
            "|Cameroon             |20             |\n",
            "|Trinidad and Tobago  |19             |\n",
            "|Uzbekistan           |19             |\n",
            "|Estonia              |18             |\n",
            "|Belgium              |18             |\n",
            "|Thailand             |18             |\n",
            "|Paraguay             |17             |\n",
            "|Latvia               |17             |\n",
            "|Iceland              |15             |\n",
            "|Montenegro           |14             |\n",
            "|Colombia             |13             |\n",
            "|India                |11             |\n",
            "|Morocco              |11             |\n",
            "|Mongolia             |10             |\n",
            "|Armenia              |10             |\n",
            "|Ireland              |9              |\n",
            "|Portugal             |9              |\n",
            "|Egypt                |8              |\n",
            "|Algeria              |8              |\n",
            "|Singapore            |7              |\n",
            "|Zimbabwe             |7              |\n",
            "|Saudi Arabia         |6              |\n",
            "|Dominican Republic   |5              |\n",
            "|Moldova              |5              |\n",
            "|Israel               |4              |\n",
            "|Tunisia              |4              |\n",
            "|Venezuela            |4              |\n",
            "|Qatar                |3              |\n",
            "|Tajikistan           |3              |\n",
            "|Hong Kong            |3              |\n",
            "|Kyrgyzstan           |3              |\n",
            "|Malaysia             |3              |\n",
            "|Costa Rica           |2              |\n",
            "|Vietnam              |2              |\n",
            "|Puerto Rico          |2              |\n",
            "|Afghanistan          |2              |\n",
            "|Kuwait               |2              |\n",
            "|Eritrea              |1              |\n",
            "|Sudan                |1              |\n",
            "|Gabon                |1              |\n",
            "|Sri Lanka            |1              |\n",
            "|Barbados             |1              |\n",
            "|Togo                 |1              |\n",
            "|Panama               |1              |\n",
            "|Uganda               |1              |\n",
            "|Ecuador              |1              |\n",
            "|Cyprus               |1              |\n",
            "|Uruguay              |1              |\n",
            "|United Arab Emirates |1              |\n",
            "|Botswana             |1              |\n",
            "|Guatemala            |1              |\n",
            "|Grenada              |1              |\n",
            "|Macedonia            |1              |\n",
            "|Bahrain              |1              |\n",
            "|Mauritius            |1              |\n",
            "|Syria                |1              |\n",
            "|Mozambique           |1              |\n",
            "+---------------------+---------------+\n",
            "\n"
          ]
        }
      ]
    },
    {
      "cell_type": "code",
      "source": [
        "# Filtering out the maximum age from age column and printing name and age\n",
        "df.select('name','age','sports','silver_medal','year').filter(df.age == df.agg({\"age\":\"max\"}).collect()[0][0]).show()"
      ],
      "metadata": {
        "colab": {
          "base_uri": "https://localhost:8080/"
        },
        "id": "PXNQ-v0XBR65",
        "outputId": "b9c331c3-5857-499a-879b-05bfc998b696"
      },
      "execution_count": 21,
      "outputs": [
        {
          "output_type": "stream",
          "name": "stdout",
          "text": [
            "+----------+----+----------+------------+----+\n",
            "|      name| age|    sports|silver_medal|year|\n",
            "+----------+----+----------+------------+----+\n",
            "|Ian Millar|61.0|Equestrian|           1|2008|\n",
            "+----------+----+----------+------------+----+\n",
            "\n"
          ]
        }
      ]
    },
    {
      "cell_type": "code",
      "source": [
        "# Filtering out the maximum age from age column and printing name and country\n",
        "df.select('name','country').filter(df.age == df.agg({\"age\":\"max\"}).collect()[0][0]).show()"
      ],
      "metadata": {
        "colab": {
          "base_uri": "https://localhost:8080/"
        },
        "id": "yW_QaMh1BbGR",
        "outputId": "7d1fa51a-f7b3-4f55-d816-8eb536e88358"
      },
      "execution_count": 22,
      "outputs": [
        {
          "output_type": "stream",
          "name": "stdout",
          "text": [
            "+----------+-------+\n",
            "|      name|country|\n",
            "+----------+-------+\n",
            "|Ian Millar| Canada|\n",
            "+----------+-------+\n",
            "\n"
          ]
        }
      ]
    }
  ]
}