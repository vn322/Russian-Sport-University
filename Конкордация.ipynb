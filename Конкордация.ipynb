{
  "nbformat": 4,
  "nbformat_minor": 0,
  "metadata": {
    "colab": {
      "provenance": [],
      "toc_visible": true,
      "include_colab_link": true
    },
    "kernelspec": {
      "name": "python3",
      "display_name": "Python 3"
    },
    "language_info": {
      "name": "python"
    }
  },
  "cells": [
    {
      "cell_type": "markdown",
      "metadata": {
        "id": "view-in-github",
        "colab_type": "text"
      },
      "source": [
        "<a href=\"https://colab.research.google.com/github/vn322/Sport-University/blob/main/%D0%9A%D0%BE%D0%BD%D0%BA%D0%BE%D1%80%D0%B4%D0%B0%D1%86%D0%B8%D1%8F.ipynb\" target=\"_parent\"><img src=\"https://colab.research.google.com/assets/colab-badge.svg\" alt=\"Open In Colab\"/></a>"
      ]
    },
    {
      "cell_type": "markdown",
      "source": [
        "https://stackoverflow.com/questions/48893689/kendalls-coefficient-of-concordance-w-in-python"
      ],
      "metadata": {
        "id": "2pz039ZrSs_e"
      }
    },
    {
      "cell_type": "markdown",
      "source": [
        "https://pypi.org/project/kendall-w/\n"
      ],
      "metadata": {
        "id": "J6jI16D_TjHu"
      }
    },
    {
      "cell_type": "code",
      "source": [
        "import numpy as np\n",
        "\n",
        "def kendall_w(expt_ratings):\n",
        "    if expt_ratings.ndim!=2:\n",
        "        raise 'ratings matrix must be 2-dimensional'\n",
        "    m = expt_ratings.shape[0] #raters\n",
        "    n = expt_ratings.shape[1] # items rated\n",
        "    denom = m**2*(n**3-n)\n",
        "    rating_sums = np.sum(expt_ratings, axis=0)\n",
        "    S = n*np.var(rating_sums)\n",
        "    return 12*S/denom\n",
        "\n",
        "the_ratings = np.array([[1,2,3,4],[2,1,3,4],[1,3,2,4],[1,3,4,2]])\n",
        "m = the_ratings.shape[0]\n",
        "n = the_ratings.shape[1]\n",
        "\n",
        "W = kendall_w(the_ratings)\n",
        "\n",
        "count = 0\n",
        "for trial in range(1000):\n",
        "    perm_trial = []\n",
        "    for _ in range(m):\n",
        "        perm_trial.append(list(np.random.permutation(range(1, 1+n))))\n",
        "    count += 1 if kendall_w(np.array(perm_trial)) > W else 0\n",
        "\n",
        "print ('Calculated value of W:', W, ' exceeds permutation values in', count, 'out of 1000 cases')"
      ],
      "metadata": {
        "colab": {
          "base_uri": "https://localhost:8080/"
        },
        "id": "mJdko3IxTHTm",
        "outputId": "3409ec83-c81e-466c-fc3d-29d5d18ace75"
      },
      "execution_count": null,
      "outputs": [
        {
          "output_type": "stream",
          "name": "stdout",
          "text": [
            "Calculated value of W: 0.575  exceeds permutation values in 46 out of 1000 cases\n"
          ]
        }
      ]
    },
    {
      "cell_type": "code",
      "source": [
        "from numpy.core.multiarray import zeros\n",
        "# Import required libraries\n",
        "from scipy.stats import kendalltau\n",
        "\n",
        "# Taking values from the above example in Lists\n",
        "X = [1, 2, 3, 4, 5, 6, 7]\n",
        "Y = [1, 3, 6, 2, 7, 4, 5]\n",
        "#Z = [8, 8, 1, 3, 4, 4, 5]\n",
        "\n",
        "# Calculating Kendall Rank correlation\n",
        "corr, _ = kendalltau(X, Y)\n",
        "print('Kendall Rank correlation: %.5f' % corr)\n",
        "\n"
      ],
      "metadata": {
        "colab": {
          "base_uri": "https://localhost:8080/"
        },
        "id": "LqhDmqYIXVvW",
        "outputId": "a3693bc1-5db5-43ea-c06d-71c4b9d6af66"
      },
      "execution_count": null,
      "outputs": [
        {
          "output_type": "stream",
          "name": "stdout",
          "text": [
            "Kendall Rank correlation: 0.42857\n"
          ]
        }
      ]
    },
    {
      "cell_type": "code",
      "source": [
        "# calculate the spearman's correlation between two variables\n",
        "from numpy.random import rand\n",
        "from numpy.random import seed\n",
        "from scipy.stats import spearmanr\n",
        "# seed random number generator\n",
        "seed(1)\n",
        "# prepare data\n",
        "data1 = [1, 2, 3, 4, 5, 6, 7]\n",
        "data2 = [1, 3, 6, 2, 7, 4, 5]\n",
        "data3 = [3, 4, 6, 2, 7, 4, 5]\n",
        "# calculate spearman's correlation\n",
        "coef, p = spearmanr(data1, data2)\n",
        "print('Spearmans correlation coefficient: %.3f' % coef)\n",
        "# interpret the significance\n",
        "alpha = 0.05\n",
        "if p > alpha:\n",
        "\tprint('Samples are uncorrelated (fail to reject H0) p=%.3f' % p)\n",
        "else:\n",
        "\tprint('Samples are correlated (reject H0) p=%.3f' % p)"
      ],
      "metadata": {
        "colab": {
          "base_uri": "https://localhost:8080/"
        },
        "id": "rk9SXBYAYjq2",
        "outputId": "e6cb0488-5054-4a3a-8cc3-b1f9a4b5a917"
      },
      "execution_count": null,
      "outputs": [
        {
          "output_type": "stream",
          "name": "stdout",
          "text": [
            "Spearmans correlation coefficient: 0.536\n",
            "Samples are uncorrelated (fail to reject H0) p=0.215\n"
          ]
        }
      ]
    },
    {
      "cell_type": "code",
      "source": [
        "# calculate the kendall's correlation between two variables\n",
        "from numpy.random import rand\n",
        "from numpy.random import seed\n",
        "from scipy.stats import kendalltau\n",
        "# seed random number generator\n",
        "seed(1)\n",
        "# prepare data\n",
        "data1 = rand(1000) * 20\n",
        "data2 = data1 + (rand(1000) * 10)\n",
        "# calculate kendall's correlation\n",
        "coef, p = kendalltau(data1, data2)\n",
        "print('Kendall correlation coefficient: %.3f' % coef)\n",
        "# interpret the significance\n",
        "alpha = 0.05\n",
        "if p > alpha:\n",
        "\tprint('Samples are uncorrelated (fail to reject H0) p=%.3f' % p)\n",
        "else:\n",
        "\tprint('Samples are correlated (reject H0) p=%.3f' % p)"
      ],
      "metadata": {
        "colab": {
          "base_uri": "https://localhost:8080/"
        },
        "id": "O9pCNB1jZsVs",
        "outputId": "048d910c-8a60-47bd-c332-6082e448ef61"
      },
      "execution_count": null,
      "outputs": [
        {
          "output_type": "stream",
          "name": "stdout",
          "text": [
            "Kendall correlation coefficient: 0.709\n",
            "Samples are correlated (reject H0) p=0.000\n"
          ]
        }
      ]
    },
    {
      "cell_type": "code",
      "source": [],
      "metadata": {
        "id": "i7bnaiqLZsNT"
      },
      "execution_count": null,
      "outputs": []
    }
  ]
}