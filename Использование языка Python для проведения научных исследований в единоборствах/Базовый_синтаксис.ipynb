{
  "nbformat": 4,
  "nbformat_minor": 0,
  "metadata": {
    "colab": {
      "provenance": []
    },
    "kernelspec": {
      "name": "python3",
      "display_name": "Python 3"
    },
    "language_info": {
      "name": "python"
    }
  },
  "cells": [
    {
      "cell_type": "markdown",
      "source": [
        "# Базовый синтаксис языка Python 3.\n",
        "\n",
        "**1. Типы данных**\n",
        "\n",
        "\n",
        "Основными типами данных в любом языке программирования являются:\n",
        "\n",
        "\n",
        "целые числа, вещественные числа, строки (символы), логические переменные (True (истина) или False (ложь)).\n",
        "\n",
        "\n",
        "Они могут быть записаны следующим образом"
      ],
      "metadata": {
        "id": "Bp91UUVx8S7f"
      }
    },
    {
      "cell_type": "code",
      "execution_count": null,
      "metadata": {
        "colab": {
          "base_uri": "https://localhost:8080/"
        },
        "id": "HX76SNUi8P4F",
        "outputId": "e21f7c22-bef6-4026-bc94-c1b64847b4cf"
      },
      "outputs": [
        {
          "output_type": "execute_result",
          "data": {
            "text/plain": [
              "(1, 1.0, '1', True)"
            ]
          },
          "metadata": {},
          "execution_count": 1
        }
      ],
      "source": [
        "1, 1.0, '1', 1<2"
      ]
    },
    {
      "cell_type": "code",
      "source": [
        "type(1), type(1.0), type('1'), type(1<2)"
      ],
      "metadata": {
        "colab": {
          "base_uri": "https://localhost:8080/"
        },
        "id": "F1sG0z3U-I29",
        "outputId": "09c4ec95-cdf6-4fb6-940e-8954562a3baf"
      },
      "execution_count": null,
      "outputs": [
        {
          "output_type": "execute_result",
          "data": {
            "text/plain": [
              "(int, float, str, bool)"
            ]
          },
          "metadata": {},
          "execution_count": 2
        }
      ]
    },
    {
      "cell_type": "markdown",
      "source": [
        "**1.2 Операции с числами**"
      ],
      "metadata": {
        "id": "JDQwOzbo-XWt"
      }
    },
    {
      "cell_type": "code",
      "source": [
        "# комментарий: Операции с целыми числами\n",
        "A=1 \n",
        "B=2\n",
        "print (' A + B = ',A+B) # сумма\n",
        "print (' A - B = ',A-B) # разность;\n",
        "print (' A * B = ',A*B) # произведение;\n",
        "print (' A / B = ',A/B) # частное;\n",
        "print (' A ^ B = ',A**B) # возведение в степень."
      ],
      "metadata": {
        "colab": {
          "base_uri": "https://localhost:8080/"
        },
        "id": "mrf4X7pp-WV2",
        "outputId": "f6e32903-2a82-475b-dfe1-1eadc8daaeab"
      },
      "execution_count": null,
      "outputs": [
        {
          "output_type": "stream",
          "name": "stdout",
          "text": [
            " A + B =  3\n",
            " A - B =  -1\n",
            " A * B =  2\n",
            " A / B =  0.5\n",
            " A ^ B =  1\n"
          ]
        }
      ]
    },
    {
      "cell_type": "code",
      "source": [
        "# комментарий: Операции с вещественными числами\n",
        "A=1.0 \n",
        "B=2.0\n",
        "print (' A + B  = ',A+B)  # сумма\n",
        "print (' A - B  = ',A-B)  # разность;\n",
        "print (' A * B  = ',A*B)  # произведение;\n",
        "print (' A / B  = ',A/B)  # частное;\n",
        "print (' A % B  = ',A%B)  #  остаток от деления;\n",
        "print (' A // B = ',A//B) # деление без остатка;\n",
        "print (' A ^ B  = ',A**B) # возведение в степень."
      ],
      "metadata": {
        "colab": {
          "base_uri": "https://localhost:8080/"
        },
        "id": "5J9-5wq8-y_O",
        "outputId": "9ae2f08f-88a9-4b8e-db17-137f2a3a5c3b"
      },
      "execution_count": null,
      "outputs": [
        {
          "output_type": "stream",
          "name": "stdout",
          "text": [
            " A + B  =  3.0\n",
            " A - B  =  -1.0\n",
            " A * B  =  2.0\n",
            " A / B  =  0.5\n",
            " A % B  =  1.0\n",
            " A // B =  0.0\n",
            " A ^ B  =  1.0\n"
          ]
        }
      ]
    },
    {
      "cell_type": "code",
      "source": [
        "# комментарий: ещё о целых числах, без автоматического переопределения типа было бы так\n",
        "A=1\n",
        "B=2\n",
        "print (' A / B = ',A/B, 'возвращаемый тип - ', type(A/B)) # автоматическое переопределение;\n",
        "print (' A / B = ',(int)(A/B), 'возвращаемый тип - ', type((int)(A/B))) # без автоматического переопределения;"
      ],
      "metadata": {
        "colab": {
          "base_uri": "https://localhost:8080/"
        },
        "id": "VTATEcyp_F4u",
        "outputId": "938e1c86-b79b-49ca-fe24-de3bedca680a"
      },
      "execution_count": null,
      "outputs": [
        {
          "output_type": "stream",
          "name": "stdout",
          "text": [
            " A / B =  0.5 возвращаемый тип -  <class 'float'>\n",
            " A / B =  0 возвращаемый тип -  <class 'int'>\n"
          ]
        }
      ]
    },
    {
      "cell_type": "markdown",
      "source": [
        "**1.3 Операции над строками**"
      ],
      "metadata": {
        "id": "xGsHs-OB_SIF"
      }
    },
    {
      "cell_type": "code",
      "source": [
        "Ast=' Быстрее, Выше, ' \n",
        "Bst='Сильнее! '\n",
        "n=3\n",
        "print (' Ast + Bst = ',Ast+Bst)  # конкатенация \n",
        "print ('(Ast + Bst) * n = ',(Ast+Bst)*n)  # повторение n раз"
      ],
      "metadata": {
        "colab": {
          "base_uri": "https://localhost:8080/"
        },
        "id": "k9CRKz4G_2VV",
        "outputId": "e293e7da-0e8f-4aef-dc4f-7df22103d755"
      },
      "execution_count": null,
      "outputs": [
        {
          "output_type": "stream",
          "name": "stdout",
          "text": [
            " Ast + Bst =   Быстрее, Выше, Сильнее! \n",
            "(Ast + Bst) * n =   Быстрее, Выше, Сильнее!  Быстрее, Выше, Сильнее!  Быстрее, Выше, Сильнее! \n"
          ]
        }
      ]
    },
    {
      "cell_type": "markdown",
      "source": [
        "**1.4 Логические операции**"
      ],
      "metadata": {
        "id": "q_SAtBa0AP6f"
      }
    },
    {
      "cell_type": "code",
      "source": [
        "A=1.0 \n",
        "B=2.0\n",
        "print (' A >  B  ? ',A>B)   # больше\n",
        "print (' A <  B  ? ',A<B)   # меньша\n",
        "print (' A >= B  ? ',A>=B)  # больше или равно\n",
        "print (' A <= B  ? ',A<=B)  # меньше или равно\n",
        "print (' A == B  ? ',A==B)  # равно\n",
        "print (' A != B ? ',A!=B)   # не равно\n",
        "print (' A < B < A+B ? ',A<B<A+B) # из интервала\n",
        "print (' A < B и B < A+B  ? ',A<B and B<A+B) # и (*)\n",
        "print (' A < B или A > B  ? ',A<B or A>B) # или (+)\n",
        "\n",
        "print ('\\n',A<B , A>B, A<B * A>B, A<B + A>B)  # \\n - знак перехода на строку\n",
        "\n",
        "print ('\\n',bool(1), '\\t', bool(0))  # \\t - знак табуляции"
      ],
      "metadata": {
        "colab": {
          "base_uri": "https://localhost:8080/"
        },
        "id": "LQ6k1mzTATC9",
        "outputId": "1d1efd7f-a954-4f65-a9d2-e3f2fd383985"
      },
      "execution_count": null,
      "outputs": [
        {
          "output_type": "stream",
          "name": "stdout",
          "text": [
            " A >  B  ?  False\n",
            " A <  B  ?  True\n",
            " A >= B  ?  False\n",
            " A <= B  ?  True\n",
            " A == B  ?  False\n",
            " A != B ?  True\n",
            " A < B < A+B ?  True\n",
            " A < B и B < A+B  ?  True\n",
            " A < B или A > B  ?  True\n",
            "\n",
            " True False False True\n",
            "\n",
            " True \t False\n"
          ]
        }
      ]
    },
    {
      "cell_type": "markdown",
      "source": [
        "# 2 Основные инструкции\n",
        "\n",
        "**2.1 Операции ввода/вывода**\n",
        "\n",
        "Форматный вывод (это красиво):\n",
        "\n",
        "% - указатель на вставку, тип: i - int, f - float, s - str, e - \"научное\" представление, g - \"компактное\" представление десятичного числа\n",
        "\n",
        "По умолчанию производится выравнивание по правому краю, для выравневания по левому нужно писать %- вместо %.\n",
        "\n",
        "(Кроме того, существует метод str.format() для форматного вывода строк.)"
      ],
      "metadata": {
        "id": "8CLQmjmiAlJW"
      }
    },
    {
      "cell_type": "code",
      "source": [
        "A=1 \n",
        "B=2\n",
        "print(\" A / B = %6.4f, возвращаемый тип - %s \" % (A/B, type(A/B)))\n",
        "print(\" A / B = %-6i, возвращаемый тип - %s \" % ((int)(A/B), type((int)(A/B))))"
      ],
      "metadata": {
        "colab": {
          "base_uri": "https://localhost:8080/"
        },
        "id": "BvSAMIFPA9z-",
        "outputId": "4b93ed62-7920-4f72-fc98-c8fd3803cb7f"
      },
      "execution_count": null,
      "outputs": [
        {
          "output_type": "stream",
          "name": "stdout",
          "text": [
            " A / B = 0.5000, возвращаемый тип - <class 'float'> \n",
            " A / B = 0     , возвращаемый тип - <class 'int'> \n"
          ]
        }
      ]
    },
    {
      "cell_type": "markdown",
      "source": [
        "В интерактивной сессии (или в программе, запущенной с командной строки) можно попросить пользователя что-нибудь ввести. Аргумент функции input - это приглашение для ввода (prompt). Можно использовать просто input(), тогда приглашения не будет. Но это неудобно, т.к. в этом случае трудно заметить, что программа ждёт действия пользователя."
      ],
      "metadata": {
        "id": "-T20B8AoBqFP"
      }
    },
    {
      "cell_type": "code",
      "source": [
        "s=input('Введите число ')\n",
        "print('s = ', s, type(s))\n",
        "sf=float(s)\n",
        "print('sf = ', sf, type(sf))"
      ],
      "metadata": {
        "colab": {
          "base_uri": "https://localhost:8080/"
        },
        "id": "qI7xwefOCHvt",
        "outputId": "0a02e12e-ba4c-41ce-d6f4-45f0a362ff4a"
      },
      "execution_count": null,
      "outputs": [
        {
          "output_type": "stream",
          "name": "stdout",
          "text": [
            "Введите число 6\n",
            "s =  6 <class 'str'>\n",
            "sf =  6.0 <class 'float'>\n"
          ]
        }
      ]
    },
    {
      "cell_type": "markdown",
      "source": [
        "Python  - интерпретатор, поэтому он может во время выполнения программы интерпретировать строки как куски исходного текста на языке питон. Так, функция eval интерпретирует строку как выражение и вычисляет его (в текущем контексте - подставляя текущие значения переменных)."
      ],
      "metadata": {
        "id": "wMH3QQHIEbPP"
      }
    },
    {
      "cell_type": "code",
      "source": [
        "s=input('Введите операцию с переменной \"s\" - ')\n",
        "print('s = ', s, type(s))\n",
        "print(s + ' = ', eval(s))"
      ],
      "metadata": {
        "colab": {
          "base_uri": "https://localhost:8080/"
        },
        "id": "YDVlP8jVEGyX",
        "outputId": "37a1e319-e539-41c5-9317-04eb0652db92"
      },
      "execution_count": null,
      "outputs": [
        {
          "output_type": "stream",
          "name": "stdout",
          "text": [
            "Введите операцию с переменной \"s\" - 4 + 5\n",
            "s =  4 + 5 <class 'str'>\n",
            "4 + 5 =  9\n"
          ]
        }
      ]
    },
    {
      "cell_type": "markdown",
      "source": [
        "А функция exec интерпретирует строку как оператор и выполняет его. Оператор может менять значения переменных в текущем пространстве имён."
      ],
      "metadata": {
        "id": "J_09GD6mFrF_"
      }
    },
    {
      "cell_type": "code",
      "source": [
        "s=input('Введите выражение с переменной sf ')\n",
        "print(s)\n",
        "exec(s)\n",
        "print(x)"
      ],
      "metadata": {
        "colab": {
          "base_uri": "https://localhost:8080/"
        },
        "id": "WH16vlIRFtRn",
        "outputId": "3a5ccfd9-8ce5-49eb-d004-e892017450be"
      },
      "execution_count": null,
      "outputs": [
        {
          "output_type": "stream",
          "name": "stdout",
          "text": [
            "Введите выражение с переменной sf x = sf - 1\n",
            "x = sf - 1\n",
            "5.0\n"
          ]
        }
      ]
    },
    {
      "cell_type": "markdown",
      "source": [
        "# 2.2 Ветвление (или условная инструкция)"
      ],
      "metadata": {
        "id": "E-kfo69QHCP4"
      }
    },
    {
      "cell_type": "code",
      "source": [
        "a = input('Введите число побед спортсмена a: ') \n",
        "b = input('Введите число побед спортсмена b: ') \n",
        "\n",
        "if a < b: \n",
        "    print ('спортсмен b более результативен') \n",
        "elif a == b: \n",
        "    print ('результаты спортсменов a и b равны')\n",
        "else: \n",
        "    print ('спортсмен a более результативен') "
      ],
      "metadata": {
        "colab": {
          "base_uri": "https://localhost:8080/"
        },
        "id": "T7e-N4E4HFRA",
        "outputId": "63c1756a-931c-45da-8f1a-e1227c8fdce4"
      },
      "execution_count": null,
      "outputs": [
        {
          "output_type": "stream",
          "name": "stdout",
          "text": [
            "Введите число побед спортсмена a: 3\n",
            "Введите число побед спортсмена b: 6\n",
            "спортсмен b более результативен\n"
          ]
        }
      ]
    },
    {
      "cell_type": "code",
      "source": [
        "a = input('Введите целое число a: ') \n",
        "b = input('Введите целое число b: ') \n",
        "\n",
        "print ('a - наименьшее из двух чисел') if a<b else (print ('b - наименьшее из двух чисел') if a>b else print ('a и b равны'))\n"
      ],
      "metadata": {
        "colab": {
          "base_uri": "https://localhost:8080/"
        },
        "id": "eHBhLRxBJEJA",
        "outputId": "0d2ef989-d630-4ad8-8b1d-f7de98ee6284"
      },
      "execution_count": null,
      "outputs": [
        {
          "output_type": "stream",
          "name": "stdout",
          "text": [
            "Введите целое число a: 3\n",
            "Введите целое число b: 6\n",
            "a - наименьшее из двух чисел\n"
          ]
        }
      ]
    },
    {
      "cell_type": "markdown",
      "source": [
        "Пример программы. \"Метание спортивного ножа\"\n",
        "\n",
        "Данное упражнение было включено как упражнение в вид спорта \"Универсальный бой\", а сегодня стало самостоятельным видом спорта.\n",
        "\\\n",
        "Рассмотрим пример иллюстрирующий математическую модель описывающий траекторию полета спортивного снаряда в воздухе. Из второго закона Ньютона, предполагая отсутствие сопротивления воздуха, мы можем вывести зависимость вертикального положения снаряда от времени полёта:\n",
        "$$y(t) = U_0t - gt^2/2$$\n",
        " \n",
        "где $U_0$  — начальная скорость, $g$ — ускорение свободного падения, значение которого положим равным 9.80665 $м/с^2$.\n",
        "\n",
        "Добавив в расчёт рост спортсмена и высоту мишени получим математическую модель спортивного метания ножа."
      ],
      "metadata": {
        "id": "dzZcICgXJji_"
      }
    },
    {
      "cell_type": "code",
      "source": [
        "# Программа для вычисления положения снаряда при вертикальном движении\n",
        "\n",
        "v0 = 2       # Начальная скорость\n",
        "g = 9.80665  # Ускорение свободного падения\n",
        "t = 0.4      # Время\n",
        "r = 1.8      # Рост спортсмена\n",
        "mishen = 1.8 # Высота мишени\n",
        "\n",
        "y = v0*t - 1/2*g*t**2 + r\n",
        "\n",
        "print ('Высота попадания', y,'\\n', 'Погрешность', round(abs(mishen-y), 3)) \n",
        "# abs - означает взятие модуля выражения\n",
        "# round(х, 3) - округление до 3-х знаков после запятой"
      ],
      "metadata": {
        "colab": {
          "base_uri": "https://localhost:8080/"
        },
        "id": "ljhgbzYbJg1P",
        "outputId": "adcc835e-9ef6-4634-ba76-d61ea1fa0525"
      },
      "execution_count": null,
      "outputs": [
        {
          "output_type": "stream",
          "name": "stdout",
          "text": [
            "Высота попадания 1.815468 \n",
            " Погрешность 0.015\n"
          ]
        }
      ]
    },
    {
      "cell_type": "markdown",
      "source": [
        "# 2.3 Цикл\n"
      ],
      "metadata": {
        "id": "HKZz7pdzSBGT"
      }
    },
    {
      "cell_type": "markdown",
      "source": [
        "**Списки**\n",
        "\n",
        "До этого момента все наши переменные могли содержать только одно число, будь оно хоть целым (int), хоть с плавающей точкой (float). Но иногда числа естественным образом группируются. Например, последовательность моментов времени представляют собой группу. Для групп в Python есть несколько специальных типов объектов, рассмотрим тип — list (список), который позволяет организовывать эти группы в последовательности. При этом, с помощью списков мы можем работать как с группой целиком, так и с членами этой группы по отдельности. При этом список может состоять из объектов разного типа, в том числе и из самих списков."
      ],
      "metadata": {
        "id": "U-12FDlVSVoD"
      }
    },
    {
      "cell_type": "markdown",
      "source": [
        "Циклом может называться любая многократно исполняемая последовательность инструкций, организованная любым способом. В Python есть два типа циклов:\n",
        "\n",
        "Цикл **for** - этот вид цикла используют, когда количество итераций зависит от того, сколько в условии задано элементов. Внутри цикла for нельзя изменять итерируемый объект — это может привести к ошибкам. Его можно использовать для вывода или параметров в промежуточных вычислениях, но новые значения лучше не присваивать. Если нужно изменить переменную, возможно, понадобится другой цикл — while.\n",
        "\n",
        "Цикл **while** - этот оператор будет выполнять тело цикла до тех пор, пока выражение в его условии остаётся истинным. Чтобы условие действительно имело шанс стать ложным, в теле цикла нужно изменить переменную, которая может использоваться как счётчик итераций. Сначала мы реализуем цикл for и смоделируем полёт сн6аряда в зависимости от времени полёта.\n"
      ],
      "metadata": {
        "id": "wAsSLm7tqg0P"
      }
    },
    {
      "cell_type": "code",
      "source": [
        "# Программа для моделирования вертикального положения снаряда \n",
        "\n",
        "v0 = 5       # Начальная скорость\n",
        "g = 9.80665  # Ускорение свободного падения\n",
        "r = 1.8      # Рост спортсмена\n",
        "mishen = 1.8 # Высота мишени\n",
        "\n",
        "tmax = 2*v0/g\n",
        "\n",
        "t = [0, 1/4*tmax, 1/2*tmax, 3/4*tmax, tmax]     \n",
        "# список моментов времени\n",
        "\n",
        "n = len(t)  \n",
        "#  функция len() определяет \"длинну\" списка\n",
        "\n",
        "print(\"число моментов времени \", n)\n",
        "\n",
        "for i in t:\n",
        "  visota = round(v0*i - 1/2*g*i**2 + r, 3)\n",
        "  print(f\"высота в {round(i, 2)} сек. = {visota} м.\")"
      ],
      "metadata": {
        "colab": {
          "base_uri": "https://localhost:8080/"
        },
        "id": "R7k2H1EHR9-D",
        "outputId": "70feee8e-7856-431a-bf0f-f86ecdc2a0a6"
      },
      "execution_count": null,
      "outputs": [
        {
          "output_type": "stream",
          "name": "stdout",
          "text": [
            "число моментов времени  5\n",
            "высота в 0 сек. = 1.8 м.\n",
            "высота в 0.25 сек. = 2.756 м.\n",
            "высота в 0.51 сек. = 3.075 м.\n",
            "высота в 0.76 сек. = 2.756 м.\n",
            "высота в 1.02 сек. = 1.8 м.\n"
          ]
        }
      ]
    },
    {
      "cell_type": "markdown",
      "source": [
        "Затем с помощью цикла while подберём скорость необходимую для поражения мишени по вертикальной составляющей с заданной точностью. В нашем случае отклонение должно быть меньше 0.1 мм."
      ],
      "metadata": {
        "id": "V9xB6WJ4soi2"
      }
    },
    {
      "cell_type": "code",
      "source": [
        "# Программа для моделирования броска снаряда \n",
        "\n",
        "v0 = 0       # Начальная скорость\n",
        "g = 9.80665  # Ускорение свободного падения\n",
        "t = 0.4      # Время\n",
        "r = 1.8      # Рост спортсмена\n",
        "mishen = 1.8 # Высота мишени\n",
        "pogr = 1\n",
        "\n",
        "while pogr > 0.0001:\n",
        "  v0 += 0.0001\n",
        "  y = v0*t - 1/2*g*t**2 + r\n",
        "  pogr = round(abs(mishen-y), 4)\n",
        "print('Скорость =', v0)\n",
        "  \n",
        "print('Высота попадания ', y,'\\n', 'Погрешность', pogr) \n"
      ],
      "metadata": {
        "colab": {
          "base_uri": "https://localhost:8080/"
        },
        "outputId": "ed4e2b70-3ef9-4eaa-b7d5-80b48ef4d69b",
        "id": "qoEcgLPxdVsr"
      },
      "execution_count": null,
      "outputs": [
        {
          "output_type": "stream",
          "name": "stdout",
          "text": [
            "Скорость = 1.9609999999998005\n",
            "Высота попадания  1.79986799999992 \n",
            " Погрешность 0.0001\n"
          ]
        }
      ]
    },
    {
      "cell_type": "markdown",
      "source": [
        "Добавив возможности других библиотек можем получить более сложные модели"
      ],
      "metadata": {
        "id": "Ed__4TxY-xYf"
      }
    },
    {
      "cell_type": "code",
      "source": [
        "import math\n",
        "import numpy as np\n",
        " \n",
        " \n",
        "v0=5.0\n",
        "a=40\n",
        "g = 9.80665\n",
        "tmax = 2*v0/g\n",
        " \n",
        "t = np.linspace(0, tmax, 1000)\n",
        "y = v0*t - 0.5*g*t**2\n",
        "x = v0*t\n",
        "y1 = v0*math.sin(math.radians(a))*t - 0.5*g*t**2\n",
        "x1 = v0*math.cos(math.radians(a))*t\n",
        "max_height = y[0]\n",
        "for i in range(1, 1000):\n",
        "    if y[i] > max_height:\n",
        "        max_height = y[i]\n",
        "max_distanse = x[0]\n",
        "for i in range(1, 1000):\n",
        "    if x[i] > max_distanse:\n",
        "        max_distanse = x[i]\n",
        " \n",
        "smax =(v0**2*math.sin(math.radians(2*a)))/g\n",
        "hmax=((v0*math.sin(math.radians(a)))**2)/(2*g)\n",
        "angle=math.degrees(math.asin(((max_distanse/2)*g)/(v0**2)))/2\n",
        "anglemax=math.ceil(math.degrees(math.asin((math.sqrt(max_height*2*g))/5)))\n",
        "\n",
        "for a2 in range(90):\n",
        "    for v2 in range(100):\n",
        "        y2 = v2*math.sin(math.radians(a2)) - 0.5*g\n",
        "        x2 = v2*math.cos(math.radians(a2))\n",
        "        if y2 == 3 and x2 == 2:\n",
        "            break\n",
        " \n",
        "print(f'1)Дальность прыжка = {round(smax, 5)} (м), Высота прыжка = {round(hmax, 5)} (м)')\n",
        "print(f'2)Начальный угол для максимальной дальности прыжка = {angle}°')\n",
        "print(f'3)Начальный угол для максимальной высоты прыжка = {anglemax}°')\n",
        "print(f'4)Для попадания в точку с координатами (2,3) м через 1 с угол = {a2}° и скорость = {v2} м/с')\n",
        "\n"
      ],
      "metadata": {
        "id": "pbf_sSyPdUEN",
        "colab": {
          "base_uri": "https://localhost:8080/"
        },
        "outputId": "07f32362-1dff-47ef-82ab-17dcce7f79ed"
      },
      "execution_count": 4,
      "outputs": [
        {
          "output_type": "stream",
          "name": "stdout",
          "text": [
            "1)Дальность прыжка = 2.51056 (м), Высота прыжка = 0.52665 (м)\n",
            "2)Начальный угол для максимальной дальности прыжка = 45.0°\n",
            "3)Начальный угол для максимальной высоты прыжка = 90°\n",
            "4)Для попадания в точку с координатами (2,3) м через 1 с угол = 89° и скорость = 99 м/с\n"
          ]
        }
      ]
    },
    {
      "cell_type": "markdown",
      "source": [
        "Задача про числа Фибоначчи роекурсией и циклом"
      ],
      "metadata": {
        "id": "A_iRMrLj_hsP"
      }
    },
    {
      "cell_type": "code",
      "source": [
        "def fibonacci(n):\n",
        "    if n in (1, 2):\n",
        "        return 1\n",
        "    return fibonacci(n - 1) + fibonacci(n - 2)\n",
        " \n",
        " \n",
        "print(fibonacci(10))"
      ],
      "metadata": {
        "colab": {
          "base_uri": "https://localhost:8080/"
        },
        "id": "QUGhawow2i-u",
        "outputId": "55f33888-cc1d-4fc6-b263-c35fb62c4a99"
      },
      "execution_count": 5,
      "outputs": [
        {
          "output_type": "stream",
          "name": "stdout",
          "text": [
            "55\n"
          ]
        }
      ]
    },
    {
      "cell_type": "code",
      "source": [
        "fib1 = fib2 = 1\n",
        " \n",
        "n = int(input())\n",
        " \n",
        "print(fib1, fib2, end=' ')\n",
        " \n",
        "for i in range(2, n):\n",
        "    fib1, fib2 = fib2, fib1 + fib2\n",
        "    print(fib2, end=' ')"
      ],
      "metadata": {
        "colab": {
          "base_uri": "https://localhost:8080/"
        },
        "id": "UJ0JV_Pm_Xfn",
        "outputId": "e5e41ba0-a008-4376-f892-c098ee4d5533"
      },
      "execution_count": 11,
      "outputs": [
        {
          "output_type": "stream",
          "name": "stdout",
          "text": [
            "10\n",
            "1 1 2 3 5 8 13 21 34 55 "
          ]
        }
      ]
    },
    {
      "cell_type": "code",
      "source": [
        "fib1 = fib2 = 1\n",
        " \n",
        "n = input(\"Номер элемента ряда Фибоначчи: \")\n",
        "n = int(n) - 2\n",
        " \n",
        "while n > 0:\n",
        "    fib1, fib2 = fib2, fib1 + fib2\n",
        "    n -= 1\n",
        " \n",
        "print(\"Значение этого элемента:\", fib2)"
      ],
      "metadata": {
        "colab": {
          "base_uri": "https://localhost:8080/"
        },
        "id": "ZnWHA3n6_FwX",
        "outputId": "5715098b-6fbd-4efa-e9b5-741aed926834"
      },
      "execution_count": 9,
      "outputs": [
        {
          "output_type": "stream",
          "name": "stdout",
          "text": [
            "Номер элемента ряда Фибоначчи: 10\n",
            "Значение этого элемента: 55\n"
          ]
        }
      ]
    },
    {
      "cell_type": "code",
      "source": [
        "a = int(input('Номер элемента ряда Фибоначчи = '))\n",
        "\n",
        "def fib(n):\n",
        "    a, b = 1, 1\n",
        "    for _ in range(n):\n",
        "        yield a\n",
        "        a, b = b, a + b\n",
        "\n",
        "print(list(fib(a)))"
      ],
      "metadata": {
        "colab": {
          "base_uri": "https://localhost:8080/"
        },
        "id": "GiikVkf8-ZQP",
        "outputId": "b3c5c851-5174-4979-b793-bca9bbc2e577"
      },
      "execution_count": 12,
      "outputs": [
        {
          "output_type": "stream",
          "name": "stdout",
          "text": [
            "Номер элемента ряда Фибоначчи = 10\n",
            "[1, 1, 2, 3, 5, 8, 13, 21, 34, 55]\n"
          ]
        }
      ]
    }
  ]
}