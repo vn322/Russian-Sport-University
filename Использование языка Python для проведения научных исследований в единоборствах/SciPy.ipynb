{
  "nbformat": 4,
  "nbformat_minor": 0,
  "metadata": {
    "colab": {
      "provenance": []
    },
    "kernelspec": {
      "name": "python3",
      "display_name": "Python 3"
    },
    "language_info": {
      "name": "python"
    }
  },
  "cells": [
    {
      "cell_type": "code",
      "source": [
        "import pandas as pd\n",
        "import numpy as np\n",
        "import matplotlib.pyplot as plt\n",
        "import seaborn as sns"
      ],
      "metadata": {
        "id": "G5onEmrNezpC"
      },
      "execution_count": 1,
      "outputs": []
    },
    {
      "cell_type": "code",
      "source": [
        "data = {\n",
        "    'Выпрыгивания_10_сек': [8, 9, 16, 15, 15, 17, 16, 18],\n",
        "    'Отжимания': [20, 20, 25, 40, 35, 30, 29, 27],\n",
        "    'Сила_удара': [250, 300, 500, 600, 630, 620, 480, 550]\n",
        "}\n",
        "df = pd.DataFrame(data)\n",
        "df"
      ],
      "metadata": {
        "colab": {
          "base_uri": "https://localhost:8080/",
          "height": 300
        },
        "id": "Um3eg9tLeIU6",
        "outputId": "2dc32696-23b3-4b54-bd3d-42c465ac7614"
      },
      "execution_count": 2,
      "outputs": [
        {
          "output_type": "execute_result",
          "data": {
            "text/plain": [
              "   Выпрыгивания_10_сек  Отжимания  Сила_удара\n",
              "0                    8         20         250\n",
              "1                    9         20         300\n",
              "2                   16         25         500\n",
              "3                   15         40         600\n",
              "4                   15         35         630\n",
              "5                   17         30         620\n",
              "6                   16         29         480\n",
              "7                   18         27         550"
            ],
            "text/html": [
              "\n",
              "  <div id=\"df-ca4540c1-1fbd-45a7-a733-34a7bd36c5a8\">\n",
              "    <div class=\"colab-df-container\">\n",
              "      <div>\n",
              "<style scoped>\n",
              "    .dataframe tbody tr th:only-of-type {\n",
              "        vertical-align: middle;\n",
              "    }\n",
              "\n",
              "    .dataframe tbody tr th {\n",
              "        vertical-align: top;\n",
              "    }\n",
              "\n",
              "    .dataframe thead th {\n",
              "        text-align: right;\n",
              "    }\n",
              "</style>\n",
              "<table border=\"1\" class=\"dataframe\">\n",
              "  <thead>\n",
              "    <tr style=\"text-align: right;\">\n",
              "      <th></th>\n",
              "      <th>Выпрыгивания_10_сек</th>\n",
              "      <th>Отжимания</th>\n",
              "      <th>Сила_удара</th>\n",
              "    </tr>\n",
              "  </thead>\n",
              "  <tbody>\n",
              "    <tr>\n",
              "      <th>0</th>\n",
              "      <td>8</td>\n",
              "      <td>20</td>\n",
              "      <td>250</td>\n",
              "    </tr>\n",
              "    <tr>\n",
              "      <th>1</th>\n",
              "      <td>9</td>\n",
              "      <td>20</td>\n",
              "      <td>300</td>\n",
              "    </tr>\n",
              "    <tr>\n",
              "      <th>2</th>\n",
              "      <td>16</td>\n",
              "      <td>25</td>\n",
              "      <td>500</td>\n",
              "    </tr>\n",
              "    <tr>\n",
              "      <th>3</th>\n",
              "      <td>15</td>\n",
              "      <td>40</td>\n",
              "      <td>600</td>\n",
              "    </tr>\n",
              "    <tr>\n",
              "      <th>4</th>\n",
              "      <td>15</td>\n",
              "      <td>35</td>\n",
              "      <td>630</td>\n",
              "    </tr>\n",
              "    <tr>\n",
              "      <th>5</th>\n",
              "      <td>17</td>\n",
              "      <td>30</td>\n",
              "      <td>620</td>\n",
              "    </tr>\n",
              "    <tr>\n",
              "      <th>6</th>\n",
              "      <td>16</td>\n",
              "      <td>29</td>\n",
              "      <td>480</td>\n",
              "    </tr>\n",
              "    <tr>\n",
              "      <th>7</th>\n",
              "      <td>18</td>\n",
              "      <td>27</td>\n",
              "      <td>550</td>\n",
              "    </tr>\n",
              "  </tbody>\n",
              "</table>\n",
              "</div>\n",
              "      <button class=\"colab-df-convert\" onclick=\"convertToInteractive('df-ca4540c1-1fbd-45a7-a733-34a7bd36c5a8')\"\n",
              "              title=\"Convert this dataframe to an interactive table.\"\n",
              "              style=\"display:none;\">\n",
              "        \n",
              "  <svg xmlns=\"http://www.w3.org/2000/svg\" height=\"24px\"viewBox=\"0 0 24 24\"\n",
              "       width=\"24px\">\n",
              "    <path d=\"M0 0h24v24H0V0z\" fill=\"none\"/>\n",
              "    <path d=\"M18.56 5.44l.94 2.06.94-2.06 2.06-.94-2.06-.94-.94-2.06-.94 2.06-2.06.94zm-11 1L8.5 8.5l.94-2.06 2.06-.94-2.06-.94L8.5 2.5l-.94 2.06-2.06.94zm10 10l.94 2.06.94-2.06 2.06-.94-2.06-.94-.94-2.06-.94 2.06-2.06.94z\"/><path d=\"M17.41 7.96l-1.37-1.37c-.4-.4-.92-.59-1.43-.59-.52 0-1.04.2-1.43.59L10.3 9.45l-7.72 7.72c-.78.78-.78 2.05 0 2.83L4 21.41c.39.39.9.59 1.41.59.51 0 1.02-.2 1.41-.59l7.78-7.78 2.81-2.81c.8-.78.8-2.07 0-2.86zM5.41 20L4 18.59l7.72-7.72 1.47 1.35L5.41 20z\"/>\n",
              "  </svg>\n",
              "      </button>\n",
              "      \n",
              "  <style>\n",
              "    .colab-df-container {\n",
              "      display:flex;\n",
              "      flex-wrap:wrap;\n",
              "      gap: 12px;\n",
              "    }\n",
              "\n",
              "    .colab-df-convert {\n",
              "      background-color: #E8F0FE;\n",
              "      border: none;\n",
              "      border-radius: 50%;\n",
              "      cursor: pointer;\n",
              "      display: none;\n",
              "      fill: #1967D2;\n",
              "      height: 32px;\n",
              "      padding: 0 0 0 0;\n",
              "      width: 32px;\n",
              "    }\n",
              "\n",
              "    .colab-df-convert:hover {\n",
              "      background-color: #E2EBFA;\n",
              "      box-shadow: 0px 1px 2px rgba(60, 64, 67, 0.3), 0px 1px 3px 1px rgba(60, 64, 67, 0.15);\n",
              "      fill: #174EA6;\n",
              "    }\n",
              "\n",
              "    [theme=dark] .colab-df-convert {\n",
              "      background-color: #3B4455;\n",
              "      fill: #D2E3FC;\n",
              "    }\n",
              "\n",
              "    [theme=dark] .colab-df-convert:hover {\n",
              "      background-color: #434B5C;\n",
              "      box-shadow: 0px 1px 3px 1px rgba(0, 0, 0, 0.15);\n",
              "      filter: drop-shadow(0px 1px 2px rgba(0, 0, 0, 0.3));\n",
              "      fill: #FFFFFF;\n",
              "    }\n",
              "  </style>\n",
              "\n",
              "      <script>\n",
              "        const buttonEl =\n",
              "          document.querySelector('#df-ca4540c1-1fbd-45a7-a733-34a7bd36c5a8 button.colab-df-convert');\n",
              "        buttonEl.style.display =\n",
              "          google.colab.kernel.accessAllowed ? 'block' : 'none';\n",
              "\n",
              "        async function convertToInteractive(key) {\n",
              "          const element = document.querySelector('#df-ca4540c1-1fbd-45a7-a733-34a7bd36c5a8');\n",
              "          const dataTable =\n",
              "            await google.colab.kernel.invokeFunction('convertToInteractive',\n",
              "                                                     [key], {});\n",
              "          if (!dataTable) return;\n",
              "\n",
              "          const docLinkHtml = 'Like what you see? Visit the ' +\n",
              "            '<a target=\"_blank\" href=https://colab.research.google.com/notebooks/data_table.ipynb>data table notebook</a>'\n",
              "            + ' to learn more about interactive tables.';\n",
              "          element.innerHTML = '';\n",
              "          dataTable['output_type'] = 'display_data';\n",
              "          await google.colab.output.renderOutput(dataTable, element);\n",
              "          const docLink = document.createElement('div');\n",
              "          docLink.innerHTML = docLinkHtml;\n",
              "          element.appendChild(docLink);\n",
              "        }\n",
              "      </script>\n",
              "    </div>\n",
              "  </div>\n",
              "  "
            ]
          },
          "metadata": {},
          "execution_count": 2
        }
      ]
    },
    {
      "cell_type": "markdown",
      "source": [
        "Одномерная интерполяция — это область построения кривой, которая бы полностью соответствовала набору двумерных точек данных. В SciPy есть функция interp1d, которая используется для создания одномерной интерполяции. При подборе гиперпараметров можно выбрать закон по которому будет происходить интерполяция, по умолчанию он линейный, но также доступно использования квадратичной и кубической зависимостей (quadratic, cubic, linear) ."
      ],
      "metadata": {
        "id": "u-8u6daajisQ"
      }
    },
    {
      "cell_type": "markdown",
      "source": [
        "The kind parameter specifies the type of curve you want. This parameter can be quadratic, cubic, or any other type but the default is linear."
      ],
      "metadata": {
        "id": "PqoBMcwzh4Xn"
      }
    },
    {
      "cell_type": "code",
      "source": [
        "from scipy import interpolate\n",
        "x = np.arange(0, 8)\n",
        "y = df['Отжимания']\n",
        "f = interpolate.interp1d(x, y, kind = 'cubic')\n",
        "f1 = interpolate.interp1d(x, y, kind = 'linear')\n",
        "x1 = np.arange(2, 6, 0.1)\n",
        "\n",
        "y1 = f(x1)   # использовать функцию интерполяции, возвращаемую `interp1d`\n",
        "y2 = f1(x1)\n",
        "\n",
        "plt.figure()\n",
        "fig = plt.figure(figsize =(7, 5))\n",
        "\n",
        "# addind first subplot\n",
        "plt.subplot(121)\n",
        "plt.plot(x, y, 'o', x1, y1, '--')\n",
        "plt.legend([\"Кубическая\"])\n",
        "\n",
        "# addding second subplot\n",
        "plt.subplot(122)\n",
        "plt.plot(x, y, 'o', x1, y2, '--')\n",
        "plt.legend([\"Линейная\"])"
      ],
      "metadata": {
        "colab": {
          "base_uri": "https://localhost:8080/",
          "height": 357
        },
        "id": "BbcyAb3DiUhn",
        "outputId": "02a32e6a-b81d-4956-c463-56b828b86ac3"
      },
      "execution_count": 3,
      "outputs": [
        {
          "output_type": "execute_result",
          "data": {
            "text/plain": [
              "<matplotlib.legend.Legend at 0x7fb0fa387ac0>"
            ]
          },
          "metadata": {},
          "execution_count": 3
        },
        {
          "output_type": "display_data",
          "data": {
            "text/plain": [
              "<Figure size 432x288 with 0 Axes>"
            ]
          },
          "metadata": {}
        },
        {
          "output_type": "display_data",
          "data": {
            "text/plain": [
              "<Figure size 504x360 with 2 Axes>"
            ],
            "image/png": "[encoded data removed]"
          },
          "metadata": {
            "needs_background": "light"
          }
        }
      ]
    },
    {
      "cell_type": "markdown",
      "source": [
        "С помощью SciPy так же можно получать описательные статистики"
      ],
      "metadata": {
        "id": "9ET0zhi0bvU0"
      }
    },
    {
      "cell_type": "code",
      "source": [
        "from scipy import stats\n",
        "x = df\n",
        "pd.DataFrame({\"Максимум\": x.max(),\"Минимум\":x.min(), \n",
        "      \"Ср.арифмет\": x.mean(), \"Дисперсия\": \n",
        "      x.var()})"
      ],
      "metadata": {
        "colab": {
          "base_uri": "https://localhost:8080/",
          "height": 143
        },
        "id": "7Ol_tiuNm9F0",
        "outputId": "8a1b15ba-2afb-41e6-a7d3-91e99ea28d4a"
      },
      "execution_count": 12,
      "outputs": [
        {
          "output_type": "execute_result",
          "data": {
            "text/plain": [
              "                     Максимум  Минимум  Ср.арифмет     Дисперсия\n",
              "Выпрыгивания_10_сек        18        8       14.25     13.642857\n",
              "Отжимания                  40       20       28.25     47.928571\n",
              "Сила_удара                630      250      491.25  20869.642857"
            ],
            "text/html": [
              "\n",
              "  <div id=\"df-44fe63fa-a59e-4a3e-b202-cf88e2e9a9f0\">\n",
              "    <div class=\"colab-df-container\">\n",
              "      <div>\n",
              "<style scoped>\n",
              "    .dataframe tbody tr th:only-of-type {\n",
              "        vertical-align: middle;\n",
              "    }\n",
              "\n",
              "    .dataframe tbody tr th {\n",
              "        vertical-align: top;\n",
              "    }\n",
              "\n",
              "    .dataframe thead th {\n",
              "        text-align: right;\n",
              "    }\n",
              "</style>\n",
              "<table border=\"1\" class=\"dataframe\">\n",
              "  <thead>\n",
              "    <tr style=\"text-align: right;\">\n",
              "      <th></th>\n",
              "      <th>Максимум</th>\n",
              "      <th>Минимум</th>\n",
              "      <th>Ср.арифмет</th>\n",
              "      <th>Дисперсия</th>\n",
              "    </tr>\n",
              "  </thead>\n",
              "  <tbody>\n",
              "    <tr>\n",
              "      <th>Выпрыгивания_10_сек</th>\n",
              "      <td>18</td>\n",
              "      <td>8</td>\n",
              "      <td>14.25</td>\n",
              "      <td>13.642857</td>\n",
              "    </tr>\n",
              "    <tr>\n",
              "      <th>Отжимания</th>\n",
              "      <td>40</td>\n",
              "      <td>20</td>\n",
              "      <td>28.25</td>\n",
              "      <td>47.928571</td>\n",
              "    </tr>\n",
              "    <tr>\n",
              "      <th>Сила_удара</th>\n",
              "      <td>630</td>\n",
              "      <td>250</td>\n",
              "      <td>491.25</td>\n",
              "      <td>20869.642857</td>\n",
              "    </tr>\n",
              "  </tbody>\n",
              "</table>\n",
              "</div>\n",
              "      <button class=\"colab-df-convert\" onclick=\"convertToInteractive('df-44fe63fa-a59e-4a3e-b202-cf88e2e9a9f0')\"\n",
              "              title=\"Convert this dataframe to an interactive table.\"\n",
              "              style=\"display:none;\">\n",
              "        \n",
              "  <svg xmlns=\"http://www.w3.org/2000/svg\" height=\"24px\"viewBox=\"0 0 24 24\"\n",
              "       width=\"24px\">\n",
              "    <path d=\"M0 0h24v24H0V0z\" fill=\"none\"/>\n",
              "    <path d=\"M18.56 5.44l.94 2.06.94-2.06 2.06-.94-2.06-.94-.94-2.06-.94 2.06-2.06.94zm-11 1L8.5 8.5l.94-2.06 2.06-.94-2.06-.94L8.5 2.5l-.94 2.06-2.06.94zm10 10l.94 2.06.94-2.06 2.06-.94-2.06-.94-.94-2.06-.94 2.06-2.06.94z\"/><path d=\"M17.41 7.96l-1.37-1.37c-.4-.4-.92-.59-1.43-.59-.52 0-1.04.2-1.43.59L10.3 9.45l-7.72 7.72c-.78.78-.78 2.05 0 2.83L4 21.41c.39.39.9.59 1.41.59.51 0 1.02-.2 1.41-.59l7.78-7.78 2.81-2.81c.8-.78.8-2.07 0-2.86zM5.41 20L4 18.59l7.72-7.72 1.47 1.35L5.41 20z\"/>\n",
              "  </svg>\n",
              "      </button>\n",
              "      \n",
              "  <style>\n",
              "    .colab-df-container {\n",
              "      display:flex;\n",
              "      flex-wrap:wrap;\n",
              "      gap: 12px;\n",
              "    }\n",
              "\n",
              "    .colab-df-convert {\n",
              "      background-color: #E8F0FE;\n",
              "      border: none;\n",
              "      border-radius: 50%;\n",
              "      cursor: pointer;\n",
              "      display: none;\n",
              "      fill: #1967D2;\n",
              "      height: 32px;\n",
              "      padding: 0 0 0 0;\n",
              "      width: 32px;\n",
              "    }\n",
              "\n",
              "    .colab-df-convert:hover {\n",
              "      background-color: #E2EBFA;\n",
              "      box-shadow: 0px 1px 2px rgba(60, 64, 67, 0.3), 0px 1px 3px 1px rgba(60, 64, 67, 0.15);\n",
              "      fill: #174EA6;\n",
              "    }\n",
              "\n",
              "    [theme=dark] .colab-df-convert {\n",
              "      background-color: #3B4455;\n",
              "      fill: #D2E3FC;\n",
              "    }\n",
              "\n",
              "    [theme=dark] .colab-df-convert:hover {\n",
              "      background-color: #434B5C;\n",
              "      box-shadow: 0px 1px 3px 1px rgba(0, 0, 0, 0.15);\n",
              "      filter: drop-shadow(0px 1px 2px rgba(0, 0, 0, 0.3));\n",
              "      fill: #FFFFFF;\n",
              "    }\n",
              "  </style>\n",
              "\n",
              "      <script>\n",
              "        const buttonEl =\n",
              "          document.querySelector('#df-44fe63fa-a59e-4a3e-b202-cf88e2e9a9f0 button.colab-df-convert');\n",
              "        buttonEl.style.display =\n",
              "          google.colab.kernel.accessAllowed ? 'block' : 'none';\n",
              "\n",
              "        async function convertToInteractive(key) {\n",
              "          const element = document.querySelector('#df-44fe63fa-a59e-4a3e-b202-cf88e2e9a9f0');\n",
              "          const dataTable =\n",
              "            await google.colab.kernel.invokeFunction('convertToInteractive',\n",
              "                                                     [key], {});\n",
              "          if (!dataTable) return;\n",
              "\n",
              "          const docLinkHtml = 'Like what you see? Visit the ' +\n",
              "            '<a target=\"_blank\" href=https://colab.research.google.com/notebooks/data_table.ipynb>data table notebook</a>'\n",
              "            + ' to learn more about interactive tables.';\n",
              "          element.innerHTML = '';\n",
              "          dataTable['output_type'] = 'display_data';\n",
              "          await google.colab.output.renderOutput(dataTable, element);\n",
              "          const docLink = document.createElement('div');\n",
              "          docLink.innerHTML = docLinkHtml;\n",
              "          element.appendChild(docLink);\n",
              "        }\n",
              "      </script>\n",
              "    </div>\n",
              "  </div>\n",
              "  "
            ]
          },
          "metadata": {},
          "execution_count": 12
        }
      ]
    },
    {
      "cell_type": "markdown",
      "source": [
        "# Критерий Стьюдента\n",
        "\n",
        "ttest_1samp вычисляет t-тест для среднего значения ОДНОЙ группы. Это двусторонний тест для нулевой гипотезы о том, что ожидаемое значение (среднее) выборки независимых наблюдений равно заданному среднему значению для генеральной совокупности, среднему значению."
      ],
      "metadata": {
        "id": "--6lVzjEpt57"
      }
    },
    {
      "cell_type": "code",
      "source": [
        "stats.ttest_1samp(x,x.mean()+1.5)"
      ],
      "metadata": {
        "colab": {
          "base_uri": "https://localhost:8080/"
        },
        "id": "XM8z58Q_X1uB",
        "outputId": "401d3b61-54de-4113-af46-d031b21d5537"
      },
      "execution_count": 15,
      "outputs": [
        {
          "output_type": "execute_result",
          "data": {
            "text/plain": [
              "Ttest_1sampResult(statistic=Выпрыгивания_10_сек   -1.148639\n",
              "Отжимания             -0.612829\n",
              "Сила_удара            -0.029368\n",
              "dtype: float64, pvalue=array([0.28843659, 0.55936503, 0.97739063]))"
            ]
          },
          "metadata": {},
          "execution_count": 15
        }
      ]
    },
    {
      "cell_type": "markdown",
      "source": [
        "t-test (Для двух несвязанных выборок).\n",
        "тест показывает, имеют ли две выборки данных разные средние значения (Теперь у нас две разные выборки, а не одна). Здесь мы принимаем нулевую гипотезу о том, что обе группы имеют равные средние"
      ],
      "metadata": {
        "id": "6a4vdlxssQLx"
      }
    },
    {
      "cell_type": "code",
      "source": [
        "stats.ttest_ind(df.loc[: 4],df.loc[4: ])"
      ],
      "metadata": {
        "colab": {
          "base_uri": "https://localhost:8080/"
        },
        "id": "lZmWL1_dYSNZ",
        "outputId": "837fbba2-5954-47f5-c26e-be717f532b56"
      },
      "execution_count": 18,
      "outputs": [
        {
          "output_type": "execute_result",
          "data": {
            "text/plain": [
              "Ttest_indResult(statistic=array([-1.95034831, -0.46465181, -1.2268099 ]), pvalue=array([0.09212027, 0.65628726, 0.25955223]))"
            ]
          },
          "metadata": {},
          "execution_count": 18
        }
      ]
    },
    {
      "cell_type": "markdown",
      "source": [
        "t-тест для ДВУХ СВЯЗАННЫХ выборок. Это проверка нулевой гипотезы о том, что две связанные или повторяющиеся выборки имеют одинаковые средние (ожидаемые) значения."
      ],
      "metadata": {
        "id": "oTryVXciR-Hq"
      }
    },
    {
      "cell_type": "code",
      "source": [
        "stats.ttest_rel(df.loc[: 3],df.loc[4: ])"
      ],
      "metadata": {
        "colab": {
          "base_uri": "https://localhost:8080/"
        },
        "id": "F-nhBJgpkzL3",
        "outputId": "ac083246-dac5-4ced-8d57-46cae2583777"
      },
      "execution_count": 24,
      "outputs": [
        {
          "output_type": "execute_result",
          "data": {
            "text/plain": [
              "Ttest_relResult(statistic=array([-2.43450801, -0.65611986, -1.40649763]), pvalue=array([0.09295484, 0.55857961, 0.25426636]))"
            ]
          },
          "metadata": {},
          "execution_count": 24
        }
      ]
    },
    {
      "cell_type": "markdown",
      "source": [
        "Параметрические критерии – критерии, основанные на оценке параметров распределения, к которым относятся среднее арифметическое, среднеквадратическое отклонение, дисперсия. Они  применимы только в том случае, если численные данные подчиняются нормальному распределению. Если распределение отличается от нормального, то следует пользоваться так называемыми непараметрическими критериями. В основе проверки на “нормальность” лежит проверка гипотез. Нулевая гипотеза – данные распределены нормально, альтернативная гипотеза – данные не имеют нормального распределения.\n",
        "\n",
        "Критерий Шапиро-Уилка используется для проверки гипотезы H_0: «случайная величина X распределена нормально» и является одним наиболее эффективных критериев проверки нормальности. Критерии, проверяющие нормальность выборки, являются частным случаем критериев согласия. Если выборка нормальна, можно далее применять мощные параметрические критерии"
      ],
      "metadata": {
        "id": "gVc8MdDn6CzS"
      }
    },
    {
      "cell_type": "code",
      "source": [
        "import scipy\n",
        "# Shapiro-Wilk Test\n",
        "stat, p = scipy.stats.shapiro( df['Выпрыгивания_10_сек']) # тест Шапиро-Уилк\n",
        "print('Statistics=%.3f, p-value=%.3f' % (stat, p))\n",
        "\n",
        "alpha = 0.05\n",
        "if p > alpha:\n",
        "    print('Принять гипотезу о нормальности, looks Gaussian (fail to reject H0)')\n",
        "else:\n",
        "    print('Отклонить гипотезу о нормальности, does not look Gaussian (reject H0)')"
      ],
      "metadata": {
        "colab": {
          "base_uri": "https://localhost:8080/"
        },
        "id": "oYPGIP4l5c9o",
        "outputId": "12322016-7348-409c-b490-6f3ffe303679"
      },
      "execution_count": 30,
      "outputs": [
        {
          "output_type": "stream",
          "name": "stdout",
          "text": [
            "Statistics=0.813, p-value=0.040\n",
            "Отклонить гипотезу о нормальности, does not look Gaussian (reject H0)\n"
          ]
        }
      ]
    },
    {
      "cell_type": "markdown",
      "source": [
        "Критерий К-квадрата Д'Агостино. Этот тест сочетает в себе тест на перекос и тест на эксцесс для проверки нормальности. Перекос — это значение, которое говорит нам, насколько распределение сосредоточено влево или вправо. Другими словами, это мера асимметрии распределения. Эксцесс похож на перекос, но отличается тем, что он говорит нам, какая часть распределения сосредоточена в хвосте. Объединяя эти две метрики, критерий Д'Агостино К-квадрат призван обеспечить большую надежность. "
      ],
      "metadata": {
        "id": "fyeh1iQua5a8"
      }
    },
    {
      "cell_type": "code",
      "source": [
        "# D'Agostino and Pearson's Test\n",
        "# Критерий согласия Пирсона, Тест д'Агостино на K ^ 2\n",
        "stat, p = scipy.stats.normaltest( df['Отжимания']) \n",
        "print('Statistics=%.3f, p-value=%.3f' % (stat, p))\n",
        "\n",
        "alpha = 0.05\n",
        "if p > alpha:\n",
        "    print('Принять гипотезу о нормальности')\n",
        "else:\n",
        "    print('Отклонить гипотезу о нормальности')"
      ],
      "metadata": {
        "colab": {
          "base_uri": "https://localhost:8080/"
        },
        "id": "7IxQUsXu6Ic-",
        "outputId": "b4a58443-3c87-4301-dc67-22194ef1c0a9"
      },
      "execution_count": 32,
      "outputs": [
        {
          "output_type": "stream",
          "name": "stdout",
          "text": [
            "Statistics=0.368, p-value=0.832\n",
            "Принять гипотезу о нормальности\n"
          ]
        }
      ]
    },
    {
      "cell_type": "markdown",
      "source": [
        "В случае если гипотеза о нормальности отклонена , необходимо воспользоваться непараметрическими критериями. Эти тесты работают аналогичным образом, но требуют, чтобы реальные оценочные данные были сначала преобразованы в ранговые данные, прежде чем можно будет выполнить тест."
      ],
      "metadata": {
        "id": "6ARhD1dacKNs"
      }
    },
    {
      "cell_type": "markdown",
      "source": [
        "**U-тест Манна-Уитни**\n",
        "\n",
        "https://docs.scipy.org/doc/scipy/reference/generated/scipy.stats.mannwhitneyu.html \n",
        "\n",
        "\n",
        "Простой непараметрический критерий. Мощность критерия выше, чем у Q-критерия Розенбаума.U-критерий Манна-Уитни используется для оценки различий между двумя независимыми выборками по уровню какого-либо количественного признака.\n",
        "\n",
        "Этот метод определяет, достаточно ли мала зона перекрещивающихся значений между двумя рядами (ранжированным рядом значений параметра в первой выборке и таким же во второй выборке). Чем меньше значение критерия, тем вероятнее, что различия между значениями параметра в выборках достоверны.\n",
        "\n",
        "**Ограничения применимости критерия**\n",
        "\n",
        "В каждой из выборок должно быть не менее 3 значений признака. Допускается, чтобы в одной выборке было два значения, но во второй тогда не менее пяти.\n",
        "В выборочных данных не должно быть совпадающих значений (все числа — разные) или таких совпадений должно быть очень мало (до 10)"
      ],
      "metadata": {
        "id": "VDmiWpp1I12W"
      }
    },
    {
      "cell_type": "code",
      "source": [
        "# Mann-Whitney U test\n",
        "\n",
        "from scipy.stats import mannwhitneyu\n",
        "\n",
        "stat, p = mannwhitneyu(df['Выпрыгивания_10_сек'],df['Сила_удара'])\n",
        "print('Statistics=%.3f, p=%.3f' % (stat, p))\n",
        "# interpret\n",
        "alpha = 0.05\n",
        "if p > alpha:\n",
        "\tprint('Same distribution (fail to reject H0)')\n",
        "else:\n",
        "\tprint('Different distribution (reject H0)')"
      ],
      "metadata": {
        "id": "XmgP3m-oI1OA",
        "colab": {
          "base_uri": "https://localhost:8080/"
        },
        "outputId": "306315e4-2416-4477-f4ef-6c5d606f7f30"
      },
      "execution_count": 34,
      "outputs": [
        {
          "output_type": "stream",
          "name": "stdout",
          "text": [
            "Statistics=0.000, p=0.001\n",
            "Different distribution (reject H0)\n"
          ]
        }
      ]
    },
    {
      "cell_type": "markdown",
      "source": [
        "**Критерий Уилкоксона для связанных выборок** (также используются названия Т-критерий Уилкоксона, критерий Вилкоксона, критерий знаковых рангов Уилкоксона, критерий суммы рангов Уилкоксона) – непараметрический статистический критерий, используемый для сравнения двух связанных (парных) выборок по уровню какого-либо количественного признака, измеренного в непрерывной или в порядковой шкале.\n",
        "\n",
        "Суть метода состоит в том, что сопоставляются абсолютные величины выраженности сдвигов в том или ином направлении. Для этого сначала все абсолютные величины сдвигов ранжируются, а потом суммируются ранги. Если сдвиги в ту или иную сторону происходят случайно, то и суммы их рангов окажутся примерно равны. Если же интенсивность сдвигов в одну сторону больше, то сумма рангов абсолютных значений сдвигов в противоположную сторону будет значительно ниже, чем это могло бы быть при случайных изменениях.\n",
        "\n",
        "Т-критерий Уилкоксона используется для оценки различий между двумя рядами измерений, выполненных для одной и той же совокупности исследуемых, но в разных условиях или в разное время. Данный тест способен выявить направленность и выраженность изменений - то есть, являются ли показатели больше сдвинутыми в одном направлении, чем в другом.\n",
        "\n",
        "Классическим примером ситуации, в которой может применяться Т-критерий Уилкоксона для связанных совокупностей, является исследование \"до-после\", когда сравниваются показатели до и после лечения. Например, при изучении эффективности антигипертензивного средства сравнивается артериальное давление до приема препарата и после приема.\n",
        "\n",
        "**Условия и ограничения** применения Т-критерия Уилкоксона\n",
        "Критерий Уилкоксона является непараметрическим критерием, поэтому, в отличие от парного t-критерия Стьюдента, не требует наличия нормального распределения сравниваемых совокупностей.\n",
        "\n",
        "Число исследуемых при использовании T-критерия Уилкоксона должно быть не менее \n",
        "Изучаемый признак может быть измерен как в количественной непрерывной (артериальное давление, ЧСС, содержание лейкоцитов в 1 мл крови), так и в порядковой шкале (число баллов, степень тяжести заболевания, степень обсемененности микроорганизмами).\n",
        "Данный критерий используется только в случае сравнения двух рядов измерений. Аналогом Т-критерия Уилкоксона для сравнения трех и более связанных совокупностей является Критерий Фридмана."
      ],
      "metadata": {
        "id": "m9MUPc5XMM8m"
      }
    },
    {
      "cell_type": "code",
      "source": [
        "from scipy.stats import wilcoxon\n",
        "\n",
        "stat, p = wilcoxon(df['Отжимания'],df['Сила_удара'])\n",
        "print('Statistics=%.3f, p=%.3f' % (stat, p))\n",
        "# interpret\n",
        "alpha = 0.05\n",
        "if p > alpha:\n",
        "\tprint('Same distribution (fail to reject H0)')\n",
        "else:\n",
        "\tprint('Different distribution (reject H0)')"
      ],
      "metadata": {
        "id": "xQ_EAiRkMzFJ",
        "colab": {
          "base_uri": "https://localhost:8080/"
        },
        "outputId": "74e7c4d0-7937-4d4e-8a42-4bcf8b492d84"
      },
      "execution_count": 36,
      "outputs": [
        {
          "output_type": "stream",
          "name": "stdout",
          "text": [
            "Statistics=0.000, p=0.008\n",
            "Different distribution (reject H0)\n"
          ]
        }
      ]
    },
    {
      "cell_type": "markdown",
      "source": [
        "**Критерий Краскела — Уоллиса** предназначен для проверки равенства медиан нескольких выборок. Данный критерий является многомерным обобщением критерия Уилкоксона — Манна — Уитни. Критерий Краскела — Уоллиса является ранговым, поэтому он инвариантен по отношению к любому монотонному преобразованию шкалы измерения.\n",
        "\n",
        "https://docs.scipy.org/doc/scipy/reference/generated/scipy.stats.kruskal.html\n",
        "\n",
        "Известен также под названиями: H-критерий Краскела — Уоллиса, однофакторный дисперсионный анализ Краскела — Уоллиса (англ. Kruskal — Wallis one-way analysis of variance)\n",
        "\n",
        "Примеры задач\n",
        "Проходит чемпионат мира. Первая выборка — опрос болельщиков с вопросом «Каковы шансы на победу сборной России?» до начала чемпионата. Вторая выборка —- после первой игры, третья — после второго матча и т. д. Значения в выборках — шансы России на победу по десятибалльной шкале (1 —- «никаких перспектив», 10 — «отвезти в Россию кубок —- дело времени»). Требуется проверить, зависят ли результаты опросов от хода чемпионата."
      ],
      "metadata": {
        "id": "85hKxvXVO7m2"
      }
    },
    {
      "cell_type": "code",
      "source": [
        "# Kruskal-Wallis H-test\n",
        "from scipy.stats import kruskal\n",
        "\n",
        "\n",
        "# compare samples\n",
        "stat, p = kruskal(df['Выпрыгивания_10_сек'],df['Отжимания'],df['Сила_удара'])\n",
        "print('Statistics=%.3f, p=%.3f' % (stat, p))\n",
        "# interpret\n",
        "alpha = 0.05\n",
        "if p > alpha:\n",
        "\tprint('Same distributions (fail to reject H0)')\n",
        "else:\n",
        "\tprint('Different distributions (reject H0)')"
      ],
      "metadata": {
        "id": "sy66ABsbOJA2",
        "colab": {
          "base_uri": "https://localhost:8080/"
        },
        "outputId": "8261d150-d18a-4b0d-bdd4-739d1bfb76c0"
      },
      "execution_count": 38,
      "outputs": [
        {
          "output_type": "stream",
          "name": "stdout",
          "text": [
            "Statistics=20.507, p=0.000\n",
            "Different distributions (reject H0)\n"
          ]
        }
      ]
    },
    {
      "cell_type": "markdown",
      "source": [
        "**Критерий Фридман**а (англ. Friedman test) — непараметрический статистический тест, разработанный американским экономистом Милтоном Фридманом. Является обобщением критерия Уилкоксона и применяется для сопоставления **c** условий измерения (${\\displaystyle c\\geqslant 3}$) для **n** объектов (испытуемых) с ранжированием по индивидуальным значениям измерений. Непараметрический аналог дисперсионного анализа с повторными измерениями ANOVA. \n",
        "\n",
        "Он позволяет проверять гипотезы о различии более чем двух (т.е. от 3-х и до 100) повторных измерений по уровню выраженности изучаемой переменной.\n",
        "\n",
        "Критерий более эффективен, чем дисперсионный анализ в случае малых выборок (до 30 объектов в выборке) и распределений, отличных от нормального. Он основан на ранжировании повторных измерений для каждого объекта выборки. Проверяется при помощи критерия хи-квадрат ( ).  При справедливости нулевой гипотезы значения статистики Фридмана (критерия Фридмана) малы, т.е. эмпирический критерий меньше, чем критический. И это означает, что различия случайны и недостоверны.\n",
        "\n",
        "Критерий Фридмана позволяет установить, что величины показателей от условия к условию изменяются, но при этом не указывает на направление изменений и в этом смысле он похож на критерий знаков.\n",
        "\n",
        "Критерий Фридмана является обобщением критерия Вилкоксона на большее, чем два, количество условий измерения, при этом ранжируются не абсолютные величины сдвигов, а сами индивидуальные значения измерений.\n",
        "\n",
        "Нулевая гипотеза H0 = {между полученными в разных условиях показателями (т.е. между проверяемыми выборками) существуют лишь случайные различия}.\n",
        "\n",
        "Альтернативная гипотеза H1 = {между полученными в разных условиях показателями (т.е. между проверяемыми выборками)  имеются существенные неслучайные различия}.\n",
        "\n",
        "Ранжируются индивидуальные значения показателей (повторные измерения) для каждого экземпляра выборки в порядке убывания признака (ранжирование параметров каждой строки)."
      ],
      "metadata": {
        "id": "gFOT0zboQoD8"
      }
    },
    {
      "cell_type": "code",
      "source": [
        "# Friedman test\n",
        "\n",
        "from scipy.stats import friedmanchisquare\n",
        "\n",
        "# compare samples\n",
        "stat, p = friedmanchisquare(df['Выпрыгивания_10_сек'],df['Отжимания'],df['Сила_удара'])\n",
        "print('Statistics=%.3f, p=%.3f' % (stat, p))\n",
        "# interpret\n",
        "alpha = 0.05\n",
        "if p > alpha:\n",
        "\tprint('Same distributions (fail to reject H0)')\n",
        "else:\n",
        "\tprint('Different distributions (reject H0)')"
      ],
      "metadata": {
        "id": "kLKAqBfURFmd",
        "colab": {
          "base_uri": "https://localhost:8080/"
        },
        "outputId": "261cb994-05fc-44a2-8921-ef96f8d29c82"
      },
      "execution_count": 39,
      "outputs": [
        {
          "output_type": "stream",
          "name": "stdout",
          "text": [
            "Statistics=16.000, p=0.000\n",
            "Different distributions (reject H0)\n"
          ]
        }
      ]
    }
  ]
}