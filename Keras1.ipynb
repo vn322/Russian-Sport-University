{
  "nbformat": 4,
  "nbformat_minor": 0,
  "metadata": {
    "colab": {
      "provenance": [],
      "include_colab_link": true
    },
    "kernelspec": {
      "display_name": "Python 3",
      "language": "python",
      "name": "python3"
    },
    "language_info": {
      "codemirror_mode": {
        "name": "ipython",
        "version": 3
      },
      "file_extension": ".py",
      "mimetype": "text/x-python",
      "name": "python",
      "nbconvert_exporter": "python",
      "pygments_lexer": "ipython3",
      "version": "3.6.8"
    }
  },
  "cells": [
    {
      "cell_type": "markdown",
      "metadata": {
        "id": "view-in-github",
        "colab_type": "text"
      },
      "source": [
        "<a href=\"https://colab.research.google.com/github/vn322/Sport-University/blob/main/Keras1.ipynb\" target=\"_parent\"><img src=\"https://colab.research.google.com/assets/colab-badge.svg\" alt=\"Open In Colab\"/></a>"
      ]
    },
    {
      "cell_type": "markdown",
      "metadata": {
        "id": "y1FWR90xxpSl"
      },
      "source": [
        "# Первая нейронная сеть на Keras\n",
        "\n"
      ]
    },
    {
      "cell_type": "markdown",
      "source": [
        "<img src='https://media1.giphy.com/media/ja0M23DE1fipScX58W/giphy.gif?cid=ecf05e47hf0f9r0rl2wnidzcjnla37uscjwf1ubtffzwolo6&rid=giphy.gif&ct=g' width=400>"
      ],
      "metadata": {
        "id": "pIRDeugap8qR"
      }
    },
    {
      "cell_type": "markdown",
      "source": [
        "Рассмотрим:\n",
        "1. Как создать нейронную сеть в Keras\n",
        "2. Как обучить нейронную сеть в Keras\n",
        "\n",
        "\n",
        "Создадим:\n",
        "1. Нейрон для умножения\n",
        "2. Нейросеть для сложения\n",
        "3. Нейросеть для классификации изображений"
      ],
      "metadata": {
        "id": "lsgGTfpbH4-M"
      }
    },
    {
      "cell_type": "markdown",
      "source": [
        "[Keras](https://ru-keras.com/home/) — это библиотека глубокого обучения, представляющая из себя высокоуровневый API, написанный на Python и способный работать поверх TensorFlow, Theano или CNTK. Он был разработан с расчетом на быстрое обучение. Способность переходить от гипотез к результаты с наименьшими временными затратами является ключом к проведению успешных исследований. \n",
        "\n",
        "\n",
        "Бэкенды — это то, из-за чего Keras стал известен и популярен. Keras позволяет использовать в качестве бэкенда разные другие фреймворки. При этом написанный вами код будет исполняться независимо от используемого бэкенда. Начиналась разработка, как мы уже говорили, с Theano, но со временем добавился Tensorflow. "
      ],
      "metadata": {
        "id": "u4VjPtFmsci4"
      }
    },
    {
      "cell_type": "markdown",
      "source": [
        "Давайте создадим нейронную сеть, состоящую из одного нейрона. \n",
        "\n",
        "\n",
        "<img src='https://drive.google.com/uc?id=1Qx71h2FmXS6uKHmhcIKtp49G5nqMncWK'>\n",
        "\n",
        "При необходимости установка библиотеки происходит командой `pip install keras`"
      ],
      "metadata": {
        "id": "J2IRbGvlGxbK"
      }
    },
    {
      "cell_type": "markdown",
      "source": [
        "Модель в Keras можно описать двумя основными способами:\n",
        "\n",
        "\n",
        "- **Sequential API** — последовательное описание модели:\n",
        "\n",
        "- **Functional API**\n"
      ],
      "metadata": {
        "id": "O0685XHMuoyv"
      }
    },
    {
      "cell_type": "markdown",
      "source": [
        "- `Sequential` - это класс последовательности слоев в нейронной сети, у нас пока будет только один слой, но сюда можно добавлять сколь угодно слоев и это будет сеть, состоящая из последовательности слоев. \n",
        "\n",
        " `Sequential`, представляет собой линейный стек слоев. Для более сложных архитектур используется использовать функциональное программирование (Keras functional API), которое позволяет строить произвольные графы слоев.\n",
        "- `Dense` - это класс полносвязного/линейного слоя, все нейроны связаны друг с другом.\n",
        "- `units=1` - это количество нейронов в слое. У нас 1 нейрон.\n",
        "- `input_shape=(1,)` - это входная размерность объекта. У нас только 1 вход.\n",
        "- `activation='relu'` - это функция активации, которая добавляет в слой нелинейности, именно из-за неё мы можем получать более сложные результаты работы сети. "
      ],
      "metadata": {
        "id": "ZctkOCawG3hi"
      }
    },
    {
      "cell_type": "markdown",
      "source": [
        "<img src='https://media.giphy.com/media/mGUNI10B2qU3S/giphy.gif' width=400>"
      ],
      "metadata": {
        "id": "Gdj6Mt8CoZ7X"
      }
    },
    {
      "cell_type": "code",
      "source": [
        "from keras.layers import Dense\n",
        "from keras.models import Sequential\n",
        "\n",
        "model = Sequential([\n",
        "    Dense(1, input_shape=(1,), activation='relu')\n",
        "])\n",
        "\n",
        "model.summary()"
      ],
      "metadata": {
        "colab": {
          "base_uri": "https://localhost:8080/"
        },
        "id": "fg5zrnfNG1QN",
        "outputId": "f7182aae-68d9-489f-f071-6f7f22cb10ce"
      },
      "execution_count": null,
      "outputs": [
        {
          "output_type": "stream",
          "name": "stdout",
          "text": [
            "Model: \"sequential_23\"\n",
            "_________________________________________________________________\n",
            " Layer (type)                Output Shape              Param #   \n",
            "=================================================================\n",
            " dense_41 (Dense)            (None, 1)                 2         \n",
            "                                                                 \n",
            "=================================================================\n",
            "Total params: 2\n",
            "Trainable params: 2\n",
            "Non-trainable params: 0\n",
            "_________________________________________________________________\n"
          ]
        }
      ]
    },
    {
      "cell_type": "code",
      "source": [
        "from keras.utils import plot_model\n",
        "plot_model(model, to_file='model.png', show_shapes=True)"
      ],
      "metadata": {
        "colab": {
          "base_uri": "https://localhost:8080/",
          "height": 201
        },
        "id": "88u_nxAtyjfG",
        "outputId": "9cf1d2a2-5661-4711-a62d-9965105d3ffd"
      },
      "execution_count": null,
      "outputs": [
        {
          "output_type": "execute_result",
          "data": {
            "image/png": "[encoded data removed]",
            "text/plain": [
              "<IPython.core.display.Image object>"
            ]
          },
          "metadata": {},
          "execution_count": 154
        }
      ]
    },
    {
      "cell_type": "code",
      "source": [
        "model.get_weights()"
      ],
      "metadata": {
        "colab": {
          "base_uri": "https://localhost:8080/"
        },
        "id": "SEDpFNBmHvcd",
        "outputId": "329dcfbb-460b-4ed2-c32a-41b824f039f5"
      },
      "execution_count": null,
      "outputs": [
        {
          "output_type": "execute_result",
          "data": {
            "text/plain": [
              "[array([[-1.6161724]], dtype=float32), array([0.], dtype=float32)]"
            ]
          },
          "metadata": {},
          "execution_count": 2
        }
      ]
    },
    {
      "cell_type": "markdown",
      "source": [
        "Инициализация весов всегда разная, если её не зафиксировать:\n",
        "\n",
        "\n",
        "\n",
        "```\n",
        "# for reproducible weights initialization\n",
        "import tensorflow as tf\n",
        "tf.random.set_seed(42)\n",
        "```\n",
        "\n"
      ],
      "metadata": {
        "id": "zEKtGvqcGcNn"
      }
    },
    {
      "cell_type": "markdown",
      "source": [
        "<img src='https://media.giphy.com/media/C7gCFPxrXDMY3M4yYj/giphy.gif' width=400>"
      ],
      "metadata": {
        "id": "_Srj_yxHo-pC"
      }
    },
    {
      "cell_type": "code",
      "source": [
        "import tensorflow as tf\n",
        "tf.random.set_seed(42)\n",
        "\n",
        "model = Sequential([\n",
        "    Dense(1, input_shape=(1,), activation='relu')\n",
        "])\n",
        "\n",
        "model.get_weights()"
      ],
      "metadata": {
        "colab": {
          "base_uri": "https://localhost:8080/"
        },
        "id": "2AuwJQvyHzEc",
        "outputId": "153333a5-fc9f-4370-f1f5-2f55441ff01d"
      },
      "execution_count": null,
      "outputs": [
        {
          "output_type": "execute_result",
          "data": {
            "text/plain": [
              "[array([[0.5561756]], dtype=float32), array([0.], dtype=float32)]"
            ]
          },
          "metadata": {},
          "execution_count": 3
        }
      ]
    },
    {
      "cell_type": "markdown",
      "source": [
        "## Нейрон для умножения на 3"
      ],
      "metadata": {
        "id": "mfZ3eFidSbo2"
      }
    },
    {
      "cell_type": "markdown",
      "source": [
        "<img src='https://media.giphy.com/media/3o7qE1Thg4KxFpMGSk/giphy.gif' width=400>"
      ],
      "metadata": {
        "id": "Tbqw_y8In6fU"
      }
    },
    {
      "cell_type": "markdown",
      "source": [
        "Создадим обучающие данные"
      ],
      "metadata": {
        "id": "d9UDd0y8TbJV"
      }
    },
    {
      "cell_type": "code",
      "source": [
        "import numpy as np\n",
        "\n",
        "X = np.array([[1], [3], [2], [10], [4], [7], [8]])\n",
        "y = np.array([[3, 9, 6, 30, 12, 21, 24]]).T"
      ],
      "metadata": {
        "id": "aMwK0J81-AJ9"
      },
      "execution_count": null,
      "outputs": []
    },
    {
      "cell_type": "markdown",
      "source": [
        "Для того, что обучить нейронную сеть для любой задачи нужно ответить на три вопроса:\n",
        "1. Какая архитектура сети?\n",
        "2. Что оптимизируем?\n",
        "3. Как обучаем?"
      ],
      "metadata": {
        "id": "St5r8CNRWLfZ"
      }
    },
    {
      "cell_type": "markdown",
      "source": [
        "### Какая архитектура сети"
      ],
      "metadata": {
        "id": "0Pq6_oM6WhM5"
      }
    },
    {
      "cell_type": "markdown",
      "source": [
        "Создадим сеть, она очень простая, состоит из одного слоя и одного нейрона.\n",
        "\n",
        "<img src='https://drive.google.com/uc?id=1Qx71h2FmXS6uKHmhcIKtp49G5nqMncWK'>"
      ],
      "metadata": {
        "id": "zPr5AmvYTexL"
      }
    },
    {
      "cell_type": "code",
      "source": [
        "from keras.layers import Dense\n",
        "from keras.models import Sequential\n",
        "\n",
        "model = Sequential([\n",
        "    Dense(1, input_shape=(1,), activation='linear')\n",
        "])\n",
        "\n",
        "model.summary()"
      ],
      "metadata": {
        "colab": {
          "base_uri": "https://localhost:8080/"
        },
        "id": "c6UWgSx29ohw",
        "outputId": "27169838-cf66-467e-c0a1-4bd77e7c551a"
      },
      "execution_count": null,
      "outputs": [
        {
          "output_type": "stream",
          "name": "stdout",
          "text": [
            "Model: \"sequential_2\"\n",
            "_________________________________________________________________\n",
            " Layer (type)                Output Shape              Param #   \n",
            "=================================================================\n",
            " dense_2 (Dense)             (None, 1)                 2         \n",
            "                                                                 \n",
            "=================================================================\n",
            "Total params: 2\n",
            "Trainable params: 2\n",
            "Non-trainable params: 0\n",
            "_________________________________________________________________\n"
          ]
        }
      ]
    },
    {
      "cell_type": "markdown",
      "source": [
        "Весов у нас выходит две штуки, это вышло из-за того, что для каждого нейрона в линейном слое есть отклонение (bias). На самом деле один нейрон в линейном слое - это линейная регрессия"
      ],
      "metadata": {
        "id": "3CmqQUDHUZHX"
      }
    },
    {
      "cell_type": "code",
      "source": [
        "w1, w0 = model.get_weights()\n",
        "w1, w0"
      ],
      "metadata": {
        "colab": {
          "base_uri": "https://localhost:8080/"
        },
        "id": "-PuvdE1UBybd",
        "outputId": "c5920e4b-b1c4-414a-b3e0-5c51be3a8541"
      },
      "execution_count": null,
      "outputs": [
        {
          "output_type": "execute_result",
          "data": {
            "text/plain": [
              "(array([[0.4514159]], dtype=float32), array([0.], dtype=float32))"
            ]
          },
          "metadata": {},
          "execution_count": 6
        }
      ]
    },
    {
      "cell_type": "markdown",
      "source": [
        "Теперь сделаем предсказание этой моделью на одном объекте. "
      ],
      "metadata": {
        "id": "dggCf3ulVz6Q"
      }
    },
    {
      "cell_type": "code",
      "source": [
        "X[:1]"
      ],
      "metadata": {
        "colab": {
          "base_uri": "https://localhost:8080/"
        },
        "id": "jPPywzv7Efft",
        "outputId": "29a2141d-cf67-4002-a309-2731a4d0ee59"
      },
      "execution_count": null,
      "outputs": [
        {
          "output_type": "execute_result",
          "data": {
            "text/plain": [
              "array([[1]])"
            ]
          },
          "metadata": {},
          "execution_count": 7
        }
      ]
    },
    {
      "cell_type": "markdown",
      "source": [
        "Предсказание получается очень далекими от истины, потому что сеть еще не знает, для чего её создали."
      ],
      "metadata": {
        "id": "kuozFM1FV4p4"
      }
    },
    {
      "cell_type": "code",
      "source": [
        "model.predict(X[:1])"
      ],
      "metadata": {
        "colab": {
          "base_uri": "https://localhost:8080/"
        },
        "id": "t3LOGp6aB7re",
        "outputId": "08f8a577-0a42-4c9d-a53e-be0a0dfdc2a5"
      },
      "execution_count": null,
      "outputs": [
        {
          "output_type": "stream",
          "name": "stdout",
          "text": [
            "1/1 [==============================] - 0s 426ms/step\n"
          ]
        },
        {
          "output_type": "execute_result",
          "data": {
            "text/plain": [
              "array([[0.4514159]], dtype=float32)"
            ]
          },
          "metadata": {},
          "execution_count": 8
        }
      ]
    },
    {
      "cell_type": "code",
      "source": [
        "w1 * X[:1] + w0"
      ],
      "metadata": {
        "colab": {
          "base_uri": "https://localhost:8080/"
        },
        "id": "bGLbADogCGHa",
        "outputId": "c68be19f-a4f5-493b-d408-292bfeed97ba"
      },
      "execution_count": null,
      "outputs": [
        {
          "output_type": "execute_result",
          "data": {
            "text/plain": [
              "array([[0.4514159]])"
            ]
          },
          "metadata": {},
          "execution_count": 9
        }
      ]
    },
    {
      "cell_type": "code",
      "source": [
        "from keras.activations import linear\n",
        "linear(w1 * X[:1] + w0)"
      ],
      "metadata": {
        "colab": {
          "base_uri": "https://localhost:8080/"
        },
        "id": "m5czkuSECNEi",
        "outputId": "f496b85b-4963-416d-a0be-9d562d2c596f"
      },
      "execution_count": null,
      "outputs": [
        {
          "output_type": "execute_result",
          "data": {
            "text/plain": [
              "array([[0.4514159]])"
            ]
          },
          "metadata": {},
          "execution_count": 10
        }
      ]
    },
    {
      "cell_type": "markdown",
      "source": [
        "### Что оптимизируем\n",
        "\n",
        "У нас задача регрессии, поэтому будем брать функцию потерь для этой задачи, к примеру MSE.\n",
        "\n",
        "Вдобавок можно взять еще и метрику, которую будем считать и понимать, обучается ли сеть.\n",
        "\n"
      ],
      "metadata": {
        "id": "JbFIQGjDWGbM"
      }
    },
    {
      "cell_type": "markdown",
      "source": [
        "<img src='https://media.giphy.com/media/mPKa6OI5oRsmextwBq/giphy.gif' width=400>"
      ],
      "metadata": {
        "id": "fufPF4BypK_U"
      }
    },
    {
      "cell_type": "markdown",
      "source": [
        "### Как оптимизируем\n",
        "\n",
        "Про этот вопрос будем более подробно говорить в следующих занятиях, но пока условимся, что оптимизатор помогает ошибке быстрее уменьшаться, а значит помогает сеть быстрее обучаться.\n",
        "\n",
        "Есть несколько видов оптимизаторов, тот же градиентный спуск - это один из методов оптимизации для нейронной сети."
      ],
      "metadata": {
        "id": "3M3OUOvZXMXV"
      }
    },
    {
      "cell_type": "code",
      "source": [
        "model.compile(optimizer='sgd', loss='mse', metrics='mae')"
      ],
      "metadata": {
        "id": "L_ywc5J7-0r3"
      },
      "execution_count": null,
      "outputs": []
    },
    {
      "cell_type": "code",
      "source": [
        "%%time\n",
        "model.fit(X, y, epochs=100)"
      ],
      "metadata": {
        "colab": {
          "base_uri": "https://localhost:8080/"
        },
        "id": "x6yykPl4-2MQ",
        "outputId": "38de3caf-ea9d-47b6-895c-6d9af180b35f"
      },
      "execution_count": null,
      "outputs": [
        {
          "output_type": "stream",
          "name": "stdout",
          "text": [
            "Epoch 1/100\n",
            "1/1 [==============================] - 2s 2s/step - loss: 225.4790 - mae: 12.7429\n",
            "Epoch 2/100\n",
            "1/1 [==============================] - 0s 10ms/step - loss: 19.1528 - mae: 3.6408\n",
            "Epoch 3/100\n",
            "1/1 [==============================] - 0s 25ms/step - loss: 1.6569 - mae: 1.0090\n",
            "Epoch 4/100\n",
            "1/1 [==============================] - 0s 30ms/step - loss: 0.1730 - mae: 0.3229\n",
            "Epoch 5/100\n",
            "1/1 [==============================] - 0s 19ms/step - loss: 0.0468 - mae: 0.1990\n",
            "Epoch 6/100\n",
            "1/1 [==============================] - 0s 26ms/step - loss: 0.0358 - mae: 0.1711\n",
            "Epoch 7/100\n",
            "1/1 [==============================] - 0s 17ms/step - loss: 0.0345 - mae: 0.1624\n",
            "Epoch 8/100\n",
            "1/1 [==============================] - 0s 33ms/step - loss: 0.0340 - mae: 0.1592\n",
            "Epoch 9/100\n",
            "1/1 [==============================] - 0s 30ms/step - loss: 0.0337 - mae: 0.1577\n",
            "Epoch 10/100\n",
            "1/1 [==============================] - 0s 31ms/step - loss: 0.0333 - mae: 0.1566\n",
            "Epoch 11/100\n",
            "1/1 [==============================] - 0s 20ms/step - loss: 0.0329 - mae: 0.1557\n",
            "Epoch 12/100\n",
            "1/1 [==============================] - 0s 23ms/step - loss: 0.0326 - mae: 0.1549\n",
            "Epoch 13/100\n",
            "1/1 [==============================] - 0s 52ms/step - loss: 0.0322 - mae: 0.1540\n",
            "Epoch 14/100\n",
            "1/1 [==============================] - 0s 15ms/step - loss: 0.0319 - mae: 0.1532\n",
            "Epoch 15/100\n",
            "1/1 [==============================] - 0s 34ms/step - loss: 0.0315 - mae: 0.1523\n",
            "Epoch 16/100\n",
            "1/1 [==============================] - 0s 28ms/step - loss: 0.0312 - mae: 0.1515\n",
            "Epoch 17/100\n",
            "1/1 [==============================] - 0s 43ms/step - loss: 0.0308 - mae: 0.1506\n",
            "Epoch 18/100\n",
            "1/1 [==============================] - 0s 26ms/step - loss: 0.0305 - mae: 0.1498\n",
            "Epoch 19/100\n",
            "1/1 [==============================] - 0s 25ms/step - loss: 0.0302 - mae: 0.1490\n",
            "Epoch 20/100\n",
            "1/1 [==============================] - 0s 51ms/step - loss: 0.0298 - mae: 0.1482\n",
            "Epoch 21/100\n",
            "1/1 [==============================] - 0s 40ms/step - loss: 0.0295 - mae: 0.1474\n",
            "Epoch 22/100\n",
            "1/1 [==============================] - 0s 23ms/step - loss: 0.0292 - mae: 0.1466\n",
            "Epoch 23/100\n",
            "1/1 [==============================] - 0s 29ms/step - loss: 0.0289 - mae: 0.1458\n",
            "Epoch 24/100\n",
            "1/1 [==============================] - 0s 25ms/step - loss: 0.0285 - mae: 0.1450\n",
            "Epoch 25/100\n",
            "1/1 [==============================] - 0s 25ms/step - loss: 0.0282 - mae: 0.1442\n",
            "Epoch 26/100\n",
            "1/1 [==============================] - 0s 26ms/step - loss: 0.0279 - mae: 0.1434\n",
            "Epoch 27/100\n",
            "1/1 [==============================] - 0s 36ms/step - loss: 0.0276 - mae: 0.1426\n",
            "Epoch 28/100\n",
            "1/1 [==============================] - 0s 35ms/step - loss: 0.0273 - mae: 0.1418\n",
            "Epoch 29/100\n",
            "1/1 [==============================] - 0s 42ms/step - loss: 0.0270 - mae: 0.1410\n",
            "Epoch 30/100\n",
            "1/1 [==============================] - 0s 33ms/step - loss: 0.0267 - mae: 0.1403\n",
            "Epoch 31/100\n",
            "1/1 [==============================] - 0s 32ms/step - loss: 0.0264 - mae: 0.1395\n",
            "Epoch 32/100\n",
            "1/1 [==============================] - 0s 45ms/step - loss: 0.0261 - mae: 0.1387\n",
            "Epoch 33/100\n",
            "1/1 [==============================] - 0s 32ms/step - loss: 0.0259 - mae: 0.1380\n",
            "Epoch 34/100\n",
            "1/1 [==============================] - 0s 34ms/step - loss: 0.0256 - mae: 0.1372\n",
            "Epoch 35/100\n",
            "1/1 [==============================] - 0s 30ms/step - loss: 0.0253 - mae: 0.1365\n",
            "Epoch 36/100\n",
            "1/1 [==============================] - 0s 66ms/step - loss: 0.0250 - mae: 0.1357\n",
            "Epoch 37/100\n",
            "1/1 [==============================] - 0s 116ms/step - loss: 0.0247 - mae: 0.1350\n",
            "Epoch 38/100\n",
            "1/1 [==============================] - 0s 72ms/step - loss: 0.0245 - mae: 0.1342\n",
            "Epoch 39/100\n",
            "1/1 [==============================] - 0s 73ms/step - loss: 0.0242 - mae: 0.1335\n",
            "Epoch 40/100\n",
            "1/1 [==============================] - 0s 51ms/step - loss: 0.0239 - mae: 0.1328\n",
            "Epoch 41/100\n",
            "1/1 [==============================] - 0s 112ms/step - loss: 0.0237 - mae: 0.1320\n",
            "Epoch 42/100\n",
            "1/1 [==============================] - 0s 43ms/step - loss: 0.0234 - mae: 0.1313\n",
            "Epoch 43/100\n",
            "1/1 [==============================] - 0s 154ms/step - loss: 0.0232 - mae: 0.1306\n",
            "Epoch 44/100\n",
            "1/1 [==============================] - 0s 45ms/step - loss: 0.0229 - mae: 0.1299\n",
            "Epoch 45/100\n",
            "1/1 [==============================] - 0s 71ms/step - loss: 0.0227 - mae: 0.1292\n",
            "Epoch 46/100\n",
            "1/1 [==============================] - 0s 44ms/step - loss: 0.0224 - mae: 0.1284\n",
            "Epoch 47/100\n",
            "1/1 [==============================] - 0s 83ms/step - loss: 0.0222 - mae: 0.1277\n",
            "Epoch 48/100\n",
            "1/1 [==============================] - 0s 63ms/step - loss: 0.0219 - mae: 0.1270\n",
            "Epoch 49/100\n",
            "1/1 [==============================] - 0s 21ms/step - loss: 0.0217 - mae: 0.1263\n",
            "Epoch 50/100\n",
            "1/1 [==============================] - 0s 14ms/step - loss: 0.0214 - mae: 0.1257\n",
            "Epoch 51/100\n",
            "1/1 [==============================] - 0s 55ms/step - loss: 0.0212 - mae: 0.1250\n",
            "Epoch 52/100\n",
            "1/1 [==============================] - 0s 48ms/step - loss: 0.0210 - mae: 0.1243\n",
            "Epoch 53/100\n",
            "1/1 [==============================] - 0s 23ms/step - loss: 0.0207 - mae: 0.1236\n",
            "Epoch 54/100\n",
            "1/1 [==============================] - 0s 18ms/step - loss: 0.0205 - mae: 0.1229\n",
            "Epoch 55/100\n",
            "1/1 [==============================] - 0s 15ms/step - loss: 0.0203 - mae: 0.1222\n",
            "Epoch 56/100\n",
            "1/1 [==============================] - 0s 26ms/step - loss: 0.0201 - mae: 0.1216\n",
            "Epoch 57/100\n",
            "1/1 [==============================] - 0s 45ms/step - loss: 0.0199 - mae: 0.1209\n",
            "Epoch 58/100\n",
            "1/1 [==============================] - 0s 34ms/step - loss: 0.0196 - mae: 0.1202\n",
            "Epoch 59/100\n",
            "1/1 [==============================] - 0s 19ms/step - loss: 0.0194 - mae: 0.1196\n",
            "Epoch 60/100\n",
            "1/1 [==============================] - 0s 25ms/step - loss: 0.0192 - mae: 0.1189\n",
            "Epoch 61/100\n",
            "1/1 [==============================] - 0s 33ms/step - loss: 0.0190 - mae: 0.1183\n",
            "Epoch 62/100\n",
            "1/1 [==============================] - 0s 66ms/step - loss: 0.0188 - mae: 0.1176\n",
            "Epoch 63/100\n",
            "1/1 [==============================] - 0s 53ms/step - loss: 0.0186 - mae: 0.1170\n",
            "Epoch 64/100\n",
            "1/1 [==============================] - 0s 37ms/step - loss: 0.0184 - mae: 0.1163\n",
            "Epoch 65/100\n",
            "1/1 [==============================] - 0s 38ms/step - loss: 0.0182 - mae: 0.1157\n",
            "Epoch 66/100\n",
            "1/1 [==============================] - 0s 34ms/step - loss: 0.0180 - mae: 0.1151\n",
            "Epoch 67/100\n",
            "1/1 [==============================] - 0s 32ms/step - loss: 0.0178 - mae: 0.1144\n",
            "Epoch 68/100\n",
            "1/1 [==============================] - 0s 33ms/step - loss: 0.0176 - mae: 0.1138\n",
            "Epoch 69/100\n",
            "1/1 [==============================] - 0s 37ms/step - loss: 0.0174 - mae: 0.1132\n",
            "Epoch 70/100\n",
            "1/1 [==============================] - 0s 65ms/step - loss: 0.0172 - mae: 0.1126\n",
            "Epoch 71/100\n",
            "1/1 [==============================] - 0s 32ms/step - loss: 0.0170 - mae: 0.1120\n",
            "Epoch 72/100\n",
            "1/1 [==============================] - 0s 66ms/step - loss: 0.0168 - mae: 0.1113\n",
            "Epoch 73/100\n",
            "1/1 [==============================] - 0s 13ms/step - loss: 0.0167 - mae: 0.1107\n",
            "Epoch 74/100\n",
            "1/1 [==============================] - 0s 10ms/step - loss: 0.0165 - mae: 0.1101\n",
            "Epoch 75/100\n",
            "1/1 [==============================] - 0s 11ms/step - loss: 0.0163 - mae: 0.1095\n",
            "Epoch 76/100\n",
            "1/1 [==============================] - 0s 16ms/step - loss: 0.0161 - mae: 0.1089\n",
            "Epoch 77/100\n",
            "1/1 [==============================] - 0s 11ms/step - loss: 0.0159 - mae: 0.1083\n",
            "Epoch 78/100\n",
            "1/1 [==============================] - 0s 22ms/step - loss: 0.0158 - mae: 0.1077\n",
            "Epoch 79/100\n",
            "1/1 [==============================] - 0s 25ms/step - loss: 0.0156 - mae: 0.1071\n",
            "Epoch 80/100\n",
            "1/1 [==============================] - 0s 28ms/step - loss: 0.0154 - mae: 0.1065\n",
            "Epoch 81/100\n",
            "1/1 [==============================] - 0s 42ms/step - loss: 0.0153 - mae: 0.1060\n",
            "Epoch 82/100\n",
            "1/1 [==============================] - 0s 26ms/step - loss: 0.0151 - mae: 0.1054\n",
            "Epoch 83/100\n",
            "1/1 [==============================] - 0s 28ms/step - loss: 0.0149 - mae: 0.1048\n",
            "Epoch 84/100\n",
            "1/1 [==============================] - 0s 42ms/step - loss: 0.0148 - mae: 0.1042\n",
            "Epoch 85/100\n",
            "1/1 [==============================] - 0s 65ms/step - loss: 0.0146 - mae: 0.1037\n",
            "Epoch 86/100\n",
            "1/1 [==============================] - 0s 56ms/step - loss: 0.0144 - mae: 0.1031\n",
            "Epoch 87/100\n",
            "1/1 [==============================] - 0s 25ms/step - loss: 0.0143 - mae: 0.1025\n",
            "Epoch 88/100\n",
            "1/1 [==============================] - 0s 26ms/step - loss: 0.0141 - mae: 0.1020\n",
            "Epoch 89/100\n",
            "1/1 [==============================] - 0s 65ms/step - loss: 0.0140 - mae: 0.1014\n",
            "Epoch 90/100\n",
            "1/1 [==============================] - 0s 68ms/step - loss: 0.0138 - mae: 0.1009\n",
            "Epoch 91/100\n",
            "1/1 [==============================] - 0s 82ms/step - loss: 0.0137 - mae: 0.1003\n",
            "Epoch 92/100\n",
            "1/1 [==============================] - 0s 78ms/step - loss: 0.0135 - mae: 0.0997\n",
            "Epoch 93/100\n",
            "1/1 [==============================] - 0s 62ms/step - loss: 0.0134 - mae: 0.0992\n",
            "Epoch 94/100\n",
            "1/1 [==============================] - 0s 34ms/step - loss: 0.0132 - mae: 0.0987\n",
            "Epoch 95/100\n",
            "1/1 [==============================] - 0s 35ms/step - loss: 0.0131 - mae: 0.0981\n",
            "Epoch 96/100\n",
            "1/1 [==============================] - 0s 24ms/step - loss: 0.0129 - mae: 0.0976\n",
            "Epoch 97/100\n",
            "1/1 [==============================] - 0s 33ms/step - loss: 0.0128 - mae: 0.0970\n",
            "Epoch 98/100\n",
            "1/1 [==============================] - 0s 25ms/step - loss: 0.0127 - mae: 0.0965\n",
            "Epoch 99/100\n",
            "1/1 [==============================] - 0s 34ms/step - loss: 0.0125 - mae: 0.0960\n",
            "Epoch 100/100\n",
            "1/1 [==============================] - 0s 29ms/step - loss: 0.0124 - mae: 0.0955\n",
            "CPU times: user 2.69 s, sys: 135 ms, total: 2.83 s\n",
            "Wall time: 11.9 s\n"
          ]
        },
        {
          "output_type": "execute_result",
          "data": {
            "text/plain": [
              "<keras.callbacks.History at 0x7f2230af0970>"
            ]
          },
          "metadata": {},
          "execution_count": 12
        }
      ]
    },
    {
      "cell_type": "markdown",
      "source": [
        "Сеть обучается, ошибка падает, метрика становится лучше, всё замечательно.\n",
        "\n",
        "Теперь проверим, а как модель работает на новых данных."
      ],
      "metadata": {
        "id": "gbROlNn-YJOz"
      }
    },
    {
      "cell_type": "code",
      "source": [
        "user_inp1, user_inp2 = 5, -9\n",
        "print(f\"Проверка на новых данных: {user_inp1} {user_inp2}\")\n",
        "print(\"Предсказание нейронной сети: \")\n",
        "print(model.predict(np.array([[user_inp1], [user_inp2]])))"
      ],
      "metadata": {
        "colab": {
          "base_uri": "https://localhost:8080/"
        },
        "id": "6hW87IUF_I-e",
        "outputId": "eae0032a-2918-4ecc-8b33-c55836f0bc1f"
      },
      "execution_count": null,
      "outputs": [
        {
          "output_type": "stream",
          "name": "stdout",
          "text": [
            "Проверка на новых данных: 5 -9\n",
            "Предсказание нейронной сети: \n",
            "1/1 [==============================] - 0s 105ms/step\n",
            "[[ 15.057322]\n",
            " [-26.517628]]\n"
          ]
        }
      ]
    },
    {
      "cell_type": "markdown",
      "source": [
        "Предсказания очень похожи на истину."
      ],
      "metadata": {
        "id": "wQqMjMcEYPcE"
      }
    },
    {
      "cell_type": "markdown",
      "source": [
        "Еще можем посмотреть, как поменялись наши веса после обучения."
      ],
      "metadata": {
        "id": "3jBXtePgYXpT"
      }
    },
    {
      "cell_type": "code",
      "source": [
        "nw1, nw0 = model.get_weights()\n",
        "print('w1 before', w1, 'w1 after', nw1)\n",
        "print('w0 before', w0, 'w0 after', nw0)"
      ],
      "metadata": {
        "colab": {
          "base_uri": "https://localhost:8080/"
        },
        "id": "_-n4M6tdE57C",
        "outputId": "dfcf4a7e-dbeb-4d80-9d64-e879618d0dad"
      },
      "execution_count": null,
      "outputs": [
        {
          "output_type": "stream",
          "name": "stdout",
          "text": [
            "w1 before [[0.4514159]] w1 after [[2.9696393]]\n",
            "w0 before [0.] w0 after [0.20912543]\n"
          ]
        }
      ]
    },
    {
      "cell_type": "markdown",
      "source": [
        "И проверимся на всех обучающих данных."
      ],
      "metadata": {
        "id": "1s7-Pw6eYcOi"
      }
    },
    {
      "cell_type": "code",
      "source": [
        "import pandas as pd\n",
        "\n",
        "pd.DataFrame({\n",
        "   'true': np.squeeze(y),\n",
        "   'pred': np.squeeze(model.predict(X))\n",
        "})"
      ],
      "metadata": {
        "colab": {
          "base_uri": "https://localhost:8080/",
          "height": 287
        },
        "id": "-t3MsXSIF6T1",
        "outputId": "d49a3af7-c0e4-4f1a-b592-312d82659b80"
      },
      "execution_count": null,
      "outputs": [
        {
          "output_type": "stream",
          "name": "stdout",
          "text": [
            "1/1 [==============================] - 0s 74ms/step\n"
          ]
        },
        {
          "output_type": "execute_result",
          "data": {
            "text/plain": [
              "   true       pred\n",
              "0     3   3.178765\n",
              "1     9   9.118044\n",
              "2     6   6.148404\n",
              "3    30  29.905518\n",
              "4    12  12.087683\n",
              "5    21  20.996601\n",
              "6    24  23.966240"
            ],
            "text/html": [
              "\n",
              "  <div id=\"df-ff509608-5790-4fb7-84b7-1b14fee805bf\">\n",
              "    <div class=\"colab-df-container\">\n",
              "      <div>\n",
              "<style scoped>\n",
              "    .dataframe tbody tr th:only-of-type {\n",
              "        vertical-align: middle;\n",
              "    }\n",
              "\n",
              "    .dataframe tbody tr th {\n",
              "        vertical-align: top;\n",
              "    }\n",
              "\n",
              "    .dataframe thead th {\n",
              "        text-align: right;\n",
              "    }\n",
              "</style>\n",
              "<table border=\"1\" class=\"dataframe\">\n",
              "  <thead>\n",
              "    <tr style=\"text-align: right;\">\n",
              "      <th></th>\n",
              "      <th>true</th>\n",
              "      <th>pred</th>\n",
              "    </tr>\n",
              "  </thead>\n",
              "  <tbody>\n",
              "    <tr>\n",
              "      <th>0</th>\n",
              "      <td>3</td>\n",
              "      <td>3.178765</td>\n",
              "    </tr>\n",
              "    <tr>\n",
              "      <th>1</th>\n",
              "      <td>9</td>\n",
              "      <td>9.118044</td>\n",
              "    </tr>\n",
              "    <tr>\n",
              "      <th>2</th>\n",
              "      <td>6</td>\n",
              "      <td>6.148404</td>\n",
              "    </tr>\n",
              "    <tr>\n",
              "      <th>3</th>\n",
              "      <td>30</td>\n",
              "      <td>29.905518</td>\n",
              "    </tr>\n",
              "    <tr>\n",
              "      <th>4</th>\n",
              "      <td>12</td>\n",
              "      <td>12.087683</td>\n",
              "    </tr>\n",
              "    <tr>\n",
              "      <th>5</th>\n",
              "      <td>21</td>\n",
              "      <td>20.996601</td>\n",
              "    </tr>\n",
              "    <tr>\n",
              "      <th>6</th>\n",
              "      <td>24</td>\n",
              "      <td>23.966240</td>\n",
              "    </tr>\n",
              "  </tbody>\n",
              "</table>\n",
              "</div>\n",
              "      <button class=\"colab-df-convert\" onclick=\"convertToInteractive('df-ff509608-5790-4fb7-84b7-1b14fee805bf')\"\n",
              "              title=\"Convert this dataframe to an interactive table.\"\n",
              "              style=\"display:none;\">\n",
              "        \n",
              "  <svg xmlns=\"http://www.w3.org/2000/svg\" height=\"24px\"viewBox=\"0 0 24 24\"\n",
              "       width=\"24px\">\n",
              "    <path d=\"M0 0h24v24H0V0z\" fill=\"none\"/>\n",
              "    <path d=\"M18.56 5.44l.94 2.06.94-2.06 2.06-.94-2.06-.94-.94-2.06-.94 2.06-2.06.94zm-11 1L8.5 8.5l.94-2.06 2.06-.94-2.06-.94L8.5 2.5l-.94 2.06-2.06.94zm10 10l.94 2.06.94-2.06 2.06-.94-2.06-.94-.94-2.06-.94 2.06-2.06.94z\"/><path d=\"M17.41 7.96l-1.37-1.37c-.4-.4-.92-.59-1.43-.59-.52 0-1.04.2-1.43.59L10.3 9.45l-7.72 7.72c-.78.78-.78 2.05 0 2.83L4 21.41c.39.39.9.59 1.41.59.51 0 1.02-.2 1.41-.59l7.78-7.78 2.81-2.81c.8-.78.8-2.07 0-2.86zM5.41 20L4 18.59l7.72-7.72 1.47 1.35L5.41 20z\"/>\n",
              "  </svg>\n",
              "      </button>\n",
              "      \n",
              "  <style>\n",
              "    .colab-df-container {\n",
              "      display:flex;\n",
              "      flex-wrap:wrap;\n",
              "      gap: 12px;\n",
              "    }\n",
              "\n",
              "    .colab-df-convert {\n",
              "      background-color: #E8F0FE;\n",
              "      border: none;\n",
              "      border-radius: 50%;\n",
              "      cursor: pointer;\n",
              "      display: none;\n",
              "      fill: #1967D2;\n",
              "      height: 32px;\n",
              "      padding: 0 0 0 0;\n",
              "      width: 32px;\n",
              "    }\n",
              "\n",
              "    .colab-df-convert:hover {\n",
              "      background-color: #E2EBFA;\n",
              "      box-shadow: 0px 1px 2px rgba(60, 64, 67, 0.3), 0px 1px 3px 1px rgba(60, 64, 67, 0.15);\n",
              "      fill: #174EA6;\n",
              "    }\n",
              "\n",
              "    [theme=dark] .colab-df-convert {\n",
              "      background-color: #3B4455;\n",
              "      fill: #D2E3FC;\n",
              "    }\n",
              "\n",
              "    [theme=dark] .colab-df-convert:hover {\n",
              "      background-color: #434B5C;\n",
              "      box-shadow: 0px 1px 3px 1px rgba(0, 0, 0, 0.15);\n",
              "      filter: drop-shadow(0px 1px 2px rgba(0, 0, 0, 0.3));\n",
              "      fill: #FFFFFF;\n",
              "    }\n",
              "  </style>\n",
              "\n",
              "      <script>\n",
              "        const buttonEl =\n",
              "          document.querySelector('#df-ff509608-5790-4fb7-84b7-1b14fee805bf button.colab-df-convert');\n",
              "        buttonEl.style.display =\n",
              "          google.colab.kernel.accessAllowed ? 'block' : 'none';\n",
              "\n",
              "        async function convertToInteractive(key) {\n",
              "          const element = document.querySelector('#df-ff509608-5790-4fb7-84b7-1b14fee805bf');\n",
              "          const dataTable =\n",
              "            await google.colab.kernel.invokeFunction('convertToInteractive',\n",
              "                                                     [key], {});\n",
              "          if (!dataTable) return;\n",
              "\n",
              "          const docLinkHtml = 'Like what you see? Visit the ' +\n",
              "            '<a target=\"_blank\" href=https://colab.research.google.com/notebooks/data_table.ipynb>data table notebook</a>'\n",
              "            + ' to learn more about interactive tables.';\n",
              "          element.innerHTML = '';\n",
              "          dataTable['output_type'] = 'display_data';\n",
              "          await google.colab.output.renderOutput(dataTable, element);\n",
              "          const docLink = document.createElement('div');\n",
              "          docLink.innerHTML = docLinkHtml;\n",
              "          element.appendChild(docLink);\n",
              "        }\n",
              "      </script>\n",
              "    </div>\n",
              "  </div>\n",
              "  "
            ]
          },
          "metadata": {},
          "execution_count": 15
        }
      ]
    },
    {
      "cell_type": "markdown",
      "source": [
        "## Сеть для сложения чисел"
      ],
      "metadata": {
        "id": "560b4MkNbqhg"
      }
    },
    {
      "cell_type": "markdown",
      "source": [
        "<img src='https://media.giphy.com/media/dHn4QSRITpHtLxpgdv/giphy.gif' width=400>"
      ],
      "metadata": {
        "id": "pS7qlr16p1t7"
      }
    },
    {
      "cell_type": "markdown",
      "source": [
        "Создадим обучающие данные"
      ],
      "metadata": {
        "id": "1-ZItmaIbqhs"
      }
    },
    {
      "cell_type": "code",
      "source": [
        "X1 = np.random.randint(1, 10, size=50)\n",
        "X2 = np.random.randint(1, 10, size=50)\n",
        "\n",
        "y = X1 + X2"
      ],
      "metadata": {
        "id": "zjNa5uVDb5w9"
      },
      "execution_count": null,
      "outputs": []
    },
    {
      "cell_type": "code",
      "source": [
        "X = np.vstack([X1, X2]).T\n",
        "X"
      ],
      "metadata": {
        "colab": {
          "base_uri": "https://localhost:8080/"
        },
        "id": "Jt5efryQcHql",
        "outputId": "2d75a2e7-042c-4cae-d0b9-a99f8a768126"
      },
      "execution_count": null,
      "outputs": [
        {
          "output_type": "execute_result",
          "data": {
            "text/plain": [
              "array([[3, 2],\n",
              "       [5, 4],\n",
              "       [4, 1],\n",
              "       [8, 6],\n",
              "       [2, 9],\n",
              "       [3, 3],\n",
              "       [6, 2],\n",
              "       [5, 4],\n",
              "       [1, 5],\n",
              "       [9, 1],\n",
              "       [8, 9],\n",
              "       [7, 1],\n",
              "       [7, 2],\n",
              "       [5, 3],\n",
              "       [9, 5],\n",
              "       [7, 6],\n",
              "       [5, 6],\n",
              "       [2, 2],\n",
              "       [7, 8],\n",
              "       [1, 7],\n",
              "       [7, 5],\n",
              "       [7, 9],\n",
              "       [3, 6],\n",
              "       [6, 1],\n",
              "       [9, 3],\n",
              "       [3, 1],\n",
              "       [3, 7],\n",
              "       [4, 7],\n",
              "       [6, 6],\n",
              "       [3, 6],\n",
              "       [8, 1],\n",
              "       [2, 9],\n",
              "       [4, 3],\n",
              "       [8, 6],\n",
              "       [9, 6],\n",
              "       [4, 5],\n",
              "       [5, 1],\n",
              "       [8, 4],\n",
              "       [7, 8],\n",
              "       [3, 3],\n",
              "       [8, 2],\n",
              "       [6, 4],\n",
              "       [3, 6],\n",
              "       [3, 2],\n",
              "       [9, 7],\n",
              "       [7, 1],\n",
              "       [5, 5],\n",
              "       [3, 2],\n",
              "       [3, 6],\n",
              "       [5, 8]])"
            ]
          },
          "metadata": {},
          "execution_count": 17
        }
      ]
    },
    {
      "cell_type": "code",
      "source": [
        "y = y[None]\n",
        "y = y.T\n",
        "y"
      ],
      "metadata": {
        "colab": {
          "base_uri": "https://localhost:8080/"
        },
        "id": "yuvCsiuochWf",
        "outputId": "aded6b68-0eec-41d0-ba61-8af5a0e75027"
      },
      "execution_count": null,
      "outputs": [
        {
          "output_type": "execute_result",
          "data": {
            "text/plain": [
              "array([[ 5],\n",
              "       [ 9],\n",
              "       [ 5],\n",
              "       [14],\n",
              "       [11],\n",
              "       [ 6],\n",
              "       [ 8],\n",
              "       [ 9],\n",
              "       [ 6],\n",
              "       [10],\n",
              "       [17],\n",
              "       [ 8],\n",
              "       [ 9],\n",
              "       [ 8],\n",
              "       [14],\n",
              "       [13],\n",
              "       [11],\n",
              "       [ 4],\n",
              "       [15],\n",
              "       [ 8],\n",
              "       [12],\n",
              "       [16],\n",
              "       [ 9],\n",
              "       [ 7],\n",
              "       [12],\n",
              "       [ 4],\n",
              "       [10],\n",
              "       [11],\n",
              "       [12],\n",
              "       [ 9],\n",
              "       [ 9],\n",
              "       [11],\n",
              "       [ 7],\n",
              "       [14],\n",
              "       [15],\n",
              "       [ 9],\n",
              "       [ 6],\n",
              "       [12],\n",
              "       [15],\n",
              "       [ 6],\n",
              "       [10],\n",
              "       [10],\n",
              "       [ 9],\n",
              "       [ 5],\n",
              "       [16],\n",
              "       [ 8],\n",
              "       [10],\n",
              "       [ 5],\n",
              "       [ 9],\n",
              "       [13]])"
            ]
          },
          "metadata": {},
          "execution_count": 18
        }
      ]
    },
    {
      "cell_type": "markdown",
      "source": [
        "Т.к. сети - это куча маленьких линейных регрессий, а им нужно масштабирование данных, то и для нейросетей, так же нужно масштабирование данных.\n",
        "\n"
      ],
      "metadata": {
        "id": "euyhpaA1h7Ee"
      }
    },
    {
      "cell_type": "code",
      "source": [
        "from sklearn.preprocessing import MinMaxScaler\n",
        "\n",
        "mms = MinMaxScaler()\n",
        "X_norm = mms.fit_transform(X)"
      ],
      "metadata": {
        "id": "oT7173S_f180"
      },
      "execution_count": null,
      "outputs": []
    },
    {
      "cell_type": "markdown",
      "source": [
        "Для того, что обучить нейронную сеть для любой задачи нужно ответить на три вопроса:\n",
        "1. Какая архитектура сети?\n",
        "2. Что оптимизируем?\n",
        "3. Как обучаем?"
      ],
      "metadata": {
        "id": "YYqaoqxgbqht"
      }
    },
    {
      "cell_type": "markdown",
      "source": [
        "<img src='https://media.giphy.com/media/14iqMD7cIfPj5C/giphy.gif' width=400>"
      ],
      "metadata": {
        "id": "C6ezvSSdrABt"
      }
    },
    {
      "cell_type": "markdown",
      "source": [
        "### Какая архитектура сети"
      ],
      "metadata": {
        "id": "Q-BEwoGAbqht"
      }
    },
    {
      "cell_type": "markdown",
      "source": [
        "Создадим сеть посложнее, она будет состоять уже из двух слоев, чтобы быстрее обучалась. В одном слое 3 нейрона, а в выходном слое 1 нейрон.\n",
        "\n",
        "<img src='https://drive.google.com/uc?id=1iA7xkAzoWocEW-eVzI0MqVcLXALYg_In'>"
      ],
      "metadata": {
        "id": "AI3mYCrbbqht"
      }
    },
    {
      "cell_type": "markdown",
      "source": [
        "При этом пользуемся `Sequential`, т.к. у нас слои последовательные, сначала 2 входа идут в 5 нейронов, а затем выходы из этих 5 нейронов идут в один нейрон."
      ],
      "metadata": {
        "id": "U9Hci-A3S_M-"
      }
    },
    {
      "cell_type": "code",
      "source": [
        "from keras.layers import Dense\n",
        "from keras.models import Sequential\n",
        "tf.random.set_seed(9)\n",
        "\n",
        "model = Sequential([\n",
        "    Dense(3, input_shape=(2,), activation='linear'),\n",
        "    Dense(1, activation='linear')\n",
        "])\n",
        "\n",
        "model.summary()"
      ],
      "metadata": {
        "colab": {
          "base_uri": "https://localhost:8080/"
        },
        "id": "_XzSVCcyGIJV",
        "outputId": "af167b96-2766-43be-aeae-cb71c07462bb"
      },
      "execution_count": null,
      "outputs": [
        {
          "output_type": "stream",
          "name": "stdout",
          "text": [
            "Model: \"sequential_3\"\n",
            "_________________________________________________________________\n",
            " Layer (type)                Output Shape              Param #   \n",
            "=================================================================\n",
            " dense_3 (Dense)             (None, 3)                 9         \n",
            "                                                                 \n",
            " dense_4 (Dense)             (None, 1)                 4         \n",
            "                                                                 \n",
            "=================================================================\n",
            "Total params: 13\n",
            "Trainable params: 13\n",
            "Non-trainable params: 0\n",
            "_________________________________________________________________\n"
          ]
        }
      ]
    },
    {
      "cell_type": "markdown",
      "source": [
        "Что здесь происходит с весами и с самой архитектурой?\n",
        "\n",
        "Количество весов для одного нейрона равно 2, т.к. два входа поступает, а вдобавок у каждого нейрона есть 1 bias, на первом слое 3 нейрона, значит суммарно весов на первом слое будет 9.\n",
        "\n",
        "Второй слой ждет на вход 3 сигнала, еще 1 bias.\n",
        "\n",
        "Получаем 9 + 4 = 13 обучаемых весов."
      ],
      "metadata": {
        "id": "OJRvtgG1YxmH"
      }
    },
    {
      "cell_type": "code",
      "source": [
        "model.get_weights()"
      ],
      "metadata": {
        "colab": {
          "base_uri": "https://localhost:8080/"
        },
        "id": "oOQrDNINZOJ2",
        "outputId": "c974967c-8b00-4fa6-f747-0d2c2ac08b26"
      },
      "execution_count": null,
      "outputs": [
        {
          "output_type": "execute_result",
          "data": {
            "text/plain": [
              "[array([[ 1.031584  , -0.8942635 ,  0.6479809 ],\n",
              "        [-0.38680047,  0.08796883, -0.00713372]], dtype=float32),\n",
              " array([0., 0., 0.], dtype=float32),\n",
              " array([[-0.5080956 ],\n",
              "        [ 0.5931549 ],\n",
              "        [ 0.77649343]], dtype=float32),\n",
              " array([0.], dtype=float32)]"
            ]
          },
          "metadata": {},
          "execution_count": 21
        }
      ]
    },
    {
      "cell_type": "markdown",
      "source": [
        "### Что оптимизируем\n",
        "\n",
        "Снова задача регрессии, поэтому берем функцию потерь MSE."
      ],
      "metadata": {
        "id": "bmi5Nj8Obqhu"
      }
    },
    {
      "cell_type": "markdown",
      "source": [
        "<img src='https://media.giphy.com/media/3o6Ztbd9LflcZMZonm/giphy.gif' width=400>"
      ],
      "metadata": {
        "id": "nO9LE3ybqpwV"
      }
    },
    {
      "cell_type": "markdown",
      "source": [
        "### Как оптимизируем\n",
        "\n",
        "Возьмем тот же самый градиентный спуск со стохастикой."
      ],
      "metadata": {
        "id": "442ai77pbqhu"
      }
    },
    {
      "cell_type": "code",
      "source": [
        "model.compile(optimizer='sgd', loss='mse', metrics='mae')"
      ],
      "metadata": {
        "id": "uuSt5bzsbqhu"
      },
      "execution_count": null,
      "outputs": []
    },
    {
      "cell_type": "code",
      "source": [
        "%%time\n",
        "model.fit(X_norm, y, epochs=200)"
      ],
      "metadata": {
        "colab": {
          "base_uri": "https://localhost:8080/"
        },
        "outputId": "074a975f-0eb6-4f92-c244-da6fd88154f7",
        "id": "Y2U7VmAcbqhv"
      },
      "execution_count": null,
      "outputs": [
        {
          "output_type": "stream",
          "name": "stdout",
          "text": [
            "Epoch 1/200\n",
            "2/2 [==============================] - 1s 26ms/step - loss: 106.7046 - mae: 9.7750\n",
            "Epoch 2/200\n",
            "2/2 [==============================] - 0s 12ms/step - loss: 81.3874 - mae: 8.4161\n",
            "Epoch 3/200\n",
            "2/2 [==============================] - 0s 30ms/step - loss: 55.4795 - mae: 6.8539\n",
            "Epoch 4/200\n",
            "2/2 [==============================] - 0s 18ms/step - loss: 28.1621 - mae: 4.5747\n",
            "Epoch 5/200\n",
            "2/2 [==============================] - 0s 13ms/step - loss: 10.7937 - mae: 2.6335\n",
            "Epoch 6/200\n",
            "2/2 [==============================] - 0s 18ms/step - loss: 4.9054 - mae: 1.7776\n",
            "Epoch 7/200\n",
            "2/2 [==============================] - 0s 12ms/step - loss: 3.7674 - mae: 1.5892\n",
            "Epoch 8/200\n",
            "2/2 [==============================] - 0s 19ms/step - loss: 3.4292 - mae: 1.5217\n",
            "Epoch 9/200\n",
            "2/2 [==============================] - 0s 20ms/step - loss: 3.2575 - mae: 1.4911\n",
            "Epoch 10/200\n",
            "2/2 [==============================] - 0s 12ms/step - loss: 3.0793 - mae: 1.4786\n",
            "Epoch 11/200\n",
            "2/2 [==============================] - 0s 28ms/step - loss: 2.9402 - mae: 1.4341\n",
            "Epoch 12/200\n",
            "2/2 [==============================] - 0s 26ms/step - loss: 2.8336 - mae: 1.4084\n",
            "Epoch 13/200\n",
            "2/2 [==============================] - 0s 20ms/step - loss: 2.7080 - mae: 1.3850\n",
            "Epoch 14/200\n",
            "2/2 [==============================] - 0s 28ms/step - loss: 2.6445 - mae: 1.3685\n",
            "Epoch 15/200\n",
            "2/2 [==============================] - 0s 17ms/step - loss: 2.4987 - mae: 1.3087\n",
            "Epoch 16/200\n",
            "2/2 [==============================] - 0s 19ms/step - loss: 2.3757 - mae: 1.2924\n",
            "Epoch 17/200\n",
            "2/2 [==============================] - 0s 18ms/step - loss: 2.2882 - mae: 1.2583\n",
            "Epoch 18/200\n",
            "2/2 [==============================] - 0s 21ms/step - loss: 2.1749 - mae: 1.2423\n",
            "Epoch 19/200\n",
            "2/2 [==============================] - 0s 55ms/step - loss: 2.1108 - mae: 1.2196\n",
            "Epoch 20/200\n",
            "2/2 [==============================] - 0s 12ms/step - loss: 2.0089 - mae: 1.1728\n",
            "Epoch 21/200\n",
            "2/2 [==============================] - 0s 37ms/step - loss: 1.9186 - mae: 1.1505\n",
            "Epoch 22/200\n",
            "2/2 [==============================] - 0s 18ms/step - loss: 1.8441 - mae: 1.1194\n",
            "Epoch 23/200\n",
            "2/2 [==============================] - 0s 28ms/step - loss: 1.7221 - mae: 1.1020\n",
            "Epoch 24/200\n",
            "2/2 [==============================] - 0s 44ms/step - loss: 1.6399 - mae: 1.0687\n",
            "Epoch 25/200\n",
            "2/2 [==============================] - 0s 43ms/step - loss: 1.5689 - mae: 1.0540\n",
            "Epoch 26/200\n",
            "2/2 [==============================] - 0s 44ms/step - loss: 1.4880 - mae: 1.0143\n",
            "Epoch 27/200\n",
            "2/2 [==============================] - 0s 68ms/step - loss: 1.4233 - mae: 0.9999\n",
            "Epoch 28/200\n",
            "2/2 [==============================] - 0s 36ms/step - loss: 1.3695 - mae: 0.9670\n",
            "Epoch 29/200\n",
            "2/2 [==============================] - 0s 8ms/step - loss: 1.2913 - mae: 0.9558\n",
            "Epoch 30/200\n",
            "2/2 [==============================] - 0s 36ms/step - loss: 1.2195 - mae: 0.9284\n",
            "Epoch 31/200\n",
            "2/2 [==============================] - 0s 12ms/step - loss: 1.1580 - mae: 0.8997\n",
            "Epoch 32/200\n",
            "2/2 [==============================] - 0s 16ms/step - loss: 1.1050 - mae: 0.8741\n",
            "Epoch 33/200\n",
            "2/2 [==============================] - 0s 29ms/step - loss: 1.0472 - mae: 0.8607\n",
            "Epoch 34/200\n",
            "2/2 [==============================] - 0s 17ms/step - loss: 1.0259 - mae: 0.8322\n",
            "Epoch 35/200\n",
            "2/2 [==============================] - 0s 17ms/step - loss: 0.9615 - mae: 0.8290\n",
            "Epoch 36/200\n",
            "2/2 [==============================] - 0s 95ms/step - loss: 0.9081 - mae: 0.8049\n",
            "Epoch 37/200\n",
            "2/2 [==============================] - 0s 28ms/step - loss: 0.8653 - mae: 0.7820\n",
            "Epoch 38/200\n",
            "2/2 [==============================] - 0s 56ms/step - loss: 0.8004 - mae: 0.7396\n",
            "Epoch 39/200\n",
            "2/2 [==============================] - 0s 32ms/step - loss: 0.7547 - mae: 0.7242\n",
            "Epoch 40/200\n",
            "2/2 [==============================] - 0s 24ms/step - loss: 0.7170 - mae: 0.7121\n",
            "Epoch 41/200\n",
            "2/2 [==============================] - 0s 12ms/step - loss: 0.6856 - mae: 0.6888\n",
            "Epoch 42/200\n",
            "2/2 [==============================] - 0s 15ms/step - loss: 0.6414 - mae: 0.6606\n",
            "Epoch 43/200\n",
            "2/2 [==============================] - 0s 13ms/step - loss: 0.6047 - mae: 0.6473\n",
            "Epoch 44/200\n",
            "2/2 [==============================] - 0s 15ms/step - loss: 0.5715 - mae: 0.6335\n",
            "Epoch 45/200\n",
            "2/2 [==============================] - 0s 30ms/step - loss: 0.5399 - mae: 0.6102\n",
            "Epoch 46/200\n",
            "2/2 [==============================] - 0s 32ms/step - loss: 0.5151 - mae: 0.5966\n",
            "Epoch 47/200\n",
            "2/2 [==============================] - 0s 29ms/step - loss: 0.4841 - mae: 0.5829\n",
            "Epoch 48/200\n",
            "2/2 [==============================] - 0s 24ms/step - loss: 0.4760 - mae: 0.5612\n",
            "Epoch 49/200\n",
            "2/2 [==============================] - 0s 14ms/step - loss: 0.4394 - mae: 0.5594\n",
            "Epoch 50/200\n",
            "2/2 [==============================] - 0s 13ms/step - loss: 0.4037 - mae: 0.5251\n",
            "Epoch 51/200\n",
            "2/2 [==============================] - 0s 32ms/step - loss: 0.3784 - mae: 0.5060\n",
            "Epoch 52/200\n",
            "2/2 [==============================] - 0s 23ms/step - loss: 0.3579 - mae: 0.5019\n",
            "Epoch 53/200\n",
            "2/2 [==============================] - 0s 19ms/step - loss: 0.3342 - mae: 0.4767\n",
            "Epoch 54/200\n",
            "2/2 [==============================] - 0s 10ms/step - loss: 0.3114 - mae: 0.4610\n",
            "Epoch 55/200\n",
            "2/2 [==============================] - 0s 12ms/step - loss: 0.2966 - mae: 0.4529\n",
            "Epoch 56/200\n",
            "2/2 [==============================] - 0s 28ms/step - loss: 0.2761 - mae: 0.4345\n",
            "Epoch 57/200\n",
            "2/2 [==============================] - 0s 33ms/step - loss: 0.2578 - mae: 0.4187\n",
            "Epoch 58/200\n",
            "2/2 [==============================] - 0s 20ms/step - loss: 0.2459 - mae: 0.4122\n",
            "Epoch 59/200\n",
            "2/2 [==============================] - 0s 11ms/step - loss: 0.2304 - mae: 0.3937\n",
            "Epoch 60/200\n",
            "2/2 [==============================] - 0s 13ms/step - loss: 0.2186 - mae: 0.3891\n",
            "Epoch 61/200\n",
            "2/2 [==============================] - 0s 19ms/step - loss: 0.2004 - mae: 0.3776\n",
            "Epoch 62/200\n",
            "2/2 [==============================] - 0s 24ms/step - loss: 0.1860 - mae: 0.3556\n",
            "Epoch 63/200\n",
            "2/2 [==============================] - 0s 24ms/step - loss: 0.1757 - mae: 0.3482\n",
            "Epoch 64/200\n",
            "2/2 [==============================] - 0s 11ms/step - loss: 0.1658 - mae: 0.3376\n",
            "Epoch 65/200\n",
            "2/2 [==============================] - 0s 12ms/step - loss: 0.1541 - mae: 0.3282\n",
            "Epoch 66/200\n",
            "2/2 [==============================] - 0s 30ms/step - loss: 0.1421 - mae: 0.3161\n",
            "Epoch 67/200\n",
            "2/2 [==============================] - 0s 25ms/step - loss: 0.1319 - mae: 0.2997\n",
            "Epoch 68/200\n",
            "2/2 [==============================] - 0s 11ms/step - loss: 0.1242 - mae: 0.2911\n",
            "Epoch 69/200\n",
            "2/2 [==============================] - 0s 13ms/step - loss: 0.1152 - mae: 0.2839\n",
            "Epoch 70/200\n",
            "2/2 [==============================] - 0s 11ms/step - loss: 0.1072 - mae: 0.2709\n",
            "Epoch 71/200\n",
            "2/2 [==============================] - 0s 11ms/step - loss: 0.1016 - mae: 0.2639\n",
            "Epoch 72/200\n",
            "2/2 [==============================] - 0s 20ms/step - loss: 0.0938 - mae: 0.2568\n",
            "Epoch 73/200\n",
            "2/2 [==============================] - 0s 25ms/step - loss: 0.0871 - mae: 0.2444\n",
            "Epoch 74/200\n",
            "2/2 [==============================] - 0s 24ms/step - loss: 0.0819 - mae: 0.2394\n",
            "Epoch 75/200\n",
            "2/2 [==============================] - 0s 33ms/step - loss: 0.0775 - mae: 0.2282\n",
            "Epoch 76/200\n",
            "2/2 [==============================] - 0s 29ms/step - loss: 0.0735 - mae: 0.2275\n",
            "Epoch 77/200\n",
            "2/2 [==============================] - 0s 26ms/step - loss: 0.0666 - mae: 0.2191\n",
            "Epoch 78/200\n",
            "2/2 [==============================] - 0s 17ms/step - loss: 0.0616 - mae: 0.2067\n",
            "Epoch 79/200\n",
            "2/2 [==============================] - 0s 23ms/step - loss: 0.0574 - mae: 0.1972\n",
            "Epoch 80/200\n",
            "2/2 [==============================] - 0s 9ms/step - loss: 0.0533 - mae: 0.1927\n",
            "Epoch 81/200\n",
            "2/2 [==============================] - 0s 8ms/step - loss: 0.0502 - mae: 0.1874\n",
            "Epoch 82/200\n",
            "2/2 [==============================] - 0s 10ms/step - loss: 0.0464 - mae: 0.1819\n",
            "Epoch 83/200\n",
            "2/2 [==============================] - 0s 13ms/step - loss: 0.0429 - mae: 0.1708\n",
            "Epoch 84/200\n",
            "2/2 [==============================] - 0s 10ms/step - loss: 0.0399 - mae: 0.1658\n",
            "Epoch 85/200\n",
            "2/2 [==============================] - 0s 11ms/step - loss: 0.0373 - mae: 0.1600\n",
            "Epoch 86/200\n",
            "2/2 [==============================] - 0s 8ms/step - loss: 0.0350 - mae: 0.1565\n",
            "Epoch 87/200\n",
            "2/2 [==============================] - 0s 17ms/step - loss: 0.0327 - mae: 0.1499\n",
            "Epoch 88/200\n",
            "2/2 [==============================] - 0s 8ms/step - loss: 0.0313 - mae: 0.1468\n",
            "Epoch 89/200\n",
            "2/2 [==============================] - 0s 10ms/step - loss: 0.0288 - mae: 0.1388\n",
            "Epoch 90/200\n",
            "2/2 [==============================] - 0s 15ms/step - loss: 0.0271 - mae: 0.1369\n",
            "Epoch 91/200\n",
            "2/2 [==============================] - 0s 14ms/step - loss: 0.0248 - mae: 0.1331\n",
            "Epoch 92/200\n",
            "2/2 [==============================] - 0s 24ms/step - loss: 0.0238 - mae: 0.1278\n",
            "Epoch 93/200\n",
            "2/2 [==============================] - 0s 19ms/step - loss: 0.0214 - mae: 0.1240\n",
            "Epoch 94/200\n",
            "2/2 [==============================] - 0s 15ms/step - loss: 0.0199 - mae: 0.1170\n",
            "Epoch 95/200\n",
            "2/2 [==============================] - 0s 17ms/step - loss: 0.0183 - mae: 0.1142\n",
            "Epoch 96/200\n",
            "2/2 [==============================] - 0s 26ms/step - loss: 0.0171 - mae: 0.1086\n",
            "Epoch 97/200\n",
            "2/2 [==============================] - 0s 19ms/step - loss: 0.0157 - mae: 0.1058\n",
            "Epoch 98/200\n",
            "2/2 [==============================] - 0s 16ms/step - loss: 0.0148 - mae: 0.1020\n",
            "Epoch 99/200\n",
            "2/2 [==============================] - 0s 16ms/step - loss: 0.0136 - mae: 0.0965\n",
            "Epoch 100/200\n",
            "2/2 [==============================] - 0s 16ms/step - loss: 0.0129 - mae: 0.0932\n",
            "Epoch 101/200\n",
            "2/2 [==============================] - 0s 19ms/step - loss: 0.0118 - mae: 0.0924\n",
            "Epoch 102/200\n",
            "2/2 [==============================] - 0s 25ms/step - loss: 0.0107 - mae: 0.0876\n",
            "Epoch 103/200\n",
            "2/2 [==============================] - 0s 11ms/step - loss: 0.0099 - mae: 0.0829\n",
            "Epoch 104/200\n",
            "2/2 [==============================] - 0s 24ms/step - loss: 0.0093 - mae: 0.0803\n",
            "Epoch 105/200\n",
            "2/2 [==============================] - 0s 24ms/step - loss: 0.0085 - mae: 0.0782\n",
            "Epoch 106/200\n",
            "2/2 [==============================] - 0s 15ms/step - loss: 0.0082 - mae: 0.0765\n",
            "Epoch 107/200\n",
            "2/2 [==============================] - 0s 15ms/step - loss: 0.0075 - mae: 0.0708\n",
            "Epoch 108/200\n",
            "2/2 [==============================] - 0s 16ms/step - loss: 0.0069 - mae: 0.0698\n",
            "Epoch 109/200\n",
            "2/2 [==============================] - 0s 18ms/step - loss: 0.0063 - mae: 0.0676\n",
            "Epoch 110/200\n",
            "2/2 [==============================] - 0s 21ms/step - loss: 0.0060 - mae: 0.0641\n",
            "Epoch 111/200\n",
            "2/2 [==============================] - 0s 10ms/step - loss: 0.0054 - mae: 0.0629\n",
            "Epoch 112/200\n",
            "2/2 [==============================] - 0s 13ms/step - loss: 0.0051 - mae: 0.0604\n",
            "Epoch 113/200\n",
            "2/2 [==============================] - 0s 17ms/step - loss: 0.0046 - mae: 0.0561\n",
            "Epoch 114/200\n",
            "2/2 [==============================] - 0s 10ms/step - loss: 0.0043 - mae: 0.0544\n",
            "Epoch 115/200\n",
            "2/2 [==============================] - 0s 15ms/step - loss: 0.0040 - mae: 0.0531\n",
            "Epoch 116/200\n",
            "2/2 [==============================] - 0s 9ms/step - loss: 0.0037 - mae: 0.0511\n",
            "Epoch 117/200\n",
            "2/2 [==============================] - 0s 9ms/step - loss: 0.0034 - mae: 0.0491\n",
            "Epoch 118/200\n",
            "2/2 [==============================] - 0s 13ms/step - loss: 0.0031 - mae: 0.0472\n",
            "Epoch 119/200\n",
            "2/2 [==============================] - 0s 8ms/step - loss: 0.0029 - mae: 0.0456\n",
            "Epoch 120/200\n",
            "2/2 [==============================] - 0s 11ms/step - loss: 0.0027 - mae: 0.0435\n",
            "Epoch 121/200\n",
            "2/2 [==============================] - 0s 10ms/step - loss: 0.0025 - mae: 0.0419\n",
            "Epoch 122/200\n",
            "2/2 [==============================] - 0s 14ms/step - loss: 0.0023 - mae: 0.0412\n",
            "Epoch 123/200\n",
            "2/2 [==============================] - 0s 11ms/step - loss: 0.0022 - mae: 0.0388\n",
            "Epoch 124/200\n",
            "2/2 [==============================] - 0s 13ms/step - loss: 0.0020 - mae: 0.0378\n",
            "Epoch 125/200\n",
            "2/2 [==============================] - 0s 16ms/step - loss: 0.0019 - mae: 0.0360\n",
            "Epoch 126/200\n",
            "2/2 [==============================] - 0s 30ms/step - loss: 0.0017 - mae: 0.0344\n",
            "Epoch 127/200\n",
            "2/2 [==============================] - 0s 9ms/step - loss: 0.0016 - mae: 0.0343\n",
            "Epoch 128/200\n",
            "2/2 [==============================] - 0s 9ms/step - loss: 0.0015 - mae: 0.0319\n",
            "Epoch 129/200\n",
            "2/2 [==============================] - 0s 9ms/step - loss: 0.0014 - mae: 0.0307\n",
            "Epoch 130/200\n",
            "2/2 [==============================] - 0s 18ms/step - loss: 0.0013 - mae: 0.0298\n",
            "Epoch 131/200\n",
            "2/2 [==============================] - 0s 14ms/step - loss: 0.0012 - mae: 0.0293\n",
            "Epoch 132/200\n",
            "2/2 [==============================] - 0s 14ms/step - loss: 0.0011 - mae: 0.0274\n",
            "Epoch 133/200\n",
            "2/2 [==============================] - 0s 17ms/step - loss: 9.9937e-04 - mae: 0.0263\n",
            "Epoch 134/200\n",
            "2/2 [==============================] - 0s 15ms/step - loss: 9.2679e-04 - mae: 0.0258\n",
            "Epoch 135/200\n",
            "2/2 [==============================] - 0s 12ms/step - loss: 8.5448e-04 - mae: 0.0246\n",
            "Epoch 136/200\n",
            "2/2 [==============================] - 0s 13ms/step - loss: 7.8683e-04 - mae: 0.0234\n",
            "Epoch 137/200\n",
            "2/2 [==============================] - 0s 7ms/step - loss: 7.3555e-04 - mae: 0.0229\n",
            "Epoch 138/200\n",
            "2/2 [==============================] - 0s 7ms/step - loss: 7.0538e-04 - mae: 0.0224\n",
            "Epoch 139/200\n",
            "2/2 [==============================] - 0s 7ms/step - loss: 6.5087e-04 - mae: 0.0211\n",
            "Epoch 140/200\n",
            "2/2 [==============================] - 0s 18ms/step - loss: 6.0751e-04 - mae: 0.0206\n",
            "Epoch 141/200\n",
            "2/2 [==============================] - 0s 8ms/step - loss: 5.5055e-04 - mae: 0.0194\n",
            "Epoch 142/200\n",
            "2/2 [==============================] - 0s 6ms/step - loss: 5.1787e-04 - mae: 0.0190\n",
            "Epoch 143/200\n",
            "2/2 [==============================] - 0s 23ms/step - loss: 4.7035e-04 - mae: 0.0185\n",
            "Epoch 144/200\n",
            "2/2 [==============================] - 0s 12ms/step - loss: 4.3102e-04 - mae: 0.0176\n",
            "Epoch 145/200\n",
            "2/2 [==============================] - 0s 14ms/step - loss: 4.0369e-04 - mae: 0.0168\n",
            "Epoch 146/200\n",
            "2/2 [==============================] - 0s 13ms/step - loss: 3.7374e-04 - mae: 0.0164\n",
            "Epoch 147/200\n",
            "2/2 [==============================] - 0s 12ms/step - loss: 3.4462e-04 - mae: 0.0157\n",
            "Epoch 148/200\n",
            "2/2 [==============================] - 0s 7ms/step - loss: 3.1813e-04 - mae: 0.0151\n",
            "Epoch 149/200\n",
            "2/2 [==============================] - 0s 20ms/step - loss: 2.9423e-04 - mae: 0.0145\n",
            "Epoch 150/200\n",
            "2/2 [==============================] - 0s 8ms/step - loss: 2.7576e-04 - mae: 0.0139\n",
            "Epoch 151/200\n",
            "2/2 [==============================] - 0s 16ms/step - loss: 2.5472e-04 - mae: 0.0136\n",
            "Epoch 152/200\n",
            "2/2 [==============================] - 0s 42ms/step - loss: 2.3409e-04 - mae: 0.0130\n",
            "Epoch 153/200\n",
            "2/2 [==============================] - 0s 17ms/step - loss: 2.1962e-04 - mae: 0.0125\n",
            "Epoch 154/200\n",
            "2/2 [==============================] - 0s 16ms/step - loss: 2.0076e-04 - mae: 0.0118\n",
            "Epoch 155/200\n",
            "2/2 [==============================] - 0s 19ms/step - loss: 1.8402e-04 - mae: 0.0115\n",
            "Epoch 156/200\n",
            "2/2 [==============================] - 0s 18ms/step - loss: 1.7253e-04 - mae: 0.0110\n",
            "Epoch 157/200\n",
            "2/2 [==============================] - 0s 21ms/step - loss: 1.6280e-04 - mae: 0.0108\n",
            "Epoch 158/200\n",
            "2/2 [==============================] - 0s 28ms/step - loss: 1.4815e-04 - mae: 0.0104\n",
            "Epoch 159/200\n",
            "2/2 [==============================] - 0s 21ms/step - loss: 1.3568e-04 - mae: 0.0098\n",
            "Epoch 160/200\n",
            "2/2 [==============================] - 0s 13ms/step - loss: 1.2769e-04 - mae: 0.0096\n",
            "Epoch 161/200\n",
            "2/2 [==============================] - 0s 21ms/step - loss: 1.1709e-04 - mae: 0.0091\n",
            "Epoch 162/200\n",
            "2/2 [==============================] - 0s 11ms/step - loss: 1.0761e-04 - mae: 0.0088\n",
            "Epoch 163/200\n",
            "2/2 [==============================] - 0s 15ms/step - loss: 9.9667e-05 - mae: 0.0084\n",
            "Epoch 164/200\n",
            "2/2 [==============================] - 0s 24ms/step - loss: 9.3977e-05 - mae: 0.0082\n",
            "Epoch 165/200\n",
            "2/2 [==============================] - 0s 19ms/step - loss: 8.6978e-05 - mae: 0.0079\n",
            "Epoch 166/200\n",
            "2/2 [==============================] - 0s 15ms/step - loss: 7.9594e-05 - mae: 0.0076\n",
            "Epoch 167/200\n",
            "2/2 [==============================] - 0s 17ms/step - loss: 7.5409e-05 - mae: 0.0074\n",
            "Epoch 168/200\n",
            "2/2 [==============================] - 0s 21ms/step - loss: 6.8300e-05 - mae: 0.0069\n",
            "Epoch 169/200\n",
            "2/2 [==============================] - 0s 26ms/step - loss: 6.2565e-05 - mae: 0.0067\n",
            "Epoch 170/200\n",
            "2/2 [==============================] - 0s 11ms/step - loss: 6.0252e-05 - mae: 0.0065\n",
            "Epoch 171/200\n",
            "2/2 [==============================] - 0s 15ms/step - loss: 5.4572e-05 - mae: 0.0063\n",
            "Epoch 172/200\n",
            "2/2 [==============================] - 0s 9ms/step - loss: 5.0528e-05 - mae: 0.0061\n",
            "Epoch 173/200\n",
            "2/2 [==============================] - 0s 25ms/step - loss: 4.6023e-05 - mae: 0.0057\n",
            "Epoch 174/200\n",
            "2/2 [==============================] - 0s 16ms/step - loss: 4.3283e-05 - mae: 0.0056\n",
            "Epoch 175/200\n",
            "2/2 [==============================] - 0s 22ms/step - loss: 3.9533e-05 - mae: 0.0052\n",
            "Epoch 176/200\n",
            "2/2 [==============================] - 0s 13ms/step - loss: 3.6459e-05 - mae: 0.0051\n",
            "Epoch 177/200\n",
            "2/2 [==============================] - 0s 13ms/step - loss: 3.4071e-05 - mae: 0.0049\n",
            "Epoch 178/200\n",
            "2/2 [==============================] - 0s 13ms/step - loss: 3.1318e-05 - mae: 0.0047\n",
            "Epoch 179/200\n",
            "2/2 [==============================] - 0s 12ms/step - loss: 2.8811e-05 - mae: 0.0045\n",
            "Epoch 180/200\n",
            "2/2 [==============================] - 0s 19ms/step - loss: 2.6657e-05 - mae: 0.0044\n",
            "Epoch 181/200\n",
            "2/2 [==============================] - 0s 39ms/step - loss: 2.4714e-05 - mae: 0.0042\n",
            "Epoch 182/200\n",
            "2/2 [==============================] - 0s 15ms/step - loss: 2.3018e-05 - mae: 0.0041\n",
            "Epoch 183/200\n",
            "2/2 [==============================] - 0s 16ms/step - loss: 2.1306e-05 - mae: 0.0039\n",
            "Epoch 184/200\n",
            "2/2 [==============================] - 0s 26ms/step - loss: 1.9568e-05 - mae: 0.0037\n",
            "Epoch 185/200\n",
            "2/2 [==============================] - 0s 28ms/step - loss: 1.8275e-05 - mae: 0.0036\n",
            "Epoch 186/200\n",
            "2/2 [==============================] - 0s 15ms/step - loss: 1.6868e-05 - mae: 0.0034\n",
            "Epoch 187/200\n",
            "2/2 [==============================] - 0s 25ms/step - loss: 1.5522e-05 - mae: 0.0033\n",
            "Epoch 188/200\n",
            "2/2 [==============================] - 0s 17ms/step - loss: 1.4388e-05 - mae: 0.0032\n",
            "Epoch 189/200\n",
            "2/2 [==============================] - 0s 26ms/step - loss: 1.3564e-05 - mae: 0.0031\n",
            "Epoch 190/200\n",
            "2/2 [==============================] - 0s 13ms/step - loss: 1.2586e-05 - mae: 0.0030\n",
            "Epoch 191/200\n",
            "2/2 [==============================] - 0s 13ms/step - loss: 1.1508e-05 - mae: 0.0029\n",
            "Epoch 192/200\n",
            "2/2 [==============================] - 0s 12ms/step - loss: 1.0533e-05 - mae: 0.0027\n",
            "Epoch 193/200\n",
            "2/2 [==============================] - 0s 10ms/step - loss: 9.8599e-06 - mae: 0.0027\n",
            "Epoch 194/200\n",
            "2/2 [==============================] - 0s 16ms/step - loss: 9.0428e-06 - mae: 0.0025\n",
            "Epoch 195/200\n",
            "2/2 [==============================] - 0s 12ms/step - loss: 8.3325e-06 - mae: 0.0024\n",
            "Epoch 196/200\n",
            "2/2 [==============================] - 0s 11ms/step - loss: 7.7005e-06 - mae: 0.0024\n",
            "Epoch 197/200\n",
            "2/2 [==============================] - 0s 11ms/step - loss: 7.1238e-06 - mae: 0.0023\n",
            "Epoch 198/200\n",
            "2/2 [==============================] - 0s 10ms/step - loss: 6.6654e-06 - mae: 0.0022\n",
            "Epoch 199/200\n",
            "2/2 [==============================] - 0s 12ms/step - loss: 6.1927e-06 - mae: 0.0021\n",
            "Epoch 200/200\n",
            "2/2 [==============================] - 0s 16ms/step - loss: 5.6615e-06 - mae: 0.0020\n",
            "CPU times: user 4.78 s, sys: 188 ms, total: 4.97 s\n",
            "Wall time: 11.9 s\n"
          ]
        },
        {
          "output_type": "execute_result",
          "data": {
            "text/plain": [
              "<keras.callbacks.History at 0x7f221fee0310>"
            ]
          },
          "metadata": {},
          "execution_count": 23
        }
      ]
    },
    {
      "cell_type": "markdown",
      "source": [
        "Сеть обучается, ошибка падает, метрика становится лучше, всё замечательно.\n",
        "\n",
        "Теперь проверим, а как модель работает на новых данных."
      ],
      "metadata": {
        "id": "tNfv4XxBbqhv"
      }
    },
    {
      "cell_type": "code",
      "source": [
        "test_X = [[4, 2],\n",
        "          [6, 2]]\n",
        "test_X = mms.transform(test_X)\n",
        "print(\"Предсказание нейронной сети: \")\n",
        "print(model.predict(np.array(test_X)))"
      ],
      "metadata": {
        "colab": {
          "base_uri": "https://localhost:8080/"
        },
        "outputId": "c1b9c29e-fe51-4bb3-94c9-947ac99f3e58",
        "id": "_c2igAtsbqhv"
      },
      "execution_count": null,
      "outputs": [
        {
          "output_type": "stream",
          "name": "stdout",
          "text": [
            "Предсказание нейронной сети: \n",
            "1/1 [==============================] - 0s 89ms/step\n",
            "[[6.0027723]\n",
            " [8.001095 ]]\n"
          ]
        }
      ]
    },
    {
      "cell_type": "markdown",
      "source": [
        "Предсказания очень похожи на истину."
      ],
      "metadata": {
        "id": "YnqP0EUUbqhv"
      }
    },
    {
      "cell_type": "markdown",
      "source": [
        "И проверимся на всех обучающих данных."
      ],
      "metadata": {
        "id": "p4OVXPaIbqhv"
      }
    },
    {
      "cell_type": "code",
      "source": [
        "import pandas as pd\n",
        "\n",
        "pd.DataFrame({\n",
        "    'x1': X[:, 0],\n",
        "    'x2': X[:, 1],\n",
        "    'true': np.squeeze(y),\n",
        "    'pred': np.squeeze(model.predict(X_norm))\n",
        "}).head(10)"
      ],
      "metadata": {
        "colab": {
          "base_uri": "https://localhost:8080/",
          "height": 381
        },
        "outputId": "74dcea63-60ca-4f00-baf6-b5814edca52d",
        "id": "GIUnd40Ibqhv"
      },
      "execution_count": null,
      "outputs": [
        {
          "output_type": "stream",
          "name": "stdout",
          "text": [
            "2/2 [==============================] - 0s 9ms/step\n"
          ]
        },
        {
          "output_type": "execute_result",
          "data": {
            "text/plain": [
              "   x1  x2  true       pred\n",
              "0   3   2     5   5.003610\n",
              "1   5   4     9   9.000972\n",
              "2   4   1     5   5.003253\n",
              "3   8   6    14  13.997495\n",
              "4   2   9    11  11.001081\n",
              "5   3   3     6   6.003129\n",
              "6   6   2     8   8.001095\n",
              "7   5   4     9   9.000972\n",
              "8   1   5     6   6.003844\n",
              "9   9   1    10   9.999061"
            ],
            "text/html": [
              "\n",
              "  <div id=\"df-0cafd6b8-8a78-4317-9f45-33febe183d1f\">\n",
              "    <div class=\"colab-df-container\">\n",
              "      <div>\n",
              "<style scoped>\n",
              "    .dataframe tbody tr th:only-of-type {\n",
              "        vertical-align: middle;\n",
              "    }\n",
              "\n",
              "    .dataframe tbody tr th {\n",
              "        vertical-align: top;\n",
              "    }\n",
              "\n",
              "    .dataframe thead th {\n",
              "        text-align: right;\n",
              "    }\n",
              "</style>\n",
              "<table border=\"1\" class=\"dataframe\">\n",
              "  <thead>\n",
              "    <tr style=\"text-align: right;\">\n",
              "      <th></th>\n",
              "      <th>x1</th>\n",
              "      <th>x2</th>\n",
              "      <th>true</th>\n",
              "      <th>pred</th>\n",
              "    </tr>\n",
              "  </thead>\n",
              "  <tbody>\n",
              "    <tr>\n",
              "      <th>0</th>\n",
              "      <td>3</td>\n",
              "      <td>2</td>\n",
              "      <td>5</td>\n",
              "      <td>5.003610</td>\n",
              "    </tr>\n",
              "    <tr>\n",
              "      <th>1</th>\n",
              "      <td>5</td>\n",
              "      <td>4</td>\n",
              "      <td>9</td>\n",
              "      <td>9.000972</td>\n",
              "    </tr>\n",
              "    <tr>\n",
              "      <th>2</th>\n",
              "      <td>4</td>\n",
              "      <td>1</td>\n",
              "      <td>5</td>\n",
              "      <td>5.003253</td>\n",
              "    </tr>\n",
              "    <tr>\n",
              "      <th>3</th>\n",
              "      <td>8</td>\n",
              "      <td>6</td>\n",
              "      <td>14</td>\n",
              "      <td>13.997495</td>\n",
              "    </tr>\n",
              "    <tr>\n",
              "      <th>4</th>\n",
              "      <td>2</td>\n",
              "      <td>9</td>\n",
              "      <td>11</td>\n",
              "      <td>11.001081</td>\n",
              "    </tr>\n",
              "    <tr>\n",
              "      <th>5</th>\n",
              "      <td>3</td>\n",
              "      <td>3</td>\n",
              "      <td>6</td>\n",
              "      <td>6.003129</td>\n",
              "    </tr>\n",
              "    <tr>\n",
              "      <th>6</th>\n",
              "      <td>6</td>\n",
              "      <td>2</td>\n",
              "      <td>8</td>\n",
              "      <td>8.001095</td>\n",
              "    </tr>\n",
              "    <tr>\n",
              "      <th>7</th>\n",
              "      <td>5</td>\n",
              "      <td>4</td>\n",
              "      <td>9</td>\n",
              "      <td>9.000972</td>\n",
              "    </tr>\n",
              "    <tr>\n",
              "      <th>8</th>\n",
              "      <td>1</td>\n",
              "      <td>5</td>\n",
              "      <td>6</td>\n",
              "      <td>6.003844</td>\n",
              "    </tr>\n",
              "    <tr>\n",
              "      <th>9</th>\n",
              "      <td>9</td>\n",
              "      <td>1</td>\n",
              "      <td>10</td>\n",
              "      <td>9.999061</td>\n",
              "    </tr>\n",
              "  </tbody>\n",
              "</table>\n",
              "</div>\n",
              "      <button class=\"colab-df-convert\" onclick=\"convertToInteractive('df-0cafd6b8-8a78-4317-9f45-33febe183d1f')\"\n",
              "              title=\"Convert this dataframe to an interactive table.\"\n",
              "              style=\"display:none;\">\n",
              "        \n",
              "  <svg xmlns=\"http://www.w3.org/2000/svg\" height=\"24px\"viewBox=\"0 0 24 24\"\n",
              "       width=\"24px\">\n",
              "    <path d=\"M0 0h24v24H0V0z\" fill=\"none\"/>\n",
              "    <path d=\"M18.56 5.44l.94 2.06.94-2.06 2.06-.94-2.06-.94-.94-2.06-.94 2.06-2.06.94zm-11 1L8.5 8.5l.94-2.06 2.06-.94-2.06-.94L8.5 2.5l-.94 2.06-2.06.94zm10 10l.94 2.06.94-2.06 2.06-.94-2.06-.94-.94-2.06-.94 2.06-2.06.94z\"/><path d=\"M17.41 7.96l-1.37-1.37c-.4-.4-.92-.59-1.43-.59-.52 0-1.04.2-1.43.59L10.3 9.45l-7.72 7.72c-.78.78-.78 2.05 0 2.83L4 21.41c.39.39.9.59 1.41.59.51 0 1.02-.2 1.41-.59l7.78-7.78 2.81-2.81c.8-.78.8-2.07 0-2.86zM5.41 20L4 18.59l7.72-7.72 1.47 1.35L5.41 20z\"/>\n",
              "  </svg>\n",
              "      </button>\n",
              "      \n",
              "  <style>\n",
              "    .colab-df-container {\n",
              "      display:flex;\n",
              "      flex-wrap:wrap;\n",
              "      gap: 12px;\n",
              "    }\n",
              "\n",
              "    .colab-df-convert {\n",
              "      background-color: #E8F0FE;\n",
              "      border: none;\n",
              "      border-radius: 50%;\n",
              "      cursor: pointer;\n",
              "      display: none;\n",
              "      fill: #1967D2;\n",
              "      height: 32px;\n",
              "      padding: 0 0 0 0;\n",
              "      width: 32px;\n",
              "    }\n",
              "\n",
              "    .colab-df-convert:hover {\n",
              "      background-color: #E2EBFA;\n",
              "      box-shadow: 0px 1px 2px rgba(60, 64, 67, 0.3), 0px 1px 3px 1px rgba(60, 64, 67, 0.15);\n",
              "      fill: #174EA6;\n",
              "    }\n",
              "\n",
              "    [theme=dark] .colab-df-convert {\n",
              "      background-color: #3B4455;\n",
              "      fill: #D2E3FC;\n",
              "    }\n",
              "\n",
              "    [theme=dark] .colab-df-convert:hover {\n",
              "      background-color: #434B5C;\n",
              "      box-shadow: 0px 1px 3px 1px rgba(0, 0, 0, 0.15);\n",
              "      filter: drop-shadow(0px 1px 2px rgba(0, 0, 0, 0.3));\n",
              "      fill: #FFFFFF;\n",
              "    }\n",
              "  </style>\n",
              "\n",
              "      <script>\n",
              "        const buttonEl =\n",
              "          document.querySelector('#df-0cafd6b8-8a78-4317-9f45-33febe183d1f button.colab-df-convert');\n",
              "        buttonEl.style.display =\n",
              "          google.colab.kernel.accessAllowed ? 'block' : 'none';\n",
              "\n",
              "        async function convertToInteractive(key) {\n",
              "          const element = document.querySelector('#df-0cafd6b8-8a78-4317-9f45-33febe183d1f');\n",
              "          const dataTable =\n",
              "            await google.colab.kernel.invokeFunction('convertToInteractive',\n",
              "                                                     [key], {});\n",
              "          if (!dataTable) return;\n",
              "\n",
              "          const docLinkHtml = 'Like what you see? Visit the ' +\n",
              "            '<a target=\"_blank\" href=https://colab.research.google.com/notebooks/data_table.ipynb>data table notebook</a>'\n",
              "            + ' to learn more about interactive tables.';\n",
              "          element.innerHTML = '';\n",
              "          dataTable['output_type'] = 'display_data';\n",
              "          await google.colab.output.renderOutput(dataTable, element);\n",
              "          const docLink = document.createElement('div');\n",
              "          docLink.innerHTML = docLinkHtml;\n",
              "          element.appendChild(docLink);\n",
              "        }\n",
              "      </script>\n",
              "    </div>\n",
              "  </div>\n",
              "  "
            ]
          },
          "metadata": {},
          "execution_count": 25
        }
      ]
    },
    {
      "cell_type": "markdown",
      "source": [
        "## Сеть для классификации изображений"
      ],
      "metadata": {
        "id": "dMl_PwDBrLf3"
      }
    },
    {
      "cell_type": "markdown",
      "source": [
        "<img src='https://media.giphy.com/media/xZxtYEV4GHQtgccxIl/giphy.gif' width=400>"
      ],
      "metadata": {
        "id": "IMajzMNXqM9k"
      }
    },
    {
      "cell_type": "markdown",
      "source": [
        "Подгрузим данные из стандартных датасетов из `keras`.\n",
        "\n",
        "Датасет называется MNIST и представляет из себя черно-белые изображения 28 на 28 пикселей. "
      ],
      "metadata": {
        "id": "jQ3JsN_PrLf5"
      }
    },
    {
      "cell_type": "code",
      "source": [
        "from keras.datasets import mnist\n",
        "\n",
        "(X_train, y_train), (X_test, y_test) = mnist.load_data()\n",
        "\n",
        "X_train.shape, X_test.shape"
      ],
      "metadata": {
        "colab": {
          "base_uri": "https://localhost:8080/"
        },
        "id": "TALj1QyerYip",
        "outputId": "6daf1e71-b158-4c9d-9679-00f5e2aced3c"
      },
      "execution_count": null,
      "outputs": [
        {
          "output_type": "stream",
          "name": "stdout",
          "text": [
            "Downloading data from https://storage.googleapis.com/tensorflow/tf-keras-datasets/mnist.npz\n",
            "11490434/11490434 [==============================] - 0s 0us/step\n"
          ]
        },
        {
          "output_type": "execute_result",
          "data": {
            "text/plain": [
              "((60000, 28, 28), (10000, 28, 28))"
            ]
          },
          "metadata": {},
          "execution_count": 26
        }
      ]
    },
    {
      "cell_type": "code",
      "source": [
        "X_train[0].shape"
      ],
      "metadata": {
        "colab": {
          "base_uri": "https://localhost:8080/"
        },
        "id": "OvJVT5FDrzPq",
        "outputId": "ca682f08-ea5e-4cd3-d039-93be6725ba80"
      },
      "execution_count": null,
      "outputs": [
        {
          "output_type": "execute_result",
          "data": {
            "text/plain": [
              "(28, 28)"
            ]
          },
          "metadata": {},
          "execution_count": 27
        }
      ]
    },
    {
      "cell_type": "code",
      "source": [
        "import matplotlib.pyplot as plt\n",
        "import seaborn as sns"
      ],
      "metadata": {
        "id": "rBVoUJtbkTN6"
      },
      "execution_count": null,
      "outputs": []
    },
    {
      "cell_type": "code",
      "source": [
        "fig, ax = plt.subplots(1, 5, figsize=(15, 10))\n",
        "\n",
        "for i in range(5):\n",
        "    ax[i].imshow(X_train[i], cmap='gray')\n",
        "    ax[i].axis('off')"
      ],
      "metadata": {
        "colab": {
          "base_uri": "https://localhost:8080/",
          "height": 167
        },
        "id": "CdFJtQUQy0or",
        "outputId": "7d007760-f103-4dd0-8dfb-ac501ce9d74b"
      },
      "execution_count": null,
      "outputs": [
        {
          "output_type": "display_data",
          "data": {
            "text/plain": [
              "<Figure size 1500x1000 with 5 Axes>"
            ],
            "image/png": "[encoded data removed]"
          },
          "metadata": {}
        }
      ]
    },
    {
      "cell_type": "code",
      "source": [
        "y_train[:5]"
      ],
      "metadata": {
        "colab": {
          "base_uri": "https://localhost:8080/"
        },
        "outputId": "46d767bc-8126-4813-c1db-0dd2abcf4679",
        "id": "SLYR6H1brLf6"
      },
      "execution_count": null,
      "outputs": [
        {
          "output_type": "execute_result",
          "data": {
            "text/plain": [
              "array([5, 0, 4, 1, 9], dtype=uint8)"
            ]
          },
          "metadata": {},
          "execution_count": 31
        }
      ]
    },
    {
      "cell_type": "markdown",
      "source": [
        "Но давайте упростим себе задачу и возьмем для обучения только два класса, чтобы сделать задачу бинарной классификации."
      ],
      "metadata": {
        "id": "Uqafao750wfc"
      }
    },
    {
      "cell_type": "code",
      "source": [
        "idxs = np.where((y_train == 0) | (y_train == 1))\n",
        "y_train = y_train[idxs]"
      ],
      "metadata": {
        "id": "k-2c7wJ40UfB"
      },
      "execution_count": null,
      "outputs": []
    },
    {
      "cell_type": "code",
      "source": [
        "X_train = X_train[idxs]"
      ],
      "metadata": {
        "id": "7mE2dASL0tfI"
      },
      "execution_count": null,
      "outputs": []
    },
    {
      "cell_type": "code",
      "source": [
        "X_train.shape, y_train.shape"
      ],
      "metadata": {
        "colab": {
          "base_uri": "https://localhost:8080/"
        },
        "id": "uf6sxEBK05sv",
        "outputId": "6999153c-5fb2-40f3-bdf9-83e9c90895c7"
      },
      "execution_count": null,
      "outputs": [
        {
          "output_type": "execute_result",
          "data": {
            "text/plain": [
              "((12665, 28, 28), (12665,))"
            ]
          },
          "metadata": {},
          "execution_count": 34
        }
      ]
    },
    {
      "cell_type": "markdown",
      "source": [
        "И тоже самое для теста."
      ],
      "metadata": {
        "id": "Uwfrh9Os0_TE"
      }
    },
    {
      "cell_type": "code",
      "source": [
        "idxs = np.where((y_test == 0) | (y_test == 1))\n",
        "y_test = y_test[idxs]\n",
        "\n",
        "X_test = X_test[idxs]\n",
        "\n",
        "X_test.shape, y_test.shape"
      ],
      "metadata": {
        "colab": {
          "base_uri": "https://localhost:8080/"
        },
        "id": "_aXF2MFw1Avv",
        "outputId": "e32f2826-5fc0-42cf-a483-197bfa7d4b4f"
      },
      "execution_count": null,
      "outputs": [
        {
          "output_type": "execute_result",
          "data": {
            "text/plain": [
              "((2115, 28, 28), (2115,))"
            ]
          },
          "metadata": {},
          "execution_count": 35
        }
      ]
    },
    {
      "cell_type": "markdown",
      "source": [
        "Убедимся, что теперь у нас только 0, либо 1."
      ],
      "metadata": {
        "id": "AHTXRcF5-jdc"
      }
    },
    {
      "cell_type": "code",
      "source": [
        "fig, ax = plt.subplots(1, 5, figsize=(15, 10))\n",
        "\n",
        "for i in range(5):\n",
        "    ax[i].imshow(X_train[i], cmap='gray')\n",
        "    ax[i].axis('off')"
      ],
      "metadata": {
        "colab": {
          "base_uri": "https://localhost:8080/",
          "height": 167
        },
        "id": "icacSfk21L7E",
        "outputId": "e3be2efa-8258-42ab-9b7e-3e33e23a388f"
      },
      "execution_count": null,
      "outputs": [
        {
          "output_type": "display_data",
          "data": {
            "text/plain": [
              "<Figure size 1500x1000 with 5 Axes>"
            ],
            "image/png": "[encoded data removed]"
          },
          "metadata": {}
        }
      ]
    },
    {
      "cell_type": "code",
      "source": [
        "y_train[:5]"
      ],
      "metadata": {
        "colab": {
          "base_uri": "https://localhost:8080/"
        },
        "id": "7nEFHn_A1Nar",
        "outputId": "0d9a6ecf-f27b-4003-a55e-b82c99dc97ae"
      },
      "execution_count": null,
      "outputs": [
        {
          "output_type": "execute_result",
          "data": {
            "text/plain": [
              "array([0, 1, 1, 1, 1], dtype=uint8)"
            ]
          },
          "metadata": {},
          "execution_count": 37
        }
      ]
    },
    {
      "cell_type": "markdown",
      "source": [
        "Нормируем данные, сейчас обойдемся без `MinMaxScaler` из `sklearn`, а воспользуемся делением на 255, т.к. сейчас изображения представлены пикселями в диапазоне от 0 до 255, а для нейросети комфортней обучаться на диапазоне от 0 до 1."
      ],
      "metadata": {
        "id": "gjJV8oXFrLf7"
      }
    },
    {
      "cell_type": "code",
      "source": [
        "print(X_train.min(), X_train.max())\n",
        "\n",
        "X_train = X_train / 255.0\n",
        "X_test = X_test / 255.0\n",
        "\n",
        "print(X_train.min(), X_train.max())"
      ],
      "metadata": {
        "colab": {
          "base_uri": "https://localhost:8080/"
        },
        "id": "RADeSMbdrLf7",
        "outputId": "2f0f6c0d-c32a-4682-a427-150ade5aad76"
      },
      "execution_count": null,
      "outputs": [
        {
          "output_type": "stream",
          "name": "stdout",
          "text": [
            "0 255\n",
            "0.0 1.0\n"
          ]
        }
      ]
    },
    {
      "cell_type": "markdown",
      "source": [
        "Так же нужно видоизменить метку класса, сейчас это лейблы 0 или 1, нужно преобразовать в бинарный вид.\n",
        "\n",
        "Тем самым получаем 2 столбика, где первый - это метка является ли изображение 0 классом, а второй столбик - является ли изображение 1 классом."
      ],
      "metadata": {
        "id": "1J1-UKso2hv-"
      }
    },
    {
      "cell_type": "code",
      "source": [
        "from keras.utils.np_utils import to_categorical\n",
        "\n",
        "y_train_cat = to_categorical(y_train)\n",
        "y_test_cat = to_categorical(y_test)\n",
        "\n",
        "y_train[:5]"
      ],
      "metadata": {
        "colab": {
          "base_uri": "https://localhost:8080/"
        },
        "id": "VtEYAHdF2ru5",
        "outputId": "a999b3d6-fe64-4418-8267-8f37fa62d8e9"
      },
      "execution_count": null,
      "outputs": [
        {
          "output_type": "execute_result",
          "data": {
            "text/plain": [
              "array([0, 1, 1, 1, 1], dtype=uint8)"
            ]
          },
          "metadata": {},
          "execution_count": 39
        }
      ]
    },
    {
      "cell_type": "markdown",
      "source": [
        "А чтобы еще легче обучать сетку поменяем масштаб изображений, сейчас они 28 на 28, сделаем меньше, чтобы нейросеть была легче."
      ],
      "metadata": {
        "id": "-oI0t1eC8UWb"
      }
    },
    {
      "cell_type": "code",
      "source": [
        "X_train[..., np.newaxis].shape"
      ],
      "metadata": {
        "colab": {
          "base_uri": "https://localhost:8080/"
        },
        "id": "XRbxRxLm9ERn",
        "outputId": "db2148d8-e1e8-44e1-d038-421ea5c8cc69"
      },
      "execution_count": null,
      "outputs": [
        {
          "output_type": "execute_result",
          "data": {
            "text/plain": [
              "(12665, 28, 28, 1)"
            ]
          },
          "metadata": {},
          "execution_count": 40
        }
      ]
    },
    {
      "cell_type": "code",
      "source": [
        "import matplotlib.pyplot as plt\n",
        "\n",
        "\n",
        "X_train_resized = tf.image.resize(X_train[..., np.newaxis], (6, 6))[..., 0]\n",
        "X_test_resized = tf.image.resize(X_test[..., np.newaxis], (6, 6))[..., 0]\n",
        "\n",
        "fig, ax = plt.subplots(1, 5, figsize=(15, 10))\n",
        "\n",
        "for i in range(5):\n",
        "    ax[i].imshow(X_train_resized[i], cmap='gray')\n",
        "    ax[i].axis('off')"
      ],
      "metadata": {
        "colab": {
          "base_uri": "https://localhost:8080/",
          "height": 167
        },
        "id": "2o6DgMm38KzZ",
        "outputId": "98c5ae99-5b59-475b-93a0-88d1510e3b07"
      },
      "execution_count": null,
      "outputs": [
        {
          "output_type": "display_data",
          "data": {
            "text/plain": [
              "<Figure size 1500x1000 with 5 Axes>"
            ],
            "image/png": "[encoded data removed]"
          },
          "metadata": {}
        }
      ]
    },
    {
      "cell_type": "markdown",
      "source": [
        "Для того, что обучить нейронную сеть для любой задачи нужно ответить на три вопроса:\n",
        "1. Какая архитектура сети?\n",
        "2. Что оптимизируем?\n",
        "3. Как обучаем?"
      ],
      "metadata": {
        "id": "XxFhSXmjrLf7"
      }
    },
    {
      "cell_type": "markdown",
      "source": [
        "### Какая архитектура сети"
      ],
      "metadata": {
        "id": "tem4xXz_rLf7"
      }
    },
    {
      "cell_type": "markdown",
      "source": [
        "Создадим сеть еще сложнее.\n",
        "\n",
        "Во-первых, на вход поступает изображение 6х6, нужно с ним что-то сделать, так как наша сетку пока не умеет работать с двумерным входом. Здесь нам поможет слой из `keras` `Flatten`, который вытягивает изображение в один вектор, была картинка 6x6, а станет вектором с размерностью 36."
      ],
      "metadata": {
        "id": "EOWph2CPrLf7"
      }
    },
    {
      "cell_type": "markdown",
      "source": [
        "Была матрица:"
      ],
      "metadata": {
        "id": "S7zlRbu9BnCh"
      }
    },
    {
      "cell_type": "code",
      "source": [
        "X_train_resized[0].numpy()"
      ],
      "metadata": {
        "colab": {
          "base_uri": "https://localhost:8080/"
        },
        "id": "w8OGZXR0BlAq",
        "outputId": "c2dd0f8d-91dd-492c-aa88-62130661cabd"
      },
      "execution_count": null,
      "outputs": [
        {
          "output_type": "execute_result",
          "data": {
            "text/plain": [
              "array([[0.        , 0.        , 0.        , 0.        , 0.        ,\n",
              "        0.        ],\n",
              "       [0.        , 0.        , 0.03594765, 0.9888889 , 0.42941174,\n",
              "        0.        ],\n",
              "       [0.        , 0.00228757, 0.7885626 , 0.        , 0.9901961 ,\n",
              "        0.        ],\n",
              "       [0.        , 0.65588236, 0.        , 0.        , 0.88235307,\n",
              "        0.        ],\n",
              "       [0.        , 0.66078436, 0.5088234 , 0.7235297 , 0.        ,\n",
              "        0.        ],\n",
              "       [0.        , 0.        , 0.        , 0.        , 0.        ,\n",
              "        0.        ]], dtype=float32)"
            ]
          },
          "metadata": {},
          "execution_count": 42
        }
      ]
    },
    {
      "cell_type": "code",
      "source": [
        "X_train_resized[0].numpy().shape"
      ],
      "metadata": {
        "colab": {
          "base_uri": "https://localhost:8080/"
        },
        "id": "XlAY7TcjBVCT",
        "outputId": "860b6b32-28b7-4d64-ea9f-7b9221f31760"
      },
      "execution_count": null,
      "outputs": [
        {
          "output_type": "execute_result",
          "data": {
            "text/plain": [
              "(6, 6)"
            ]
          },
          "metadata": {},
          "execution_count": 43
        }
      ]
    },
    {
      "cell_type": "markdown",
      "source": [
        "А теперь вектор:"
      ],
      "metadata": {
        "id": "hx2lP21wBpGH"
      }
    },
    {
      "cell_type": "code",
      "source": [
        "X_train_resized[0].numpy().flatten()"
      ],
      "metadata": {
        "colab": {
          "base_uri": "https://localhost:8080/"
        },
        "id": "Sifs6oRaBmQI",
        "outputId": "83a7567b-8a66-486c-d9e5-b07d0b108529"
      },
      "execution_count": null,
      "outputs": [
        {
          "output_type": "execute_result",
          "data": {
            "text/plain": [
              "array([0.        , 0.        , 0.        , 0.        , 0.        ,\n",
              "       0.        , 0.        , 0.        , 0.03594765, 0.9888889 ,\n",
              "       0.42941174, 0.        , 0.        , 0.00228757, 0.7885626 ,\n",
              "       0.        , 0.9901961 , 0.        , 0.        , 0.65588236,\n",
              "       0.        , 0.        , 0.88235307, 0.        , 0.        ,\n",
              "       0.66078436, 0.5088234 , 0.7235297 , 0.        , 0.        ,\n",
              "       0.        , 0.        , 0.        , 0.        , 0.        ,\n",
              "       0.        ], dtype=float32)"
            ]
          },
          "metadata": {},
          "execution_count": 44
        }
      ]
    },
    {
      "cell_type": "code",
      "source": [
        "X_train_resized[0].numpy().flatten().shape"
      ],
      "metadata": {
        "colab": {
          "base_uri": "https://localhost:8080/"
        },
        "id": "wT_mBILMBbKO",
        "outputId": "e575587a-3fce-4ce2-b484-974b9ed46f2f"
      },
      "execution_count": null,
      "outputs": [
        {
          "output_type": "execute_result",
          "data": {
            "text/plain": [
              "(36,)"
            ]
          },
          "metadata": {},
          "execution_count": 45
        }
      ]
    },
    {
      "cell_type": "markdown",
      "source": [
        "Во-вторых, на выходе не что-то одно, а две вероятности быть или не быть определенным классом.\n",
        "\n",
        "А значит на выходе имеем два нейрона, каждый из которых отвечает за класс."
      ],
      "metadata": {
        "id": "NX0Wjec0BUf0"
      }
    },
    {
      "cell_type": "markdown",
      "source": [
        "<img src='https://drive.google.com/uc?id=1BQbGhOqu8rgv25QbyHe6qljE-koEm103' width=500>"
      ],
      "metadata": {
        "id": "LxLqY_5NCHy9"
      }
    },
    {
      "cell_type": "markdown",
      "source": [
        "В-третьих, на выходном слое нужно использовать другую функцию активации, а именно sigmoid, так как она позволяет решать задачу бинарной классификации очень хорошо."
      ],
      "metadata": {
        "id": "UI2EmZawrLf8"
      }
    },
    {
      "cell_type": "code",
      "source": [
        "from keras.layers import Flatten\n",
        "tf.random.set_seed(9)\n",
        "\n",
        "model = Sequential([\n",
        "    Flatten(input_shape=(6, 6)),\n",
        "    Dense(2, activation='sigmoid')\n",
        "])\n",
        "\n",
        "model.summary()"
      ],
      "metadata": {
        "colab": {
          "base_uri": "https://localhost:8080/"
        },
        "outputId": "bfe4e7a0-43ad-4adf-e22d-779686de7b56",
        "id": "heddDO5IrLf8"
      },
      "execution_count": null,
      "outputs": [
        {
          "output_type": "stream",
          "name": "stdout",
          "text": [
            "Model: \"sequential_4\"\n",
            "_________________________________________________________________\n",
            " Layer (type)                Output Shape              Param #   \n",
            "=================================================================\n",
            " flatten (Flatten)           (None, 36)                0         \n",
            "                                                                 \n",
            " dense_5 (Dense)             (None, 2)                 74        \n",
            "                                                                 \n",
            "=================================================================\n",
            "Total params: 74\n",
            "Trainable params: 74\n",
            "Non-trainable params: 0\n",
            "_________________________________________________________________\n"
          ]
        }
      ]
    },
    {
      "cell_type": "markdown",
      "source": [
        "Считаем количество весов.\n",
        "\n",
        "Для одного нейрона - 36 входов, плюс 1 bias. Для второго нейрона тоже самое.\n",
        "\n",
        "А значит, (36 + 1) * 2 = 74 настраиваемых весов."
      ],
      "metadata": {
        "id": "0BKwDdZ4rLf9"
      }
    },
    {
      "cell_type": "markdown",
      "source": [
        "### Что оптимизируем\n",
        "\n",
        "У нас задача бинарной классификации, поэтому берем функцию потерь, которая подходит сюда.\n",
        "\n",
        "Это к примеру, бинарная кросс-энтропия.\n",
        "\n"
      ],
      "metadata": {
        "id": "3-83o1dhrLf9"
      }
    },
    {
      "cell_type": "markdown",
      "source": [
        "### Как оптимизируем\n",
        "\n",
        "Возьмем тот же самый градиентный спуск со стохастикой."
      ],
      "metadata": {
        "id": "RCpfxN4krLf-"
      }
    },
    {
      "cell_type": "code",
      "source": [
        "model.compile(optimizer='sgd', loss='binary_crossentropy', metrics='accuracy')"
      ],
      "metadata": {
        "id": "aew4ofQSrLf-"
      },
      "execution_count": null,
      "outputs": []
    },
    {
      "cell_type": "code",
      "source": [
        "%%time\n",
        "model.fit(X_train_resized, y_train_cat, epochs=5)"
      ],
      "metadata": {
        "colab": {
          "base_uri": "https://localhost:8080/"
        },
        "outputId": "891ea3f5-58d0-4b55-92e9-6f6e824f82e1",
        "id": "WBzBYAchrLf-"
      },
      "execution_count": null,
      "outputs": [
        {
          "output_type": "stream",
          "name": "stdout",
          "text": [
            "Epoch 1/5\n",
            "396/396 [==============================] - 1s 2ms/step - loss: 0.5873 - accuracy: 0.9315\n",
            "Epoch 2/5\n",
            "396/396 [==============================] - 1s 2ms/step - loss: 0.4453 - accuracy: 0.9804\n",
            "Epoch 3/5\n",
            "396/396 [==============================] - 1s 2ms/step - loss: 0.3676 - accuracy: 0.9803\n",
            "Epoch 4/5\n",
            "396/396 [==============================] - 1s 2ms/step - loss: 0.3164 - accuracy: 0.9795\n",
            "Epoch 5/5\n",
            "396/396 [==============================] - 1s 2ms/step - loss: 0.2800 - accuracy: 0.9784\n",
            "CPU times: user 4.13 s, sys: 220 ms, total: 4.35 s\n",
            "Wall time: 5.82 s\n"
          ]
        },
        {
          "output_type": "execute_result",
          "data": {
            "text/plain": [
              "<keras.callbacks.History at 0x7f221fcdf700>"
            ]
          },
          "metadata": {},
          "execution_count": 48
        }
      ]
    },
    {
      "cell_type": "markdown",
      "source": [
        "Сеть обучается, ошибка падает, метрика становится лучше, всё замечательно.\n",
        "\n",
        "Теперь проверим, а как модель работает на новых данных."
      ],
      "metadata": {
        "id": "9kX47CoHrLf_"
      }
    },
    {
      "cell_type": "markdown",
      "source": [
        "На выходе модель дает 2 вероятности:\n",
        "1. Быть нулевым классом\n",
        "2. Быть первым классом\n",
        "\n",
        "Для выбранного объекта вероятность быть первым классом гораздо выше, чем вероятность быть нулевым классом."
      ],
      "metadata": {
        "id": "-yMPaO0i92Da"
      }
    },
    {
      "cell_type": "code",
      "source": [
        "print(\"Предсказание нейронной сети: \")\n",
        "pred = model.predict(X_test_resized[:1])\n",
        "pred"
      ],
      "metadata": {
        "colab": {
          "base_uri": "https://localhost:8080/"
        },
        "outputId": "763a1869-b2bc-442a-f70d-71662259af10",
        "id": "kj_cxee_rLf_"
      },
      "execution_count": null,
      "outputs": [
        {
          "output_type": "stream",
          "name": "stdout",
          "text": [
            "Предсказание нейронной сети: \n",
            "1/1 [==============================] - 0s 61ms/step\n"
          ]
        },
        {
          "output_type": "execute_result",
          "data": {
            "text/plain": [
              "array([[0.22224663, 0.7827758 ]], dtype=float32)"
            ]
          },
          "metadata": {},
          "execution_count": 49
        }
      ]
    },
    {
      "cell_type": "markdown",
      "source": [
        "Для того, чтобы выдать финальную метку класса можем взять класс, где максимальная предсказанная вероятность."
      ],
      "metadata": {
        "id": "m6depfQz_KBL"
      }
    },
    {
      "cell_type": "code",
      "source": [
        "pred_cls = pred.argmax()\n",
        "pred_cls"
      ],
      "metadata": {
        "colab": {
          "base_uri": "https://localhost:8080/"
        },
        "id": "NHyfsh00-8yg",
        "outputId": "4e9a6934-e691-4baf-b375-546341cec1f9"
      },
      "execution_count": null,
      "outputs": [
        {
          "output_type": "execute_result",
          "data": {
            "text/plain": [
              "1"
            ]
          },
          "metadata": {},
          "execution_count": 50
        }
      ]
    },
    {
      "cell_type": "markdown",
      "source": [
        "Давайте проверим предсказание визуально."
      ],
      "metadata": {
        "id": "mOP-ZZh5_Q0h"
      }
    },
    {
      "cell_type": "code",
      "source": [
        "idx = 0\n",
        "plt.imshow(X_test_resized[idx])\n",
        "plt.title(f'pred {pred_cls}, true {y_test[idx]}');"
      ],
      "metadata": {
        "colab": {
          "base_uri": "https://localhost:8080/",
          "height": 452
        },
        "id": "LlYYEi7S-Wb9",
        "outputId": "ba388298-5476-4a11-e776-b6add2f0d606"
      },
      "execution_count": null,
      "outputs": [
        {
          "output_type": "display_data",
          "data": {
            "text/plain": [
              "<Figure size 640x480 with 1 Axes>"
            ],
            "image/png": "[encoded data removed]"
          },
          "metadata": {}
        }
      ]
    },
    {
      "cell_type": "markdown",
      "source": [
        "А это как выглядило изображение до изменения размера."
      ],
      "metadata": {
        "id": "j0rlw4pc_T8Z"
      }
    },
    {
      "cell_type": "code",
      "source": [
        "plt.imshow(X_test[idx])\n",
        "plt.title(f'pred {pred_cls}, true {y_test[idx]}');"
      ],
      "metadata": {
        "colab": {
          "base_uri": "https://localhost:8080/",
          "height": 452
        },
        "id": "UM2mFmAZ-1QP",
        "outputId": "2aac8dbc-1a5b-4ec1-d61b-b746d5c5cc42"
      },
      "execution_count": null,
      "outputs": [
        {
          "output_type": "display_data",
          "data": {
            "text/plain": [
              "<Figure size 640x480 with 1 Axes>"
            ],
            "image/png": "[encoded data removed]"
          },
          "metadata": {}
        }
      ]
    },
    {
      "cell_type": "markdown",
      "source": [
        "И проверимся на всех обучающих данных.\n",
        "\n",
        "Делаем предсказания на всех тестовых объектах."
      ],
      "metadata": {
        "id": "1c9VSeXarLf_"
      }
    },
    {
      "cell_type": "code",
      "source": [
        "preds = model.predict(X_test_resized)\n",
        "preds"
      ],
      "metadata": {
        "colab": {
          "base_uri": "https://localhost:8080/"
        },
        "outputId": "c160bc51-ccb4-4ab8-d91a-3a8e264b8689",
        "id": "HTPb3vKQrLf_"
      },
      "execution_count": null,
      "outputs": [
        {
          "output_type": "stream",
          "name": "stdout",
          "text": [
            "67/67 [==============================] - 0s 2ms/step\n"
          ]
        },
        {
          "output_type": "execute_result",
          "data": {
            "text/plain": [
              "array([[0.22224663, 0.7827758 ],\n",
              "       [0.86000854, 0.11157107],\n",
              "       [0.18950258, 0.835663  ],\n",
              "       ...,\n",
              "       [0.15445566, 0.8592201 ],\n",
              "       [0.8582548 , 0.1907618 ],\n",
              "       [0.20358486, 0.8530158 ]], dtype=float32)"
            ]
          },
          "metadata": {},
          "execution_count": 53
        }
      ]
    },
    {
      "cell_type": "markdown",
      "source": [
        "И берем метку класса, где максимальная вероятность."
      ],
      "metadata": {
        "id": "thIA48Kd_l5I"
      }
    },
    {
      "cell_type": "code",
      "source": [
        "preds_cls = preds.argmax(axis=1)\n",
        "preds_cls"
      ],
      "metadata": {
        "id": "mhO5qjCJhiH_",
        "colab": {
          "base_uri": "https://localhost:8080/"
        },
        "outputId": "c689d14d-32da-42a6-f67f-2178c28ae274"
      },
      "execution_count": null,
      "outputs": [
        {
          "output_type": "execute_result",
          "data": {
            "text/plain": [
              "array([1, 0, 1, ..., 1, 0, 1])"
            ]
          },
          "metadata": {},
          "execution_count": 54
        }
      ]
    },
    {
      "cell_type": "markdown",
      "source": [
        "И можем посчитать метрику качества."
      ],
      "metadata": {
        "id": "dVhR-hXg_yWN"
      }
    },
    {
      "cell_type": "code",
      "source": [
        "from sklearn.metrics import accuracy_score\n",
        "\n",
        "print(f'test acc: {accuracy_score(y_test, preds_cls)*100:.2f}% ({(y_test == preds_cls).sum()} out of {y_test.shape[0]})')"
      ],
      "metadata": {
        "colab": {
          "base_uri": "https://localhost:8080/"
        },
        "id": "luDjwHTj_3_M",
        "outputId": "d7821e48-9d87-4337-9763-24d343825ffd"
      },
      "execution_count": null,
      "outputs": [
        {
          "output_type": "stream",
          "name": "stdout",
          "text": [
            "test acc: 98.53% (2084 out of 2115)\n"
          ]
        }
      ]
    },
    {
      "cell_type": "markdown",
      "source": [
        "Вот так вот мы и обучили сетку на задачу классификации.\n",
        "\n",
        "А на самом деле уже обучили целых три нейронных сети за одно занятие."
      ],
      "metadata": {
        "id": "symBokEiFukt"
      }
    },
    {
      "cell_type": "markdown",
      "source": [
        "## Summary\n",
        "\n",
        "\n",
        "Вот мы и разобрались, как обучается нейронная сеть с помощью `keras`.\n"
      ],
      "metadata": {
        "id": "cKL1g6ILJiNk"
      }
    },
    {
      "cell_type": "markdown",
      "source": [
        "<img src='https://media4.giphy.com/media/UotLuplZSzKRa/giphy.gif?cid=ecf05e47dndugyowtpsxg5uk2umfodmamkkjemo5iykflhqs&rid=giphy.gif&ct=g' width=300>\n",
        "\n",
        "\n",
        "1. Получаем выборку для обучения\n",
        "    - масштабирование данных (*MinMaxScaler, StandardScaler*)\n",
        "    - Resize данных при необходимости\n",
        "    - Для классификации нужно перевести метки классов в бинарное представление  "
      ],
      "metadata": {
        "id": "jldOYbCAMv9o"
      }
    },
    {
      "cell_type": "markdown",
      "source": [
        "\n",
        "\n",
        "2. Создаем архитектуру\n",
        "    - выбираем количество входов\n",
        "    - выбираем количество слоев\n",
        "    - выбираем количество выходных нейронов\n",
        "    - выбираем функцию активации"
      ],
      "metadata": {
        "id": "niS1K8UPMx8L"
      }
    },
    {
      "cell_type": "markdown",
      "source": [
        "\n",
        "\n",
        "3. Что нужно оптимизировать\n",
        "    - выбор функции потерь\n",
        "    - из стандартных и привычных\n",
        "        - для регрессии - *MSE*\n",
        "        - для классификации - *binary_crossentropy, categorical_crossentropy*\n",
        "4. Как нужно оптимизировать\n",
        "    - выбор оптимизатора\n",
        "    - из стандартных и привычных: *sgd, adam*\n"
      ],
      "metadata": {
        "id": "kNEHLHYjNDtZ"
      }
    },
    {
      "cell_type": "markdown",
      "source": [
        "\n",
        "\n",
        "5. Компиляция модели *.compile()*\n"
      ],
      "metadata": {
        "id": "sSXSMryMNHyS"
      }
    },
    {
      "cell_type": "markdown",
      "source": [
        "6. Обучение модели *.fit()*"
      ],
      "metadata": {
        "id": "GlzmUPbLNJHB"
      }
    },
    {
      "cell_type": "markdown",
      "source": [
        "."
      ],
      "metadata": {
        "id": "Mag0xVMAQAXU"
      }
    },
    {
      "cell_type": "markdown",
      "source": [
        "<img src='https://media.giphy.com/media/gEvab1ilmJjA82FaSV/giphy.gif' width=300>\n",
        "\n",
        "7. Проверка результатов"
      ],
      "metadata": {
        "id": "wbynQKEXNKF1"
      }
    }
  ]
}